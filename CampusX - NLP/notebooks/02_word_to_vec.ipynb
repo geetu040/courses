{
  "cells": [
    {
      "cell_type": "markdown",
      "metadata": {
        "id": "niUQDGeB3Z1X"
      },
      "source": [
        "# 0. Datasets\n",
        "* https://www.kaggle.com/datasets/leadbest/googlenewsvectorsnegative300\n",
        "* https://www.kaggle.com/datasets/khulasasndh/game-of-thrones-books"
      ]
    },
    {
      "cell_type": "markdown",
      "metadata": {
        "id": "eWIn8Bfs3Z1d"
      },
      "source": [
        "# 1. Trained Model - Google News Vectors Negative 300"
      ]
    },
    {
      "cell_type": "code",
      "execution_count": null,
      "metadata": {
        "id": "m-NTz76d3Z1e"
      },
      "outputs": [],
      "source": [
        "import gensim\n",
        "from gensim.models import KeyedVectors"
      ]
    },
    {
      "cell_type": "code",
      "execution_count": null,
      "metadata": {
        "id": "qjZLZTdT3Z1g",
        "outputId": "2e722a79-42a4-4f31-cbae-a61e71602861"
      },
      "outputs": [],
      "source": [
        "word_2_vec = KeyedVectors.load_word2vec_format(\n",
        "\t'./datasets/GoogleNews-vectors-negative300.bin',\n",
        "\tbinary=True,\n",
        "\tlimit=500000\n",
        ")"
      ]
    },
    {
      "cell_type": "code",
      "execution_count": null,
      "metadata": {
        "id": "v4Q3k0hF3Z1h",
        "outputId": "5e9eb229-2f78-4368-c37b-788aec60014e"
      },
      "outputs": [
        {
          "name": "stdout",
          "output_type": "stream",
          "text": [
            "Features: 300\n"
          ]
        },
        {
          "data": {
            "text/plain": [
              "array([-0.3671875 , -0.12158203,  0.28515625,  0.08154297,  0.03198242,\n",
              "       -0.03198242,  0.13476562, -0.2734375 ,  0.00946045, -0.10742188],\n",
              "      dtype=float32)"
            ]
          },
          "execution_count": 9,
          "metadata": {},
          "output_type": "execute_result"
        }
      ],
      "source": [
        "print(\"Features:\", word_2_vec['cricket'].shape[0])\n",
        "word_2_vec['cricket'][:10]"
      ]
    },
    {
      "cell_type": "code",
      "execution_count": null,
      "metadata": {
        "id": "mkGDgxXp3Z1i",
        "outputId": "cc90725a-96e4-41fc-e95c-b2ea3b81c08f"
      },
      "outputs": [
        {
          "data": {
            "text/plain": [
              "[('cricketing', 0.8372225761413574),\n",
              " ('cricketers', 0.8165745735168457),\n",
              " ('Test_cricket', 0.8094819188117981),\n",
              " ('Twenty##_cricket', 0.8068488240242004),\n",
              " ('Twenty##', 0.7624265551567078),\n",
              " ('Cricket', 0.75413978099823),\n",
              " ('cricketer', 0.7372578382492065),\n",
              " ('twenty##', 0.7316356897354126),\n",
              " ('T##_cricket', 0.7304614186286926),\n",
              " ('West_Indies_cricket', 0.6987985968589783)]"
            ]
          },
          "execution_count": 10,
          "metadata": {},
          "output_type": "execute_result"
        }
      ],
      "source": [
        "word_2_vec.most_similar('cricket')"
      ]
    },
    {
      "cell_type": "code",
      "execution_count": null,
      "metadata": {
        "id": "ScQEjn3c3Z1j",
        "outputId": "457961e8-5091-4227-c382-82580550bd81"
      },
      "outputs": [
        {
          "data": {
            "text/plain": [
              "0.76640123"
            ]
          },
          "execution_count": 11,
          "metadata": {},
          "output_type": "execute_result"
        }
      ],
      "source": [
        "word_2_vec.similarity('man','woman')"
      ]
    },
    {
      "cell_type": "code",
      "execution_count": null,
      "metadata": {
        "id": "9VaxEPXM3Z1k",
        "outputId": "f0683533-d87f-4fe6-f190-308fec8f622f"
      },
      "outputs": [
        {
          "data": {
            "text/plain": [
              "'monkey'"
            ]
          },
          "execution_count": 12,
          "metadata": {},
          "output_type": "execute_result"
        }
      ],
      "source": [
        "word_2_vec.doesnt_match(['PHP','java','monkey'])"
      ]
    },
    {
      "cell_type": "code",
      "execution_count": null,
      "metadata": {
        "id": "9-MVNsA_3Z1l",
        "outputId": "e7afdccf-e24a-4d93-d314-5ea4e767516b"
      },
      "outputs": [
        {
          "data": {
            "text/plain": [
              "[('king', 0.8449392318725586),\n",
              " ('queen', 0.7300517559051514),\n",
              " ('monarch', 0.645466148853302),\n",
              " ('princess', 0.6156251430511475),\n",
              " ('crown_prince', 0.5818676352500916),\n",
              " ('prince', 0.5777117609977722),\n",
              " ('kings', 0.5613663792610168),\n",
              " ('sultan', 0.5376775860786438),\n",
              " ('queens', 0.5289887189865112),\n",
              " ('ruler', 0.5247419476509094)]"
            ]
          },
          "execution_count": 14,
          "metadata": {},
          "output_type": "execute_result"
        }
      ],
      "source": [
        "vec = word_2_vec['king'] - word_2_vec['man'] + word_2_vec['woman']\n",
        "word_2_vec.most_similar([vec])"
      ]
    },
    {
      "cell_type": "code",
      "execution_count": null,
      "metadata": {
        "id": "TKkeQQLS3Z1m",
        "outputId": "4f3996e4-a30c-4651-a095-20c3248af146"
      },
      "outputs": [
        {
          "data": {
            "text/plain": [
              "[('INR', 0.6442341208457947),\n",
              " ('GBP', 0.5040826797485352),\n",
              " ('England', 0.44649264216423035),\n",
              " ('£', 0.43340998888015747),\n",
              " ('Â_£', 0.4307197630405426),\n",
              " ('£_#.##m', 0.42561301589012146),\n",
              " ('Pounds_Sterling', 0.42512619495391846),\n",
              " ('GBP##', 0.42464491724967957),\n",
              " ('stg', 0.42324796319007874),\n",
              " ('£_#.###m', 0.4201711118221283)]"
            ]
          },
          "execution_count": 15,
          "metadata": {},
          "output_type": "execute_result"
        }
      ],
      "source": [
        "vec = word_2_vec['INR'] - word_2_vec ['India'] + word_2_vec['England']\n",
        "word_2_vec.most_similar([vec])"
      ]
    },
    {
      "cell_type": "markdown",
      "metadata": {
        "id": "k9R2fhHb3Z1n"
      },
      "source": [
        "# 2. Traing Model - Game of Thrones Books"
      ]
    },
    {
      "cell_type": "code",
      "execution_count": null,
      "metadata": {
        "id": "yaiNTGrb3Z1o"
      },
      "outputs": [],
      "source": [
        "import numpy as np\n",
        "import pandas as pd\n",
        "import gensim\n",
        "import os"
      ]
    },
    {
      "cell_type": "code",
      "execution_count": null,
      "metadata": {
        "id": "0acaf573"
      },
      "outputs": [],
      "source": [
        "from nltk import sent_tokenize\n",
        "from gensim.utils import simple_preprocess"
      ]
    },
    {
      "cell_type": "code",
      "execution_count": null,
      "metadata": {
        "id": "ef3fda1e",
        "outputId": "3a8d7838-80c9-4076-9b63-35f8a0837e24"
      },
      "outputs": [
        {
          "data": {
            "text/plain": [
              "['Hi.', 'How are you?', 'Hope you are fine']"
            ]
          },
          "execution_count": 8,
          "metadata": {},
          "output_type": "execute_result"
        }
      ],
      "source": [
        "sent_tokenize(\"Hi. How are you? Hope you are fine\")"
      ]
    },
    {
      "cell_type": "code",
      "execution_count": null,
      "metadata": {
        "id": "24b5456a",
        "outputId": "632d80b6-8f96-4f29-d391-ed37c67dd45d"
      },
      "outputs": [
        {
          "data": {
            "text/plain": [
              "['how', 'are', 'you']"
            ]
          },
          "execution_count": 10,
          "metadata": {},
          "output_type": "execute_result"
        }
      ],
      "source": [
        "simple_preprocess('How are you?')"
      ]
    },
    {
      "cell_type": "code",
      "execution_count": null,
      "metadata": {
        "id": "V84edhBv3Z1q",
        "outputId": "62d22c37-1cbc-44a1-d894-9aa3126ec320"
      },
      "outputs": [
        {
          "name": "stdout",
          "output_type": "stream",
          "text": [
            "001ssb.txt\n",
            "002ssb.txt\n",
            "003ssb.txt\n",
            "004ssb.txt\n",
            "005ssb.txt\n"
          ]
        }
      ],
      "source": [
        "data_url = \"./datasets/game-of-thrones-books/\"\n",
        "\n",
        "story = []\n",
        "for filename in os.listdir(data_url):\n",
        "\tprint(filename)\n",
        "\twith open(os.path.join(data_url, filename)) as f:\n",
        "\t\tcorpus = f.read()\n",
        "\t\traw_sent = sent_tokenize(corpus)\n",
        "\t\tfor sent in raw_sent:\n",
        "\t\t\tstory.append(simple_preprocess(sent))"
      ]
    },
    {
      "cell_type": "code",
      "execution_count": null,
      "metadata": {
        "id": "2XDqZi103Z1q",
        "outputId": "94337714-edf8-441a-9829-01835acc4ae9"
      },
      "outputs": [
        {
          "name": "stdout",
          "output_type": "stream",
          "text": [
            "[['game', 'of', 'thrones', 'book', 'one', 'of', 'song', 'of', 'ice', 'and', 'fire', 'by', 'george', 'martin', 'prologue', 'we', 'should', 'start', 'back', 'gared', 'urged', 'as', 'the', 'woods', 'began', 'to', 'grow', 'dark', 'around', 'them'], ['the', 'wildlings', 'are', 'dead'], ['do', 'the', 'dead', 'frighten', 'you'], ['ser', 'waymar', 'royce', 'asked', 'with', 'just', 'the', 'hint', 'of', 'smile'], ['gared', 'did', 'not', 'rise', 'to', 'the', 'bait']]\n"
          ]
        }
      ],
      "source": [
        "print(story[:5])"
      ]
    },
    {
      "cell_type": "code",
      "execution_count": null,
      "metadata": {
        "id": "DCI1ariv3Z1r"
      },
      "outputs": [],
      "source": [
        "model = gensim.models.Word2Vec(\n",
        "    window=10,      # sliding side, words to take before and after target\n",
        "    min_count=2,    # take sentences with atleast 2 words\n",
        ")"
      ]
    },
    {
      "cell_type": "code",
      "execution_count": null,
      "metadata": {
        "id": "Dwe5GjAY3Z1r"
      },
      "outputs": [],
      "source": [
        "model.build_vocab(story)"
      ]
    },
    {
      "cell_type": "code",
      "execution_count": null,
      "metadata": {
        "id": "7R2riM8i3Z1s",
        "outputId": "5594a971-c159-440a-9da7-7c1ab6a62bb3"
      },
      "outputs": [
        {
          "data": {
            "text/plain": [
              "(6569604, 8628190)"
            ]
          },
          "execution_count": 20,
          "metadata": {},
          "output_type": "execute_result"
        }
      ],
      "source": [
        "model.train(\n",
        "    story,\n",
        "    total_examples = len(story),\n",
        "    epochs = 5,\n",
        ")"
      ]
    },
    {
      "cell_type": "code",
      "execution_count": null,
      "metadata": {
        "id": "qXDA1swc3Z1s",
        "outputId": "ee70377c-9d18-4993-dfc9-018528e8d430"
      },
      "outputs": [
        {
          "data": {
            "text/plain": [
              "[('baratheon', 0.6996585726737976),\n",
              " ('realm', 0.6606312394142151),\n",
              " ('prince', 0.6487633585929871),\n",
              " ('throne', 0.6386960744857788),\n",
              " ('usurper', 0.6236034035682678),\n",
              " ('tourney', 0.6104148030281067),\n",
              " ('targaryen', 0.6072013974189758),\n",
              " ('battle', 0.586469292640686),\n",
              " ('council', 0.580899178981781),\n",
              " ('victory', 0.5770955085754395)]"
            ]
          },
          "execution_count": 21,
          "metadata": {},
          "output_type": "execute_result"
        }
      ],
      "source": [
        "model.wv.most_similar('king')"
      ]
    },
    {
      "cell_type": "code",
      "execution_count": null,
      "metadata": {
        "id": "683f518f"
      },
      "outputs": [],
      "source": [
        "y = model.wv.index_to_key"
      ]
    },
    {
      "cell_type": "code",
      "execution_count": null,
      "metadata": {
        "id": "67604c5d"
      },
      "outputs": [],
      "source": [
        "from sklearn.decomposition import PCA\n",
        "pca = PCA(n_components=3)"
      ]
    },
    {
      "cell_type": "code",
      "execution_count": null,
      "metadata": {
        "id": "cc7d0377"
      },
      "outputs": [],
      "source": [
        "X = pca.fit_transform(model.wv.get_normed_vectors())"
      ]
    },
    {
      "cell_type": "code",
      "execution_count": null,
      "metadata": {
        "id": "0511c867",
        "outputId": "28721fd1-0665-43b7-ac88-288dec94dccb"
      },
      "outputs": [
        {
          "data": {
            "text/plain": [
              "(17453, 3)"
            ]
          },
          "execution_count": 26,
          "metadata": {},
          "output_type": "execute_result"
        }
      ],
      "source": [
        "X.shape"
      ]
    },
    {
      "cell_type": "code",
      "execution_count": null,
      "metadata": {
        "id": "bb830a41",
        "outputId": "b6f638b7-1246-418c-cf9b-eb459a17fbd8"
      },
      "outputs": [
        {
          "data": {
            "application/vnd.plotly.v1+json": {
              "config": {
                "plotlyServerURL": "https://plot.ly"
              },
              "data": [
                {
                  "hovertemplate": "color=hands<br>0=%{x}<br>1=%{y}<br>2=%{z}<extra></extra>",
                  "legendgroup": "hands",
                  "marker": {
                    "color": "#636efa",
                    "symbol": "circle"
                  },
                  "mode": "markers",
                  "name": "hands",
                  "scene": "scene",
                  "showlegend": true,
                  "type": "scatter3d",
                  "x": [
                    -0.5166324377059937
                  ],
                  "y": [
                    0.4360288679599762
                  ],
                  "z": [
                    -0.24432404339313507
                  ]
                },
                {
                  "hovertemplate": "color=stannis<br>0=%{x}<br>1=%{y}<br>2=%{z}<extra></extra>",
                  "legendgroup": "stannis",
                  "marker": {
                    "color": "#EF553B",
                    "symbol": "circle"
                  },
                  "mode": "markers",
                  "name": "stannis",
                  "scene": "scene",
                  "showlegend": true,
                  "type": "scatter3d",
                  "x": [
                    -0.6464323997497559
                  ],
                  "y": [
                    -0.2774393856525421
                  ],
                  "z": [
                    0.24532340466976166
                  ]
                },
                {
                  "hovertemplate": "color=mother<br>0=%{x}<br>1=%{y}<br>2=%{z}<extra></extra>",
                  "legendgroup": "mother",
                  "marker": {
                    "color": "#00cc96",
                    "symbol": "circle"
                  },
                  "mode": "markers",
                  "name": "mother",
                  "scene": "scene",
                  "showlegend": true,
                  "type": "scatter3d",
                  "x": [
                    -0.6448858976364136
                  ],
                  "y": [
                    -0.34323984384536743
                  ],
                  "z": [
                    0.05025641247630119
                  ]
                },
                {
                  "hovertemplate": "color=catelyn<br>0=%{x}<br>1=%{y}<br>2=%{z}<extra></extra>",
                  "legendgroup": "catelyn",
                  "marker": {
                    "color": "#ab63fa",
                    "symbol": "circle"
                  },
                  "mode": "markers",
                  "name": "catelyn",
                  "scene": "scene",
                  "showlegend": true,
                  "type": "scatter3d",
                  "x": [
                    -0.5385292768478394
                  ],
                  "y": [
                    -0.1345166563987732
                  ],
                  "z": [
                    -0.10985331982374191
                  ]
                },
                {
                  "hovertemplate": "color=robert<br>0=%{x}<br>1=%{y}<br>2=%{z}<extra></extra>",
                  "legendgroup": "robert",
                  "marker": {
                    "color": "#FFA15A",
                    "symbol": "circle"
                  },
                  "mode": "markers",
                  "name": "robert",
                  "scene": "scene",
                  "showlegend": true,
                  "type": "scatter3d",
                  "x": [
                    -0.6315737962722778
                  ],
                  "y": [
                    -0.4325582981109619
                  ],
                  "z": [
                    0.06472726911306381
                  ]
                },
                {
                  "hovertemplate": "color=seemed<br>0=%{x}<br>1=%{y}<br>2=%{z}<extra></extra>",
                  "legendgroup": "seemed",
                  "marker": {
                    "color": "#19d3f3",
                    "symbol": "circle"
                  },
                  "mode": "markers",
                  "name": "seemed",
                  "scene": "scene",
                  "showlegend": true,
                  "type": "scatter3d",
                  "x": [
                    -0.6160882711410522
                  ],
                  "y": [
                    0.12635058164596558
                  ],
                  "z": [
                    -0.12046352028846741
                  ]
                },
                {
                  "hovertemplate": "color=prince<br>0=%{x}<br>1=%{y}<br>2=%{z}<extra></extra>",
                  "legendgroup": "prince",
                  "marker": {
                    "color": "#FF6692",
                    "symbol": "circle"
                  },
                  "mode": "markers",
                  "name": "prince",
                  "scene": "scene",
                  "showlegend": true,
                  "type": "scatter3d",
                  "x": [
                    -0.5963289141654968
                  ],
                  "y": [
                    -0.4627262055873871
                  ],
                  "z": [
                    0.0068453834392130375
                  ]
                },
                {
                  "hovertemplate": "color=may<br>0=%{x}<br>1=%{y}<br>2=%{z}<extra></extra>",
                  "legendgroup": "may",
                  "marker": {
                    "color": "#B6E880",
                    "symbol": "circle"
                  },
                  "mode": "markers",
                  "name": "may",
                  "scene": "scene",
                  "showlegend": true,
                  "type": "scatter3d",
                  "x": [
                    -0.7061557173728943
                  ],
                  "y": [
                    -0.3955051302909851
                  ],
                  "z": [
                    0.04178757965564728
                  ]
                },
                {
                  "hovertemplate": "color=ever<br>0=%{x}<br>1=%{y}<br>2=%{z}<extra></extra>",
                  "legendgroup": "ever",
                  "marker": {
                    "color": "#FF97FF",
                    "symbol": "circle"
                  },
                  "mode": "markers",
                  "name": "ever",
                  "scene": "scene",
                  "showlegend": true,
                  "type": "scatter3d",
                  "x": [
                    -0.7155900597572327
                  ],
                  "y": [
                    -0.24571539461612701
                  ],
                  "z": [
                    0.10190823674201965
                  ]
                },
                {
                  "hovertemplate": "color=robb<br>0=%{x}<br>1=%{y}<br>2=%{z}<extra></extra>",
                  "legendgroup": "robb",
                  "marker": {
                    "color": "#FECB52",
                    "symbol": "circle"
                  },
                  "mode": "markers",
                  "name": "robb",
                  "scene": "scene",
                  "showlegend": true,
                  "type": "scatter3d",
                  "x": [
                    -0.6119003891944885
                  ],
                  "y": [
                    -0.27837392687797546
                  ],
                  "z": [
                    -0.003915582317858934
                  ]
                },
                {
                  "hovertemplate": "color=done<br>0=%{x}<br>1=%{y}<br>2=%{z}<extra></extra>",
                  "legendgroup": "done",
                  "marker": {
                    "color": "#636efa",
                    "symbol": "circle"
                  },
                  "mode": "markers",
                  "name": "done",
                  "scene": "scene",
                  "showlegend": true,
                  "type": "scatter3d",
                  "x": [
                    -0.7659319043159485
                  ],
                  "y": [
                    -0.2817215621471405
                  ],
                  "z": [
                    -0.03726749122142792
                  ]
                },
                {
                  "hovertemplate": "color=don<br>0=%{x}<br>1=%{y}<br>2=%{z}<extra></extra>",
                  "legendgroup": "don",
                  "marker": {
                    "color": "#EF553B",
                    "symbol": "circle"
                  },
                  "mode": "markers",
                  "name": "don",
                  "scene": "scene",
                  "showlegend": true,
                  "type": "scatter3d",
                  "x": [
                    -0.666720986366272
                  ],
                  "y": [
                    -0.30414676666259766
                  ],
                  "z": [
                    -0.1579516977071762
                  ]
                },
                {
                  "hovertemplate": "color=find<br>0=%{x}<br>1=%{y}<br>2=%{z}<extra></extra>",
                  "legendgroup": "find",
                  "marker": {
                    "color": "#00cc96",
                    "symbol": "circle"
                  },
                  "mode": "markers",
                  "name": "find",
                  "scene": "scene",
                  "showlegend": true,
                  "type": "scatter3d",
                  "x": [
                    -0.7390592694282532
                  ],
                  "y": [
                    -0.20736034214496613
                  ],
                  "z": [
                    -0.08138279616832733
                  ]
                },
                {
                  "hovertemplate": "color=lannister<br>0=%{x}<br>1=%{y}<br>2=%{z}<extra></extra>",
                  "legendgroup": "lannister",
                  "marker": {
                    "color": "#ab63fa",
                    "symbol": "circle"
                  },
                  "mode": "markers",
                  "name": "lannister",
                  "scene": "scene",
                  "showlegend": true,
                  "type": "scatter3d",
                  "x": [
                    -0.5016990900039673
                  ],
                  "y": [
                    -0.30235981941223145
                  ],
                  "z": [
                    0.06114776059985161
                  ]
                },
                {
                  "hovertemplate": "color=re<br>0=%{x}<br>1=%{y}<br>2=%{z}<extra></extra>",
                  "legendgroup": "re",
                  "marker": {
                    "color": "#FFA15A",
                    "symbol": "circle"
                  },
                  "mode": "markers",
                  "name": "re",
                  "scene": "scene",
                  "showlegend": true,
                  "type": "scatter3d",
                  "x": [
                    -0.664251983165741
                  ],
                  "y": [
                    -0.1940760761499405
                  ],
                  "z": [
                    -0.054611943662166595
                  ]
                },
                {
                  "hovertemplate": "color=hear<br>0=%{x}<br>1=%{y}<br>2=%{z}<extra></extra>",
                  "legendgroup": "hear",
                  "marker": {
                    "color": "#19d3f3",
                    "symbol": "circle"
                  },
                  "mode": "markers",
                  "name": "hear",
                  "scene": "scene",
                  "showlegend": true,
                  "type": "scatter3d",
                  "x": [
                    -0.6819397807121277
                  ],
                  "y": [
                    0.0036589845549315214
                  ],
                  "z": [
                    -0.18915604054927826
                  ]
                },
                {
                  "hovertemplate": "color=grey<br>0=%{x}<br>1=%{y}<br>2=%{z}<extra></extra>",
                  "legendgroup": "grey",
                  "marker": {
                    "color": "#FF6692",
                    "symbol": "circle"
                  },
                  "mode": "markers",
                  "name": "grey",
                  "scene": "scene",
                  "showlegend": true,
                  "type": "scatter3d",
                  "x": [
                    -0.20420153439044952
                  ],
                  "y": [
                    0.5147679448127747
                  ],
                  "z": [
                    0.06920750439167023
                  ]
                },
                {
                  "hovertemplate": "color=name<br>0=%{x}<br>1=%{y}<br>2=%{z}<extra></extra>",
                  "legendgroup": "name",
                  "marker": {
                    "color": "#B6E880",
                    "symbol": "circle"
                  },
                  "mode": "markers",
                  "name": "name",
                  "scene": "scene",
                  "showlegend": true,
                  "type": "scatter3d",
                  "x": [
                    -0.7576094269752502
                  ],
                  "y": [
                    -0.37749767303466797
                  ],
                  "z": [
                    0.05449104681611061
                  ]
                },
                {
                  "hovertemplate": "color=horse<br>0=%{x}<br>1=%{y}<br>2=%{z}<extra></extra>",
                  "legendgroup": "horse",
                  "marker": {
                    "color": "#FF97FF",
                    "symbol": "circle"
                  },
                  "mode": "markers",
                  "name": "horse",
                  "scene": "scene",
                  "showlegend": true,
                  "type": "scatter3d",
                  "x": [
                    -0.5016273856163025
                  ],
                  "y": [
                    0.4870339035987854
                  ],
                  "z": [
                    -0.15863396227359772
                  ]
                },
                {
                  "hovertemplate": "color=high<br>0=%{x}<br>1=%{y}<br>2=%{z}<extra></extra>",
                  "legendgroup": "high",
                  "marker": {
                    "color": "#FECB52",
                    "symbol": "circle"
                  },
                  "mode": "markers",
                  "name": "high",
                  "scene": "scene",
                  "showlegend": true,
                  "type": "scatter3d",
                  "x": [
                    -0.32192590832710266
                  ],
                  "y": [
                    0.21337845921516418
                  ],
                  "z": [
                    0.3471122086048126
                  ]
                },
                {
                  "hovertemplate": "color=put<br>0=%{x}<br>1=%{y}<br>2=%{z}<extra></extra>",
                  "legendgroup": "put",
                  "marker": {
                    "color": "#636efa",
                    "symbol": "circle"
                  },
                  "mode": "markers",
                  "name": "put",
                  "scene": "scene",
                  "showlegend": true,
                  "type": "scatter3d",
                  "x": [
                    -0.6572953462600708
                  ],
                  "y": [
                    -0.04297730326652527
                  ],
                  "z": [
                    -0.3950529098510742
                  ]
                },
                {
                  "hovertemplate": "color=stone<br>0=%{x}<br>1=%{y}<br>2=%{z}<extra></extra>",
                  "legendgroup": "stone",
                  "marker": {
                    "color": "#EF553B",
                    "symbol": "circle"
                  },
                  "mode": "markers",
                  "name": "stone",
                  "scene": "scene",
                  "showlegend": true,
                  "type": "scatter3d",
                  "x": [
                    -0.2838098704814911
                  ],
                  "y": [
                    0.6973659992218018
                  ],
                  "z": [
                    0.3018648028373718
                  ]
                },
                {
                  "hovertemplate": "color=wine<br>0=%{x}<br>1=%{y}<br>2=%{z}<extra></extra>",
                  "legendgroup": "wine",
                  "marker": {
                    "color": "#00cc96",
                    "symbol": "circle"
                  },
                  "mode": "markers",
                  "name": "wine",
                  "scene": "scene",
                  "showlegend": true,
                  "type": "scatter3d",
                  "x": [
                    -0.46231934428215027
                  ],
                  "y": [
                    0.2179029881954193
                  ],
                  "z": [
                    -0.18810783326625824
                  ]
                },
                {
                  "hovertemplate": "color=hard<br>0=%{x}<br>1=%{y}<br>2=%{z}<extra></extra>",
                  "legendgroup": "hard",
                  "marker": {
                    "color": "#ab63fa",
                    "symbol": "circle"
                  },
                  "mode": "markers",
                  "name": "hard",
                  "scene": "scene",
                  "showlegend": true,
                  "type": "scatter3d",
                  "x": [
                    -0.5161798596382141
                  ],
                  "y": [
                    0.5024341940879822
                  ],
                  "z": [
                    -0.18108880519866943
                  ]
                },
                {
                  "hovertemplate": "color=water<br>0=%{x}<br>1=%{y}<br>2=%{z}<extra></extra>",
                  "legendgroup": "water",
                  "marker": {
                    "color": "#FFA15A",
                    "symbol": "circle"
                  },
                  "mode": "markers",
                  "name": "water",
                  "scene": "scene",
                  "showlegend": true,
                  "type": "scatter3d",
                  "x": [
                    -0.435503751039505
                  ],
                  "y": [
                    0.7200837135314941
                  ],
                  "z": [
                    0.028159016743302345
                  ]
                },
                {
                  "hovertemplate": "color=upon<br>0=%{x}<br>1=%{y}<br>2=%{z}<extra></extra>",
                  "legendgroup": "upon",
                  "marker": {
                    "color": "#19d3f3",
                    "symbol": "circle"
                  },
                  "mode": "markers",
                  "name": "upon",
                  "scene": "scene",
                  "showlegend": true,
                  "type": "scatter3d",
                  "x": [
                    -0.47850510478019714
                  ],
                  "y": [
                    0.2407311350107193
                  ],
                  "z": [
                    0.05216514691710472
                  ]
                },
                {
                  "hovertemplate": "color=fire<br>0=%{x}<br>1=%{y}<br>2=%{z}<extra></extra>",
                  "legendgroup": "fire",
                  "marker": {
                    "color": "#FF6692",
                    "symbol": "circle"
                  },
                  "mode": "markers",
                  "name": "fire",
                  "scene": "scene",
                  "showlegend": true,
                  "type": "scatter3d",
                  "x": [
                    -0.5187239646911621
                  ],
                  "y": [
                    0.6646447777748108
                  ],
                  "z": [
                    0.21189358830451965
                  ]
                },
                {
                  "hovertemplate": "color=iron<br>0=%{x}<br>1=%{y}<br>2=%{z}<extra></extra>",
                  "legendgroup": "iron",
                  "marker": {
                    "color": "#B6E880",
                    "symbol": "circle"
                  },
                  "mode": "markers",
                  "name": "iron",
                  "scene": "scene",
                  "showlegend": true,
                  "type": "scatter3d",
                  "x": [
                    -0.3666013181209564
                  ],
                  "y": [
                    0.30697497725486755
                  ],
                  "z": [
                    0.3049635589122772
                  ]
                },
                {
                  "hovertemplate": "color=until<br>0=%{x}<br>1=%{y}<br>2=%{z}<extra></extra>",
                  "legendgroup": "until",
                  "marker": {
                    "color": "#FF97FF",
                    "symbol": "circle"
                  },
                  "mode": "markers",
                  "name": "until",
                  "scene": "scene",
                  "showlegend": true,
                  "type": "scatter3d",
                  "x": [
                    -0.6995481848716736
                  ],
                  "y": [
                    0.289239764213562
                  ],
                  "z": [
                    -0.12002689391374588
                  ]
                },
                {
                  "hovertemplate": "color=these<br>0=%{x}<br>1=%{y}<br>2=%{z}<extra></extra>",
                  "legendgroup": "these",
                  "marker": {
                    "color": "#FECB52",
                    "symbol": "circle"
                  },
                  "mode": "markers",
                  "name": "these",
                  "scene": "scene",
                  "showlegend": true,
                  "type": "scatter3d",
                  "x": [
                    -0.6198936700820923
                  ],
                  "y": [
                    -0.26188063621520996
                  ],
                  "z": [
                    0.6332640647888184
                  ]
                },
                {
                  "hovertemplate": "color=voice<br>0=%{x}<br>1=%{y}<br>2=%{z}<extra></extra>",
                  "legendgroup": "voice",
                  "marker": {
                    "color": "#636efa",
                    "symbol": "circle"
                  },
                  "mode": "markers",
                  "name": "voice",
                  "scene": "scene",
                  "showlegend": true,
                  "type": "scatter3d",
                  "x": [
                    -0.5219343304634094
                  ],
                  "y": [
                    0.11604469269514084
                  ],
                  "z": [
                    -0.2897094190120697
                  ]
                },
                {
                  "hovertemplate": "color=gone<br>0=%{x}<br>1=%{y}<br>2=%{z}<extra></extra>",
                  "legendgroup": "gone",
                  "marker": {
                    "color": "#EF553B",
                    "symbol": "circle"
                  },
                  "mode": "markers",
                  "name": "gone",
                  "scene": "scene",
                  "showlegend": true,
                  "type": "scatter3d",
                  "x": [
                    -0.6513966917991638
                  ],
                  "y": [
                    0.11715863645076752
                  ],
                  "z": [
                    -0.05449715629220009
                  ]
                },
                {
                  "hovertemplate": "color=give<br>0=%{x}<br>1=%{y}<br>2=%{z}<extra></extra>",
                  "legendgroup": "give",
                  "marker": {
                    "color": "#00cc96",
                    "symbol": "circle"
                  },
                  "mode": "markers",
                  "name": "give",
                  "scene": "scene",
                  "showlegend": true,
                  "type": "scatter3d",
                  "x": [
                    -0.6778371334075928
                  ],
                  "y": [
                    -0.3788796067237854
                  ],
                  "z": [
                    -0.17509253323078156
                  ]
                },
                {
                  "hovertemplate": "color=sam<br>0=%{x}<br>1=%{y}<br>2=%{z}<extra></extra>",
                  "legendgroup": "sam",
                  "marker": {
                    "color": "#ab63fa",
                    "symbol": "circle"
                  },
                  "mode": "markers",
                  "name": "sam",
                  "scene": "scene",
                  "showlegend": true,
                  "type": "scatter3d",
                  "x": [
                    -0.5878780484199524
                  ],
                  "y": [
                    0.1729511022567749
                  ],
                  "z": [
                    -0.2559956908226013
                  ]
                },
                {
                  "hovertemplate": "color=seen<br>0=%{x}<br>1=%{y}<br>2=%{z}<extra></extra>",
                  "legendgroup": "seen",
                  "marker": {
                    "color": "#FFA15A",
                    "symbol": "circle"
                  },
                  "mode": "markers",
                  "name": "seen",
                  "scene": "scene",
                  "showlegend": true,
                  "type": "scatter3d",
                  "x": [
                    -0.6645168662071228
                  ],
                  "y": [
                    0.03443374112248421
                  ],
                  "z": [
                    0.036318883299827576
                  ]
                },
                {
                  "hovertemplate": "color=better<br>0=%{x}<br>1=%{y}<br>2=%{z}<extra></extra>",
                  "legendgroup": "better",
                  "marker": {
                    "color": "#19d3f3",
                    "symbol": "circle"
                  },
                  "mode": "markers",
                  "name": "better",
                  "scene": "scene",
                  "showlegend": true,
                  "type": "scatter3d",
                  "x": [
                    -0.6637166738510132
                  ],
                  "y": [
                    -0.27929607033729553
                  ],
                  "z": [
                    0.0688706636428833
                  ]
                },
                {
                  "hovertemplate": "color=shall<br>0=%{x}<br>1=%{y}<br>2=%{z}<extra></extra>",
                  "legendgroup": "shall",
                  "marker": {
                    "color": "#FF6692",
                    "symbol": "circle"
                  },
                  "mode": "markers",
                  "name": "shall",
                  "scene": "scene",
                  "showlegend": true,
                  "type": "scatter3d",
                  "x": [
                    -0.6612712740898132
                  ],
                  "y": [
                    -0.3568207621574402
                  ],
                  "z": [
                    0.11232422292232513
                  ]
                },
                {
                  "hovertemplate": "color=ned<br>0=%{x}<br>1=%{y}<br>2=%{z}<extra></extra>",
                  "legendgroup": "ned",
                  "marker": {
                    "color": "#B6E880",
                    "symbol": "circle"
                  },
                  "mode": "markers",
                  "name": "ned",
                  "scene": "scene",
                  "showlegend": true,
                  "type": "scatter3d",
                  "x": [
                    -0.5796999335289001
                  ],
                  "y": [
                    -0.16770878434181213
                  ],
                  "z": [
                    -0.12880782783031464
                  ]
                },
                {
                  "hovertemplate": "color=always<br>0=%{x}<br>1=%{y}<br>2=%{z}<extra></extra>",
                  "legendgroup": "always",
                  "marker": {
                    "color": "#FF97FF",
                    "symbol": "circle"
                  },
                  "mode": "markers",
                  "name": "always",
                  "scene": "scene",
                  "showlegend": true,
                  "type": "scatter3d",
                  "x": [
                    -0.6820055246353149
                  ],
                  "y": [
                    -0.271821528673172
                  ],
                  "z": [
                    0.06643715500831604
                  ]
                },
                {
                  "hovertemplate": "color=years<br>0=%{x}<br>1=%{y}<br>2=%{z}<extra></extra>",
                  "legendgroup": "years",
                  "marker": {
                    "color": "#FECB52",
                    "symbol": "circle"
                  },
                  "mode": "markers",
                  "name": "years",
                  "scene": "scene",
                  "showlegend": true,
                  "type": "scatter3d",
                  "x": [
                    -0.6226434111595154
                  ],
                  "y": [
                    -0.15951769053936005
                  ],
                  "z": [
                    0.3693343997001648
                  ]
                },
                {
                  "hovertemplate": "color=between<br>0=%{x}<br>1=%{y}<br>2=%{z}<extra></extra>",
                  "legendgroup": "between",
                  "marker": {
                    "color": "#636efa",
                    "symbol": "circle"
                  },
                  "mode": "markers",
                  "name": "between",
                  "scene": "scene",
                  "showlegend": true,
                  "type": "scatter3d",
                  "x": [
                    -0.36037755012512207
                  ],
                  "y": [
                    0.5023365020751953
                  ],
                  "z": [
                    -0.13220635056495667
                  ]
                },
                {
                  "hovertemplate": "color=dark<br>0=%{x}<br>1=%{y}<br>2=%{z}<extra></extra>",
                  "legendgroup": "dark",
                  "marker": {
                    "color": "#EF553B",
                    "symbol": "circle"
                  },
                  "mode": "markers",
                  "name": "dark",
                  "scene": "scene",
                  "showlegend": true,
                  "type": "scatter3d",
                  "x": [
                    -0.34278902411460876
                  ],
                  "y": [
                    0.6277737617492676
                  ],
                  "z": [
                    0.12209918349981308
                  ]
                },
                {
                  "hovertemplate": "color=place<br>0=%{x}<br>1=%{y}<br>2=%{z}<extra></extra>",
                  "legendgroup": "place",
                  "marker": {
                    "color": "#00cc96",
                    "symbol": "circle"
                  },
                  "mode": "markers",
                  "name": "place",
                  "scene": "scene",
                  "showlegend": true,
                  "type": "scatter3d",
                  "x": [
                    -0.7243974804878235
                  ],
                  "y": [
                    0.010338089428842068
                  ],
                  "z": [
                    0.3014986217021942
                  ]
                },
                {
                  "hovertemplate": "color=small<br>0=%{x}<br>1=%{y}<br>2=%{z}<extra></extra>",
                  "legendgroup": "small",
                  "marker": {
                    "color": "#ab63fa",
                    "symbol": "circle"
                  },
                  "mode": "markers",
                  "name": "small",
                  "scene": "scene",
                  "showlegend": true,
                  "type": "scatter3d",
                  "x": [
                    -0.2841823101043701
                  ],
                  "y": [
                    0.2902635633945465
                  ],
                  "z": [
                    0.2838512659072876
                  ]
                },
                {
                  "hovertemplate": "color=cold<br>0=%{x}<br>1=%{y}<br>2=%{z}<extra></extra>",
                  "legendgroup": "cold",
                  "marker": {
                    "color": "#FFA15A",
                    "symbol": "circle"
                  },
                  "mode": "markers",
                  "name": "cold",
                  "scene": "scene",
                  "showlegend": true,
                  "type": "scatter3d",
                  "x": [
                    -0.5365848541259766
                  ],
                  "y": [
                    0.5359442234039307
                  ],
                  "z": [
                    -0.029064679518342018
                  ]
                },
                {
                  "hovertemplate": "color=winterfell<br>0=%{x}<br>1=%{y}<br>2=%{z}<extra></extra>",
                  "legendgroup": "winterfell",
                  "marker": {
                    "color": "#19d3f3",
                    "symbol": "circle"
                  },
                  "mode": "markers",
                  "name": "winterfell",
                  "scene": "scene",
                  "showlegend": true,
                  "type": "scatter3d",
                  "x": [
                    -0.681026041507721
                  ],
                  "y": [
                    -0.17246434092521667
                  ],
                  "z": [
                    0.29920703172683716
                  ]
                },
                {
                  "hovertemplate": "color=most<br>0=%{x}<br>1=%{y}<br>2=%{z}<extra></extra>",
                  "legendgroup": "most",
                  "marker": {
                    "color": "#FF6692",
                    "symbol": "circle"
                  },
                  "mode": "markers",
                  "name": "most",
                  "scene": "scene",
                  "showlegend": true,
                  "type": "scatter3d",
                  "x": [
                    -0.5903750061988831
                  ],
                  "y": [
                    -0.2999769449234009
                  ],
                  "z": [
                    0.5404090881347656
                  ]
                },
                {
                  "hovertemplate": "color=hundred<br>0=%{x}<br>1=%{y}<br>2=%{z}<extra></extra>",
                  "legendgroup": "hundred",
                  "marker": {
                    "color": "#B6E880",
                    "symbol": "circle"
                  },
                  "mode": "markers",
                  "name": "hundred",
                  "scene": "scene",
                  "showlegend": true,
                  "type": "scatter3d",
                  "x": [
                    -0.41428399085998535
                  ],
                  "y": [
                    0.089680977165699
                  ],
                  "z": [
                    0.591873824596405
                  ]
                },
                {
                  "hovertemplate": "color=stood<br>0=%{x}<br>1=%{y}<br>2=%{z}<extra></extra>",
                  "legendgroup": "stood",
                  "marker": {
                    "color": "#FF97FF",
                    "symbol": "circle"
                  },
                  "mode": "markers",
                  "name": "stood",
                  "scene": "scene",
                  "showlegend": true,
                  "type": "scatter3d",
                  "x": [
                    -0.3625858724117279
                  ],
                  "y": [
                    0.3581230938434601
                  ],
                  "z": [
                    -0.05381706729531288
                  ]
                },
                {
                  "hovertemplate": "color=end<br>0=%{x}<br>1=%{y}<br>2=%{z}<extra></extra>",
                  "legendgroup": "end",
                  "marker": {
                    "color": "#FECB52",
                    "symbol": "circle"
                  },
                  "mode": "markers",
                  "name": "end",
                  "scene": "scene",
                  "showlegend": true,
                  "type": "scatter3d",
                  "x": [
                    -0.6763197183609009
                  ],
                  "y": [
                    0.08388200402259827
                  ],
                  "z": [
                    0.23866045475006104
                  ]
                },
                {
                  "hovertemplate": "color=sister<br>0=%{x}<br>1=%{y}<br>2=%{z}<extra></extra>",
                  "legendgroup": "sister",
                  "marker": {
                    "color": "#636efa",
                    "symbol": "circle"
                  },
                  "mode": "markers",
                  "name": "sister",
                  "scene": "scene",
                  "showlegend": true,
                  "type": "scatter3d",
                  "x": [
                    -0.6823331117630005
                  ],
                  "y": [
                    -0.42111703753471375
                  ],
                  "z": [
                    -0.101203054189682
                  ]
                },
                {
                  "hovertemplate": "color=words<br>0=%{x}<br>1=%{y}<br>2=%{z}<extra></extra>",
                  "legendgroup": "words",
                  "marker": {
                    "color": "#EF553B",
                    "symbol": "circle"
                  },
                  "mode": "markers",
                  "name": "words",
                  "scene": "scene",
                  "showlegend": true,
                  "type": "scatter3d",
                  "x": [
                    -0.7137272953987122
                  ],
                  "y": [
                    -0.06214069575071335
                  ],
                  "z": [
                    -0.07018257677555084
                  ]
                },
                {
                  "hovertemplate": "color=sea<br>0=%{x}<br>1=%{y}<br>2=%{z}<extra></extra>",
                  "legendgroup": "sea",
                  "marker": {
                    "color": "#00cc96",
                    "symbol": "circle"
                  },
                  "mode": "markers",
                  "name": "sea",
                  "scene": "scene",
                  "showlegend": true,
                  "type": "scatter3d",
                  "x": [
                    -0.5538049340248108
                  ],
                  "y": [
                    0.27811405062675476
                  ],
                  "z": [
                    0.5806957483291626
                  ]
                },
                {
                  "hovertemplate": "color=right<br>0=%{x}<br>1=%{y}<br>2=%{z}<extra></extra>",
                  "legendgroup": "right",
                  "marker": {
                    "color": "#ab63fa",
                    "symbol": "circle"
                  },
                  "mode": "markers",
                  "name": "right",
                  "scene": "scene",
                  "showlegend": true,
                  "type": "scatter3d",
                  "x": [
                    -0.6208338141441345
                  ],
                  "y": [
                    0.2756388485431671
                  ],
                  "z": [
                    -0.21845228970050812
                  ]
                },
                {
                  "hovertemplate": "color=nothing<br>0=%{x}<br>1=%{y}<br>2=%{z}<extra></extra>",
                  "legendgroup": "nothing",
                  "marker": {
                    "color": "#FFA15A",
                    "symbol": "circle"
                  },
                  "mode": "markers",
                  "name": "nothing",
                  "scene": "scene",
                  "showlegend": true,
                  "type": "scatter3d",
                  "x": [
                    -0.6868341565132141
                  ],
                  "y": [
                    -0.03948156163096428
                  ],
                  "z": [
                    0.12156064063310623
                  ]
                },
                {
                  "hovertemplate": "color=walls<br>0=%{x}<br>1=%{y}<br>2=%{z}<extra></extra>",
                  "legendgroup": "walls",
                  "marker": {
                    "color": "#19d3f3",
                    "symbol": "circle"
                  },
                  "mode": "markers",
                  "name": "walls",
                  "scene": "scene",
                  "showlegend": true,
                  "type": "scatter3d",
                  "x": [
                    -0.41298314929008484
                  ],
                  "y": [
                    0.5419219136238098
                  ],
                  "z": [
                    0.5651727318763733
                  ]
                },
                {
                  "hovertemplate": "color=fingers<br>0=%{x}<br>1=%{y}<br>2=%{z}<extra></extra>",
                  "legendgroup": "fingers",
                  "marker": {
                    "color": "#FF6692",
                    "symbol": "circle"
                  },
                  "mode": "markers",
                  "name": "fingers",
                  "scene": "scene",
                  "showlegend": true,
                  "type": "scatter3d",
                  "x": [
                    -0.43915069103240967
                  ],
                  "y": [
                    0.5947184562683105
                  ],
                  "z": [
                    -0.34534260630607605
                  ]
                },
                {
                  "hovertemplate": "color=same<br>0=%{x}<br>1=%{y}<br>2=%{z}<extra></extra>",
                  "legendgroup": "same",
                  "marker": {
                    "color": "#B6E880",
                    "symbol": "circle"
                  },
                  "mode": "markers",
                  "name": "same",
                  "scene": "scene",
                  "showlegend": true,
                  "type": "scatter3d",
                  "x": [
                    -0.6902706027030945
                  ],
                  "y": [
                    -0.07634438574314117
                  ],
                  "z": [
                    0.060906246304512024
                  ]
                },
                {
                  "hovertemplate": "color=cloak<br>0=%{x}<br>1=%{y}<br>2=%{z}<extra></extra>",
                  "legendgroup": "cloak",
                  "marker": {
                    "color": "#FF97FF",
                    "symbol": "circle"
                  },
                  "mode": "markers",
                  "name": "cloak",
                  "scene": "scene",
                  "showlegend": true,
                  "type": "scatter3d",
                  "x": [
                    -0.32635316252708435
                  ],
                  "y": [
                    0.5096580982208252
                  ],
                  "z": [
                    -0.1961536854505539
                  ]
                },
                {
                  "hovertemplate": "color=house<br>0=%{x}<br>1=%{y}<br>2=%{z}<extra></extra>",
                  "legendgroup": "house",
                  "marker": {
                    "color": "#FECB52",
                    "symbol": "circle"
                  },
                  "mode": "markers",
                  "name": "house",
                  "scene": "scene",
                  "showlegend": true,
                  "type": "scatter3d",
                  "x": [
                    -0.40728241205215454
                  ],
                  "y": [
                    -0.25835612416267395
                  ],
                  "z": [
                    0.3055807650089264
                  ]
                },
                {
                  "hovertemplate": "color=young<br>0=%{x}<br>1=%{y}<br>2=%{z}<extra></extra>",
                  "legendgroup": "young",
                  "marker": {
                    "color": "#636efa",
                    "symbol": "circle"
                  },
                  "mode": "markers",
                  "name": "young",
                  "scene": "scene",
                  "showlegend": true,
                  "type": "scatter3d",
                  "x": [
                    -0.46938157081604004
                  ],
                  "y": [
                    -0.39968106150627136
                  ],
                  "z": [
                    0.04099366441369057
                  ]
                },
                {
                  "hovertemplate": "color=does<br>0=%{x}<br>1=%{y}<br>2=%{z}<extra></extra>",
                  "legendgroup": "does",
                  "marker": {
                    "color": "#EF553B",
                    "symbol": "circle"
                  },
                  "mode": "markers",
                  "name": "does",
                  "scene": "scene",
                  "showlegend": true,
                  "type": "scatter3d",
                  "x": [
                    -0.6755346059799194
                  ],
                  "y": [
                    -0.46453022956848145
                  ],
                  "z": [
                    -0.11789718270301819
                  ]
                },
                {
                  "hovertemplate": "color=beside<br>0=%{x}<br>1=%{y}<br>2=%{z}<extra></extra>",
                  "legendgroup": "beside",
                  "marker": {
                    "color": "#00cc96",
                    "symbol": "circle"
                  },
                  "mode": "markers",
                  "name": "beside",
                  "scene": "scene",
                  "showlegend": true,
                  "type": "scatter3d",
                  "x": [
                    -0.3956194519996643
                  ],
                  "y": [
                    0.3136787414550781
                  ],
                  "z": [
                    -0.26936283707618713
                  ]
                },
                {
                  "hovertemplate": "color=get<br>0=%{x}<br>1=%{y}<br>2=%{z}<extra></extra>",
                  "legendgroup": "get",
                  "marker": {
                    "color": "#ab63fa",
                    "symbol": "circle"
                  },
                  "mode": "markers",
                  "name": "get",
                  "scene": "scene",
                  "showlegend": true,
                  "type": "scatter3d",
                  "x": [
                    -0.7443755269050598
                  ],
                  "y": [
                    0.0197688527405262
                  ],
                  "z": [
                    -0.19388212263584137
                  ]
                },
                {
                  "hovertemplate": "color=mouth<br>0=%{x}<br>1=%{y}<br>2=%{z}<extra></extra>",
                  "legendgroup": "mouth",
                  "marker": {
                    "color": "#FFA15A",
                    "symbol": "circle"
                  },
                  "mode": "markers",
                  "name": "mouth",
                  "scene": "scene",
                  "showlegend": true,
                  "type": "scatter3d",
                  "x": [
                    -0.48371297121047974
                  ],
                  "y": [
                    0.5059872269630432
                  ],
                  "z": [
                    -0.41362079977989197
                  ]
                },
                {
                  "hovertemplate": "color=seven<br>0=%{x}<br>1=%{y}<br>2=%{z}<extra></extra>",
                  "legendgroup": "seven",
                  "marker": {
                    "color": "#19d3f3",
                    "symbol": "circle"
                  },
                  "mode": "markers",
                  "name": "seven",
                  "scene": "scene",
                  "showlegend": true,
                  "type": "scatter3d",
                  "x": [
                    -0.5579496026039124
                  ],
                  "y": [
                    -0.2078913003206253
                  ],
                  "z": [
                    0.7392672896385193
                  ]
                },
                {
                  "hovertemplate": "color=watch<br>0=%{x}<br>1=%{y}<br>2=%{z}<extra></extra>",
                  "legendgroup": "watch",
                  "marker": {
                    "color": "#FF6692",
                    "symbol": "circle"
                  },
                  "mode": "markers",
                  "name": "watch",
                  "scene": "scene",
                  "showlegend": true,
                  "type": "scatter3d",
                  "x": [
                    -0.6586876511573792
                  ],
                  "y": [
                    -0.18196187913417816
                  ],
                  "z": [
                    0.26791098713874817
                  ]
                },
                {
                  "hovertemplate": "color=door<br>0=%{x}<br>1=%{y}<br>2=%{z}<extra></extra>",
                  "legendgroup": "door",
                  "marker": {
                    "color": "#B6E880",
                    "symbol": "circle"
                  },
                  "mode": "markers",
                  "name": "door",
                  "scene": "scene",
                  "showlegend": true,
                  "type": "scatter3d",
                  "x": [
                    -0.5031376481056213
                  ],
                  "y": [
                    0.5328890681266785
                  ],
                  "z": [
                    -0.17047056555747986
                  ]
                },
                {
                  "hovertemplate": "color=joffrey<br>0=%{x}<br>1=%{y}<br>2=%{z}<extra></extra>",
                  "legendgroup": "joffrey",
                  "marker": {
                    "color": "#FF97FF",
                    "symbol": "circle"
                  },
                  "mode": "markers",
                  "name": "joffrey",
                  "scene": "scene",
                  "showlegend": true,
                  "type": "scatter3d",
                  "x": [
                    -0.6157663464546204
                  ],
                  "y": [
                    -0.3376622796058655
                  ],
                  "z": [
                    -0.1130770668387413
                  ]
                },
                {
                  "hovertemplate": "color=green<br>0=%{x}<br>1=%{y}<br>2=%{z}<extra></extra>",
                  "legendgroup": "green",
                  "marker": {
                    "color": "#FECB52",
                    "symbol": "circle"
                  },
                  "mode": "markers",
                  "name": "green",
                  "scene": "scene",
                  "showlegend": true,
                  "type": "scatter3d",
                  "x": [
                    -0.17399872839450836
                  ],
                  "y": [
                    0.4526863694190979
                  ],
                  "z": [
                    0.23063351213932037
                  ]
                },
                {
                  "hovertemplate": "color=big<br>0=%{x}<br>1=%{y}<br>2=%{z}<extra></extra>",
                  "legendgroup": "big",
                  "marker": {
                    "color": "#636efa",
                    "symbol": "circle"
                  },
                  "mode": "markers",
                  "name": "big",
                  "scene": "scene",
                  "showlegend": true,
                  "type": "scatter3d",
                  "x": [
                    -0.3132220208644867
                  ],
                  "y": [
                    0.32006365060806274
                  ],
                  "z": [
                    -0.16458500921726227
                  ]
                },
                {
                  "hovertemplate": "color=under<br>0=%{x}<br>1=%{y}<br>2=%{z}<extra></extra>",
                  "legendgroup": "under",
                  "marker": {
                    "color": "#EF553B",
                    "symbol": "circle"
                  },
                  "mode": "markers",
                  "name": "under",
                  "scene": "scene",
                  "showlegend": true,
                  "type": "scatter3d",
                  "x": [
                    -0.2685128152370453
                  ],
                  "y": [
                    0.5915462374687195
                  ],
                  "z": [
                    -0.20568284392356873
                  ]
                },
                {
                  "hovertemplate": "color=few<br>0=%{x}<br>1=%{y}<br>2=%{z}<extra></extra>",
                  "legendgroup": "few",
                  "marker": {
                    "color": "#00cc96",
                    "symbol": "circle"
                  },
                  "mode": "markers",
                  "name": "few",
                  "scene": "scene",
                  "showlegend": true,
                  "type": "scatter3d",
                  "x": [
                    -0.5053244233131409
                  ],
                  "y": [
                    0.1333344429731369
                  ],
                  "z": [
                    0.3990348279476166
                  ]
                },
                {
                  "hovertemplate": "color=sent<br>0=%{x}<br>1=%{y}<br>2=%{z}<extra></extra>",
                  "legendgroup": "sent",
                  "marker": {
                    "color": "#ab63fa",
                    "symbol": "circle"
                  },
                  "mode": "markers",
                  "name": "sent",
                  "scene": "scene",
                  "showlegend": true,
                  "type": "scatter3d",
                  "x": [
                    -0.6189749240875244
                  ],
                  "y": [
                    -0.128065288066864
                  ],
                  "z": [
                    -0.20266470313072205
                  ]
                },
                {
                  "hovertemplate": "color=perhaps<br>0=%{x}<br>1=%{y}<br>2=%{z}<extra></extra>",
                  "legendgroup": "perhaps",
                  "marker": {
                    "color": "#FFA15A",
                    "symbol": "circle"
                  },
                  "mode": "markers",
                  "name": "perhaps",
                  "scene": "scene",
                  "showlegend": true,
                  "type": "scatter3d",
                  "x": [
                    -0.701501190662384
                  ],
                  "y": [
                    -0.5191797614097595
                  ],
                  "z": [
                    0.11383680999279022
                  ]
                },
                {
                  "hovertemplate": "color=almost<br>0=%{x}<br>1=%{y}<br>2=%{z}<extra></extra>",
                  "legendgroup": "almost",
                  "marker": {
                    "color": "#19d3f3",
                    "symbol": "circle"
                  },
                  "mode": "markers",
                  "name": "almost",
                  "scene": "scene",
                  "showlegend": true,
                  "type": "scatter3d",
                  "x": [
                    -0.5368223190307617
                  ],
                  "y": [
                    0.356417715549469
                  ],
                  "z": [
                    -0.3033334016799927
                  ]
                },
                {
                  "hovertemplate": "color=such<br>0=%{x}<br>1=%{y}<br>2=%{z}<extra></extra>",
                  "legendgroup": "such",
                  "marker": {
                    "color": "#FF6692",
                    "symbol": "circle"
                  },
                  "mode": "markers",
                  "name": "such",
                  "scene": "scene",
                  "showlegend": true,
                  "type": "scatter3d",
                  "x": [
                    -0.6605968475341797
                  ],
                  "y": [
                    -0.48571744561195374
                  ],
                  "z": [
                    0.266213059425354
                  ]
                },
                {
                  "hovertemplate": "color=wanted<br>0=%{x}<br>1=%{y}<br>2=%{z}<extra></extra>",
                  "legendgroup": "wanted",
                  "marker": {
                    "color": "#B6E880",
                    "symbol": "circle"
                  },
                  "mode": "markers",
                  "name": "wanted",
                  "scene": "scene",
                  "showlegend": true,
                  "type": "scatter3d",
                  "x": [
                    -0.7734960317611694
                  ],
                  "y": [
                    -0.2659577429294586
                  ],
                  "z": [
                    -0.32973653078079224
                  ]
                },
                {
                  "hovertemplate": "color=daughter<br>0=%{x}<br>1=%{y}<br>2=%{z}<extra></extra>",
                  "legendgroup": "daughter",
                  "marker": {
                    "color": "#FF97FF",
                    "symbol": "circle"
                  },
                  "mode": "markers",
                  "name": "daughter",
                  "scene": "scene",
                  "showlegend": true,
                  "type": "scatter3d",
                  "x": [
                    -0.43482640385627747
                  ],
                  "y": [
                    -0.49123769998550415
                  ],
                  "z": [
                    0.029568353667855263
                  ]
                },
                {
                  "hovertemplate": "color=true<br>0=%{x}<br>1=%{y}<br>2=%{z}<extra></extra>",
                  "legendgroup": "true",
                  "marker": {
                    "color": "#FECB52",
                    "symbol": "circle"
                  },
                  "mode": "markers",
                  "name": "true",
                  "scene": "scene",
                  "showlegend": true,
                  "type": "scatter3d",
                  "x": [
                    -0.6758331656455994
                  ],
                  "y": [
                    -0.5673220753669739
                  ],
                  "z": [
                    0.17512789368629456
                  ]
                },
                {
                  "hovertemplate": "color=while<br>0=%{x}<br>1=%{y}<br>2=%{z}<extra></extra>",
                  "legendgroup": "while",
                  "marker": {
                    "color": "#636efa",
                    "symbol": "circle"
                  },
                  "mode": "markers",
                  "name": "while",
                  "scene": "scene",
                  "showlegend": true,
                  "type": "scatter3d",
                  "x": [
                    -0.40474414825439453
                  ],
                  "y": [
                    0.38960710167884827
                  ],
                  "z": [
                    -0.06794776022434235
                  ]
                },
                {
                  "hovertemplate": "color=leave<br>0=%{x}<br>1=%{y}<br>2=%{z}<extra></extra>",
                  "legendgroup": "leave",
                  "marker": {
                    "color": "#EF553B",
                    "symbol": "circle"
                  },
                  "mode": "markers",
                  "name": "leave",
                  "scene": "scene",
                  "showlegend": true,
                  "type": "scatter3d",
                  "x": [
                    -0.7407796382904053
                  ],
                  "y": [
                    -0.3047175109386444
                  ],
                  "z": [
                    -0.09346998482942581
                  ]
                },
                {
                  "hovertemplate": "color=city<br>0=%{x}<br>1=%{y}<br>2=%{z}<extra></extra>",
                  "legendgroup": "city",
                  "marker": {
                    "color": "#00cc96",
                    "symbol": "circle"
                  },
                  "mode": "markers",
                  "name": "city",
                  "scene": "scene",
                  "showlegend": true,
                  "type": "scatter3d",
                  "x": [
                    -0.6299841403961182
                  ],
                  "y": [
                    0.0303457323461771
                  ],
                  "z": [
                    0.6756173372268677
                  ]
                },
                {
                  "hovertemplate": "color=wind<br>0=%{x}<br>1=%{y}<br>2=%{z}<extra></extra>",
                  "legendgroup": "wind",
                  "marker": {
                    "color": "#ab63fa",
                    "symbol": "circle"
                  },
                  "mode": "markers",
                  "name": "wind",
                  "scene": "scene",
                  "showlegend": true,
                  "type": "scatter3d",
                  "x": [
                    -0.43281593918800354
                  ],
                  "y": [
                    0.7120970487594604
                  ],
                  "z": [
                    0.08509256690740585
                  ]
                },
                {
                  "hovertemplate": "color=light<br>0=%{x}<br>1=%{y}<br>2=%{z}<extra></extra>",
                  "legendgroup": "light",
                  "marker": {
                    "color": "#FFA15A",
                    "symbol": "circle"
                  },
                  "mode": "markers",
                  "name": "light",
                  "scene": "scene",
                  "showlegend": true,
                  "type": "scatter3d",
                  "x": [
                    -0.486702024936676
                  ],
                  "y": [
                    0.5153437256813049
                  ],
                  "z": [
                    0.19543232023715973
                  ]
                },
                {
                  "hovertemplate": "color=arms<br>0=%{x}<br>1=%{y}<br>2=%{z}<extra></extra>",
                  "legendgroup": "arms",
                  "marker": {
                    "color": "#19d3f3",
                    "symbol": "circle"
                  },
                  "mode": "markers",
                  "name": "arms",
                  "scene": "scene",
                  "showlegend": true,
                  "type": "scatter3d",
                  "x": [
                    -0.4119310975074768
                  ],
                  "y": [
                    0.28629884123802185
                  ],
                  "z": [
                    -0.12513260543346405
                  ]
                },
                {
                  "hovertemplate": "color=children<br>0=%{x}<br>1=%{y}<br>2=%{z}<extra></extra>",
                  "legendgroup": "children",
                  "marker": {
                    "color": "#FF6692",
                    "symbol": "circle"
                  },
                  "mode": "markers",
                  "name": "children",
                  "scene": "scene",
                  "showlegend": true,
                  "type": "scatter3d",
                  "x": [
                    -0.604274332523346
                  ],
                  "y": [
                    -0.21494968235492706
                  ],
                  "z": [
                    0.5054079294204712
                  ]
                },
                {
                  "hovertemplate": "color=herself<br>0=%{x}<br>1=%{y}<br>2=%{z}<extra></extra>",
                  "legendgroup": "herself",
                  "marker": {
                    "color": "#B6E880",
                    "symbol": "circle"
                  },
                  "mode": "markers",
                  "name": "herself",
                  "scene": "scene",
                  "showlegend": true,
                  "type": "scatter3d",
                  "x": [
                    -0.5908636450767517
                  ],
                  "y": [
                    0.04805629327893257
                  ],
                  "z": [
                    -0.2075757533311844
                  ]
                },
                {
                  "hovertemplate": "color=sweet<br>0=%{x}<br>1=%{y}<br>2=%{z}<extra></extra>",
                  "legendgroup": "sweet",
                  "marker": {
                    "color": "#FF97FF",
                    "symbol": "circle"
                  },
                  "mode": "markers",
                  "name": "sweet",
                  "scene": "scene",
                  "showlegend": true,
                  "type": "scatter3d",
                  "x": [
                    -0.527243971824646
                  ],
                  "y": [
                    -0.29595252871513367
                  ],
                  "z": [
                    -0.18496835231781006
                  ]
                },
                {
                  "hovertemplate": "color=others<br>0=%{x}<br>1=%{y}<br>2=%{z}<extra></extra>",
                  "legendgroup": "others",
                  "marker": {
                    "color": "#FECB52",
                    "symbol": "circle"
                  },
                  "mode": "markers",
                  "name": "others",
                  "scene": "scene",
                  "showlegend": true,
                  "type": "scatter3d",
                  "x": [
                    -0.52177494764328
                  ],
                  "y": [
                    0.1077975258231163
                  ],
                  "z": [
                    0.3835001587867737
                  ]
                },
                {
                  "hovertemplate": "color=lost<br>0=%{x}<br>1=%{y}<br>2=%{z}<extra></extra>",
                  "legendgroup": "lost",
                  "marker": {
                    "color": "#636efa",
                    "symbol": "circle"
                  },
                  "mode": "markers",
                  "name": "lost",
                  "scene": "scene",
                  "showlegend": true,
                  "type": "scatter3d",
                  "x": [
                    -0.6426180005073547
                  ],
                  "y": [
                    -0.14918984472751617
                  ],
                  "z": [
                    -0.008593528531491756
                  ]
                },
                {
                  "hovertemplate": "color=theon<br>0=%{x}<br>1=%{y}<br>2=%{z}<extra></extra>",
                  "legendgroup": "theon",
                  "marker": {
                    "color": "#EF553B",
                    "symbol": "circle"
                  },
                  "mode": "markers",
                  "name": "theon",
                  "scene": "scene",
                  "showlegend": true,
                  "type": "scatter3d",
                  "x": [
                    -0.5489533543586731
                  ],
                  "y": [
                    -0.09392925351858139
                  ],
                  "z": [
                    -0.17266887426376343
                  ]
                },
                {
                  "hovertemplate": "color=each<br>0=%{x}<br>1=%{y}<br>2=%{z}<extra></extra>",
                  "legendgroup": "each",
                  "marker": {
                    "color": "#00cc96",
                    "symbol": "circle"
                  },
                  "mode": "markers",
                  "name": "each",
                  "scene": "scene",
                  "showlegend": true,
                  "type": "scatter3d",
                  "x": [
                    -0.4437844157218933
                  ],
                  "y": [
                    0.36253368854522705
                  ],
                  "z": [
                    0.24568744003772736
                  ]
                },
                {
                  "hovertemplate": "color=felt<br>0=%{x}<br>1=%{y}<br>2=%{z}<extra></extra>",
                  "legendgroup": "felt",
                  "marker": {
                    "color": "#ab63fa",
                    "symbol": "circle"
                  },
                  "mode": "markers",
                  "name": "felt",
                  "scene": "scene",
                  "showlegend": true,
                  "type": "scatter3d",
                  "x": [
                    -0.587116003036499
                  ],
                  "y": [
                    0.2966683804988861
                  ],
                  "z": [
                    -0.47412413358688354
                  ]
                },
                {
                  "hovertemplate": "color=side<br>0=%{x}<br>1=%{y}<br>2=%{z}<extra></extra>",
                  "legendgroup": "side",
                  "marker": {
                    "color": "#FFA15A",
                    "symbol": "circle"
                  },
                  "mode": "markers",
                  "name": "side",
                  "scene": "scene",
                  "showlegend": true,
                  "type": "scatter3d",
                  "x": [
                    -0.5374946594238281
                  ],
                  "y": [
                    0.44557031989097595
                  ],
                  "z": [
                    0.03620385751128197
                  ]
                },
                {
                  "hovertemplate": "color=yes<br>0=%{x}<br>1=%{y}<br>2=%{z}<extra></extra>",
                  "legendgroup": "yes",
                  "marker": {
                    "color": "#19d3f3",
                    "symbol": "circle"
                  },
                  "mode": "markers",
                  "name": "yes",
                  "scene": "scene",
                  "showlegend": true,
                  "type": "scatter3d",
                  "x": [
                    -0.6014100909233093
                  ],
                  "y": [
                    -0.5681111216545105
                  ],
                  "z": [
                    -0.09310618042945862
                  ]
                },
                {
                  "hovertemplate": "color=brothers<br>0=%{x}<br>1=%{y}<br>2=%{z}<extra></extra>",
                  "legendgroup": "brothers",
                  "marker": {
                    "color": "#FF6692",
                    "symbol": "circle"
                  },
                  "mode": "markers",
                  "name": "brothers",
                  "scene": "scene",
                  "showlegend": true,
                  "type": "scatter3d",
                  "x": [
                    -0.6213321685791016
                  ],
                  "y": [
                    -0.14750944077968597
                  ],
                  "z": [
                    0.3696230947971344
                  ]
                },
                {
                  "hovertemplate": "color=best<br>0=%{x}<br>1=%{y}<br>2=%{z}<extra></extra>",
                  "legendgroup": "best",
                  "marker": {
                    "color": "#B6E880",
                    "symbol": "circle"
                  },
                  "mode": "markers",
                  "name": "best",
                  "scene": "scene",
                  "showlegend": true,
                  "type": "scatter3d",
                  "x": [
                    -0.7853802442550659
                  ],
                  "y": [
                    -0.3356035351753235
                  ],
                  "z": [
                    0.1439209133386612
                  ]
                },
                {
                  "hovertemplate": "color=very<br>0=%{x}<br>1=%{y}<br>2=%{z}<extra></extra>",
                  "legendgroup": "very",
                  "marker": {
                    "color": "#FF97FF",
                    "symbol": "circle"
                  },
                  "mode": "markers",
                  "name": "very",
                  "scene": "scene",
                  "showlegend": true,
                  "type": "scatter3d",
                  "x": [
                    -0.5463050007820129
                  ],
                  "y": [
                    -0.1982966661453247
                  ],
                  "z": [
                    -0.03285137563943863
                  ]
                },
                {
                  "hovertemplate": "color=die<br>0=%{x}<br>1=%{y}<br>2=%{z}<extra></extra>",
                  "legendgroup": "die",
                  "marker": {
                    "color": "#FECB52",
                    "symbol": "circle"
                  },
                  "mode": "markers",
                  "name": "die",
                  "scene": "scene",
                  "showlegend": true,
                  "type": "scatter3d",
                  "x": [
                    -0.7937201857566833
                  ],
                  "y": [
                    -0.2633901536464691
                  ],
                  "z": [
                    0.057812534272670746
                  ]
                }
              ],
              "layout": {
                "legend": {
                  "title": {
                    "text": "color"
                  },
                  "tracegroupgap": 0
                },
                "margin": {
                  "t": 60
                },
                "scene": {
                  "domain": {
                    "x": [
                      0,
                      1
                    ],
                    "y": [
                      0,
                      1
                    ]
                  },
                  "xaxis": {
                    "title": {
                      "text": "0"
                    }
                  },
                  "yaxis": {
                    "title": {
                      "text": "1"
                    }
                  },
                  "zaxis": {
                    "title": {
                      "text": "2"
                    }
                  }
                },
                "template": {
                  "data": {
                    "bar": [
                      {
                        "error_x": {
                          "color": "#2a3f5f"
                        },
                        "error_y": {
                          "color": "#2a3f5f"
                        },
                        "marker": {
                          "line": {
                            "color": "#E5ECF6",
                            "width": 0.5
                          }
                        },
                        "type": "bar"
                      }
                    ],
                    "barpolar": [
                      {
                        "marker": {
                          "line": {
                            "color": "#E5ECF6",
                            "width": 0.5
                          }
                        },
                        "type": "barpolar"
                      }
                    ],
                    "carpet": [
                      {
                        "aaxis": {
                          "endlinecolor": "#2a3f5f",
                          "gridcolor": "white",
                          "linecolor": "white",
                          "minorgridcolor": "white",
                          "startlinecolor": "#2a3f5f"
                        },
                        "baxis": {
                          "endlinecolor": "#2a3f5f",
                          "gridcolor": "white",
                          "linecolor": "white",
                          "minorgridcolor": "white",
                          "startlinecolor": "#2a3f5f"
                        },
                        "type": "carpet"
                      }
                    ],
                    "choropleth": [
                      {
                        "colorbar": {
                          "outlinewidth": 0,
                          "ticks": ""
                        },
                        "type": "choropleth"
                      }
                    ],
                    "contour": [
                      {
                        "colorbar": {
                          "outlinewidth": 0,
                          "ticks": ""
                        },
                        "colorscale": [
                          [
                            0,
                            "#0d0887"
                          ],
                          [
                            0.1111111111111111,
                            "#46039f"
                          ],
                          [
                            0.2222222222222222,
                            "#7201a8"
                          ],
                          [
                            0.3333333333333333,
                            "#9c179e"
                          ],
                          [
                            0.4444444444444444,
                            "#bd3786"
                          ],
                          [
                            0.5555555555555556,
                            "#d8576b"
                          ],
                          [
                            0.6666666666666666,
                            "#ed7953"
                          ],
                          [
                            0.7777777777777778,
                            "#fb9f3a"
                          ],
                          [
                            0.8888888888888888,
                            "#fdca26"
                          ],
                          [
                            1,
                            "#f0f921"
                          ]
                        ],
                        "type": "contour"
                      }
                    ],
                    "contourcarpet": [
                      {
                        "colorbar": {
                          "outlinewidth": 0,
                          "ticks": ""
                        },
                        "type": "contourcarpet"
                      }
                    ],
                    "heatmap": [
                      {
                        "colorbar": {
                          "outlinewidth": 0,
                          "ticks": ""
                        },
                        "colorscale": [
                          [
                            0,
                            "#0d0887"
                          ],
                          [
                            0.1111111111111111,
                            "#46039f"
                          ],
                          [
                            0.2222222222222222,
                            "#7201a8"
                          ],
                          [
                            0.3333333333333333,
                            "#9c179e"
                          ],
                          [
                            0.4444444444444444,
                            "#bd3786"
                          ],
                          [
                            0.5555555555555556,
                            "#d8576b"
                          ],
                          [
                            0.6666666666666666,
                            "#ed7953"
                          ],
                          [
                            0.7777777777777778,
                            "#fb9f3a"
                          ],
                          [
                            0.8888888888888888,
                            "#fdca26"
                          ],
                          [
                            1,
                            "#f0f921"
                          ]
                        ],
                        "type": "heatmap"
                      }
                    ],
                    "heatmapgl": [
                      {
                        "colorbar": {
                          "outlinewidth": 0,
                          "ticks": ""
                        },
                        "colorscale": [
                          [
                            0,
                            "#0d0887"
                          ],
                          [
                            0.1111111111111111,
                            "#46039f"
                          ],
                          [
                            0.2222222222222222,
                            "#7201a8"
                          ],
                          [
                            0.3333333333333333,
                            "#9c179e"
                          ],
                          [
                            0.4444444444444444,
                            "#bd3786"
                          ],
                          [
                            0.5555555555555556,
                            "#d8576b"
                          ],
                          [
                            0.6666666666666666,
                            "#ed7953"
                          ],
                          [
                            0.7777777777777778,
                            "#fb9f3a"
                          ],
                          [
                            0.8888888888888888,
                            "#fdca26"
                          ],
                          [
                            1,
                            "#f0f921"
                          ]
                        ],
                        "type": "heatmapgl"
                      }
                    ],
                    "histogram": [
                      {
                        "marker": {
                          "colorbar": {
                            "outlinewidth": 0,
                            "ticks": ""
                          }
                        },
                        "type": "histogram"
                      }
                    ],
                    "histogram2d": [
                      {
                        "colorbar": {
                          "outlinewidth": 0,
                          "ticks": ""
                        },
                        "colorscale": [
                          [
                            0,
                            "#0d0887"
                          ],
                          [
                            0.1111111111111111,
                            "#46039f"
                          ],
                          [
                            0.2222222222222222,
                            "#7201a8"
                          ],
                          [
                            0.3333333333333333,
                            "#9c179e"
                          ],
                          [
                            0.4444444444444444,
                            "#bd3786"
                          ],
                          [
                            0.5555555555555556,
                            "#d8576b"
                          ],
                          [
                            0.6666666666666666,
                            "#ed7953"
                          ],
                          [
                            0.7777777777777778,
                            "#fb9f3a"
                          ],
                          [
                            0.8888888888888888,
                            "#fdca26"
                          ],
                          [
                            1,
                            "#f0f921"
                          ]
                        ],
                        "type": "histogram2d"
                      }
                    ],
                    "histogram2dcontour": [
                      {
                        "colorbar": {
                          "outlinewidth": 0,
                          "ticks": ""
                        },
                        "colorscale": [
                          [
                            0,
                            "#0d0887"
                          ],
                          [
                            0.1111111111111111,
                            "#46039f"
                          ],
                          [
                            0.2222222222222222,
                            "#7201a8"
                          ],
                          [
                            0.3333333333333333,
                            "#9c179e"
                          ],
                          [
                            0.4444444444444444,
                            "#bd3786"
                          ],
                          [
                            0.5555555555555556,
                            "#d8576b"
                          ],
                          [
                            0.6666666666666666,
                            "#ed7953"
                          ],
                          [
                            0.7777777777777778,
                            "#fb9f3a"
                          ],
                          [
                            0.8888888888888888,
                            "#fdca26"
                          ],
                          [
                            1,
                            "#f0f921"
                          ]
                        ],
                        "type": "histogram2dcontour"
                      }
                    ],
                    "mesh3d": [
                      {
                        "colorbar": {
                          "outlinewidth": 0,
                          "ticks": ""
                        },
                        "type": "mesh3d"
                      }
                    ],
                    "parcoords": [
                      {
                        "line": {
                          "colorbar": {
                            "outlinewidth": 0,
                            "ticks": ""
                          }
                        },
                        "type": "parcoords"
                      }
                    ],
                    "pie": [
                      {
                        "automargin": true,
                        "type": "pie"
                      }
                    ],
                    "scatter": [
                      {
                        "marker": {
                          "colorbar": {
                            "outlinewidth": 0,
                            "ticks": ""
                          }
                        },
                        "type": "scatter"
                      }
                    ],
                    "scatter3d": [
                      {
                        "line": {
                          "colorbar": {
                            "outlinewidth": 0,
                            "ticks": ""
                          }
                        },
                        "marker": {
                          "colorbar": {
                            "outlinewidth": 0,
                            "ticks": ""
                          }
                        },
                        "type": "scatter3d"
                      }
                    ],
                    "scattercarpet": [
                      {
                        "marker": {
                          "colorbar": {
                            "outlinewidth": 0,
                            "ticks": ""
                          }
                        },
                        "type": "scattercarpet"
                      }
                    ],
                    "scattergeo": [
                      {
                        "marker": {
                          "colorbar": {
                            "outlinewidth": 0,
                            "ticks": ""
                          }
                        },
                        "type": "scattergeo"
                      }
                    ],
                    "scattergl": [
                      {
                        "marker": {
                          "colorbar": {
                            "outlinewidth": 0,
                            "ticks": ""
                          }
                        },
                        "type": "scattergl"
                      }
                    ],
                    "scattermapbox": [
                      {
                        "marker": {
                          "colorbar": {
                            "outlinewidth": 0,
                            "ticks": ""
                          }
                        },
                        "type": "scattermapbox"
                      }
                    ],
                    "scatterpolar": [
                      {
                        "marker": {
                          "colorbar": {
                            "outlinewidth": 0,
                            "ticks": ""
                          }
                        },
                        "type": "scatterpolar"
                      }
                    ],
                    "scatterpolargl": [
                      {
                        "marker": {
                          "colorbar": {
                            "outlinewidth": 0,
                            "ticks": ""
                          }
                        },
                        "type": "scatterpolargl"
                      }
                    ],
                    "scatterternary": [
                      {
                        "marker": {
                          "colorbar": {
                            "outlinewidth": 0,
                            "ticks": ""
                          }
                        },
                        "type": "scatterternary"
                      }
                    ],
                    "surface": [
                      {
                        "colorbar": {
                          "outlinewidth": 0,
                          "ticks": ""
                        },
                        "colorscale": [
                          [
                            0,
                            "#0d0887"
                          ],
                          [
                            0.1111111111111111,
                            "#46039f"
                          ],
                          [
                            0.2222222222222222,
                            "#7201a8"
                          ],
                          [
                            0.3333333333333333,
                            "#9c179e"
                          ],
                          [
                            0.4444444444444444,
                            "#bd3786"
                          ],
                          [
                            0.5555555555555556,
                            "#d8576b"
                          ],
                          [
                            0.6666666666666666,
                            "#ed7953"
                          ],
                          [
                            0.7777777777777778,
                            "#fb9f3a"
                          ],
                          [
                            0.8888888888888888,
                            "#fdca26"
                          ],
                          [
                            1,
                            "#f0f921"
                          ]
                        ],
                        "type": "surface"
                      }
                    ],
                    "table": [
                      {
                        "cells": {
                          "fill": {
                            "color": "#EBF0F8"
                          },
                          "line": {
                            "color": "white"
                          }
                        },
                        "header": {
                          "fill": {
                            "color": "#C8D4E3"
                          },
                          "line": {
                            "color": "white"
                          }
                        },
                        "type": "table"
                      }
                    ]
                  },
                  "layout": {
                    "annotationdefaults": {
                      "arrowcolor": "#2a3f5f",
                      "arrowhead": 0,
                      "arrowwidth": 1
                    },
                    "autotypenumbers": "strict",
                    "coloraxis": {
                      "colorbar": {
                        "outlinewidth": 0,
                        "ticks": ""
                      }
                    },
                    "colorscale": {
                      "diverging": [
                        [
                          0,
                          "#8e0152"
                        ],
                        [
                          0.1,
                          "#c51b7d"
                        ],
                        [
                          0.2,
                          "#de77ae"
                        ],
                        [
                          0.3,
                          "#f1b6da"
                        ],
                        [
                          0.4,
                          "#fde0ef"
                        ],
                        [
                          0.5,
                          "#f7f7f7"
                        ],
                        [
                          0.6,
                          "#e6f5d0"
                        ],
                        [
                          0.7,
                          "#b8e186"
                        ],
                        [
                          0.8,
                          "#7fbc41"
                        ],
                        [
                          0.9,
                          "#4d9221"
                        ],
                        [
                          1,
                          "#276419"
                        ]
                      ],
                      "sequential": [
                        [
                          0,
                          "#0d0887"
                        ],
                        [
                          0.1111111111111111,
                          "#46039f"
                        ],
                        [
                          0.2222222222222222,
                          "#7201a8"
                        ],
                        [
                          0.3333333333333333,
                          "#9c179e"
                        ],
                        [
                          0.4444444444444444,
                          "#bd3786"
                        ],
                        [
                          0.5555555555555556,
                          "#d8576b"
                        ],
                        [
                          0.6666666666666666,
                          "#ed7953"
                        ],
                        [
                          0.7777777777777778,
                          "#fb9f3a"
                        ],
                        [
                          0.8888888888888888,
                          "#fdca26"
                        ],
                        [
                          1,
                          "#f0f921"
                        ]
                      ],
                      "sequentialminus": [
                        [
                          0,
                          "#0d0887"
                        ],
                        [
                          0.1111111111111111,
                          "#46039f"
                        ],
                        [
                          0.2222222222222222,
                          "#7201a8"
                        ],
                        [
                          0.3333333333333333,
                          "#9c179e"
                        ],
                        [
                          0.4444444444444444,
                          "#bd3786"
                        ],
                        [
                          0.5555555555555556,
                          "#d8576b"
                        ],
                        [
                          0.6666666666666666,
                          "#ed7953"
                        ],
                        [
                          0.7777777777777778,
                          "#fb9f3a"
                        ],
                        [
                          0.8888888888888888,
                          "#fdca26"
                        ],
                        [
                          1,
                          "#f0f921"
                        ]
                      ]
                    },
                    "colorway": [
                      "#636efa",
                      "#EF553B",
                      "#00cc96",
                      "#ab63fa",
                      "#FFA15A",
                      "#19d3f3",
                      "#FF6692",
                      "#B6E880",
                      "#FF97FF",
                      "#FECB52"
                    ],
                    "font": {
                      "color": "#2a3f5f"
                    },
                    "geo": {
                      "bgcolor": "white",
                      "lakecolor": "white",
                      "landcolor": "#E5ECF6",
                      "showlakes": true,
                      "showland": true,
                      "subunitcolor": "white"
                    },
                    "hoverlabel": {
                      "align": "left"
                    },
                    "hovermode": "closest",
                    "mapbox": {
                      "style": "light"
                    },
                    "paper_bgcolor": "white",
                    "plot_bgcolor": "#E5ECF6",
                    "polar": {
                      "angularaxis": {
                        "gridcolor": "white",
                        "linecolor": "white",
                        "ticks": ""
                      },
                      "bgcolor": "#E5ECF6",
                      "radialaxis": {
                        "gridcolor": "white",
                        "linecolor": "white",
                        "ticks": ""
                      }
                    },
                    "scene": {
                      "xaxis": {
                        "backgroundcolor": "#E5ECF6",
                        "gridcolor": "white",
                        "gridwidth": 2,
                        "linecolor": "white",
                        "showbackground": true,
                        "ticks": "",
                        "zerolinecolor": "white"
                      },
                      "yaxis": {
                        "backgroundcolor": "#E5ECF6",
                        "gridcolor": "white",
                        "gridwidth": 2,
                        "linecolor": "white",
                        "showbackground": true,
                        "ticks": "",
                        "zerolinecolor": "white"
                      },
                      "zaxis": {
                        "backgroundcolor": "#E5ECF6",
                        "gridcolor": "white",
                        "gridwidth": 2,
                        "linecolor": "white",
                        "showbackground": true,
                        "ticks": "",
                        "zerolinecolor": "white"
                      }
                    },
                    "shapedefaults": {
                      "line": {
                        "color": "#2a3f5f"
                      }
                    },
                    "ternary": {
                      "aaxis": {
                        "gridcolor": "white",
                        "linecolor": "white",
                        "ticks": ""
                      },
                      "baxis": {
                        "gridcolor": "white",
                        "linecolor": "white",
                        "ticks": ""
                      },
                      "bgcolor": "#E5ECF6",
                      "caxis": {
                        "gridcolor": "white",
                        "linecolor": "white",
                        "ticks": ""
                      }
                    },
                    "title": {
                      "x": 0.05
                    },
                    "xaxis": {
                      "automargin": true,
                      "gridcolor": "white",
                      "linecolor": "white",
                      "ticks": "",
                      "title": {
                        "standoff": 15
                      },
                      "zerolinecolor": "white",
                      "zerolinewidth": 2
                    },
                    "yaxis": {
                      "automargin": true,
                      "gridcolor": "white",
                      "linecolor": "white",
                      "ticks": "",
                      "title": {
                        "standoff": 15
                      },
                      "zerolinecolor": "white",
                      "zerolinewidth": 2
                    }
                  }
                }
              }
            },
            "text/html": [
              "<div>                            <div id=\"531f63e1-0190-474a-9ad9-8209da7a782c\" class=\"plotly-graph-div\" style=\"height:525px; width:100%;\"></div>            <script type=\"text/javascript\">                require([\"plotly\"], function(Plotly) {                    window.PLOTLYENV=window.PLOTLYENV || {};                                    if (document.getElementById(\"531f63e1-0190-474a-9ad9-8209da7a782c\")) {                    Plotly.newPlot(                        \"531f63e1-0190-474a-9ad9-8209da7a782c\",                        [{\"hovertemplate\": \"color=hands<br>0=%{x}<br>1=%{y}<br>2=%{z}<extra></extra>\", \"legendgroup\": \"hands\", \"marker\": {\"color\": \"#636efa\", \"symbol\": \"circle\"}, \"mode\": \"markers\", \"name\": \"hands\", \"scene\": \"scene\", \"showlegend\": true, \"type\": \"scatter3d\", \"x\": [-0.5166324377059937], \"y\": [0.4360288679599762], \"z\": [-0.24432404339313507]}, {\"hovertemplate\": \"color=stannis<br>0=%{x}<br>1=%{y}<br>2=%{z}<extra></extra>\", \"legendgroup\": \"stannis\", \"marker\": {\"color\": \"#EF553B\", \"symbol\": \"circle\"}, \"mode\": \"markers\", \"name\": \"stannis\", \"scene\": \"scene\", \"showlegend\": true, \"type\": \"scatter3d\", \"x\": [-0.6464323997497559], \"y\": [-0.2774393856525421], \"z\": [0.24532340466976166]}, {\"hovertemplate\": \"color=mother<br>0=%{x}<br>1=%{y}<br>2=%{z}<extra></extra>\", \"legendgroup\": \"mother\", \"marker\": {\"color\": \"#00cc96\", \"symbol\": \"circle\"}, \"mode\": \"markers\", \"name\": \"mother\", \"scene\": \"scene\", \"showlegend\": true, \"type\": \"scatter3d\", \"x\": [-0.6448858976364136], \"y\": [-0.34323984384536743], \"z\": [0.05025641247630119]}, {\"hovertemplate\": \"color=catelyn<br>0=%{x}<br>1=%{y}<br>2=%{z}<extra></extra>\", \"legendgroup\": \"catelyn\", \"marker\": {\"color\": \"#ab63fa\", \"symbol\": \"circle\"}, \"mode\": \"markers\", \"name\": \"catelyn\", \"scene\": \"scene\", \"showlegend\": true, \"type\": \"scatter3d\", \"x\": [-0.5385292768478394], \"y\": [-0.1345166563987732], \"z\": [-0.10985331982374191]}, {\"hovertemplate\": \"color=robert<br>0=%{x}<br>1=%{y}<br>2=%{z}<extra></extra>\", \"legendgroup\": \"robert\", \"marker\": {\"color\": \"#FFA15A\", \"symbol\": \"circle\"}, \"mode\": \"markers\", \"name\": \"robert\", \"scene\": \"scene\", \"showlegend\": true, \"type\": \"scatter3d\", \"x\": [-0.6315737962722778], \"y\": [-0.4325582981109619], \"z\": [0.06472726911306381]}, {\"hovertemplate\": \"color=seemed<br>0=%{x}<br>1=%{y}<br>2=%{z}<extra></extra>\", \"legendgroup\": \"seemed\", \"marker\": {\"color\": \"#19d3f3\", \"symbol\": \"circle\"}, \"mode\": \"markers\", \"name\": \"seemed\", \"scene\": \"scene\", \"showlegend\": true, \"type\": \"scatter3d\", \"x\": [-0.6160882711410522], \"y\": [0.12635058164596558], \"z\": [-0.12046352028846741]}, {\"hovertemplate\": \"color=prince<br>0=%{x}<br>1=%{y}<br>2=%{z}<extra></extra>\", \"legendgroup\": \"prince\", \"marker\": {\"color\": \"#FF6692\", \"symbol\": \"circle\"}, \"mode\": \"markers\", \"name\": \"prince\", \"scene\": \"scene\", \"showlegend\": true, \"type\": \"scatter3d\", \"x\": [-0.5963289141654968], \"y\": [-0.4627262055873871], \"z\": [0.0068453834392130375]}, {\"hovertemplate\": \"color=may<br>0=%{x}<br>1=%{y}<br>2=%{z}<extra></extra>\", \"legendgroup\": \"may\", \"marker\": {\"color\": \"#B6E880\", \"symbol\": \"circle\"}, \"mode\": \"markers\", \"name\": \"may\", \"scene\": \"scene\", \"showlegend\": true, \"type\": \"scatter3d\", \"x\": [-0.7061557173728943], \"y\": [-0.3955051302909851], \"z\": [0.04178757965564728]}, {\"hovertemplate\": \"color=ever<br>0=%{x}<br>1=%{y}<br>2=%{z}<extra></extra>\", \"legendgroup\": \"ever\", \"marker\": {\"color\": \"#FF97FF\", \"symbol\": \"circle\"}, \"mode\": \"markers\", \"name\": \"ever\", \"scene\": \"scene\", \"showlegend\": true, \"type\": \"scatter3d\", \"x\": [-0.7155900597572327], \"y\": [-0.24571539461612701], \"z\": [0.10190823674201965]}, {\"hovertemplate\": \"color=robb<br>0=%{x}<br>1=%{y}<br>2=%{z}<extra></extra>\", \"legendgroup\": \"robb\", \"marker\": {\"color\": \"#FECB52\", \"symbol\": \"circle\"}, \"mode\": \"markers\", \"name\": \"robb\", \"scene\": \"scene\", \"showlegend\": true, \"type\": \"scatter3d\", \"x\": [-0.6119003891944885], \"y\": [-0.27837392687797546], \"z\": [-0.003915582317858934]}, {\"hovertemplate\": \"color=done<br>0=%{x}<br>1=%{y}<br>2=%{z}<extra></extra>\", \"legendgroup\": \"done\", \"marker\": {\"color\": \"#636efa\", \"symbol\": \"circle\"}, \"mode\": \"markers\", \"name\": \"done\", \"scene\": \"scene\", \"showlegend\": true, \"type\": \"scatter3d\", \"x\": [-0.7659319043159485], \"y\": [-0.2817215621471405], \"z\": [-0.03726749122142792]}, {\"hovertemplate\": \"color=don<br>0=%{x}<br>1=%{y}<br>2=%{z}<extra></extra>\", \"legendgroup\": \"don\", \"marker\": {\"color\": \"#EF553B\", \"symbol\": \"circle\"}, \"mode\": \"markers\", \"name\": \"don\", \"scene\": \"scene\", \"showlegend\": true, \"type\": \"scatter3d\", \"x\": [-0.666720986366272], \"y\": [-0.30414676666259766], \"z\": [-0.1579516977071762]}, {\"hovertemplate\": \"color=find<br>0=%{x}<br>1=%{y}<br>2=%{z}<extra></extra>\", \"legendgroup\": \"find\", \"marker\": {\"color\": \"#00cc96\", \"symbol\": \"circle\"}, \"mode\": \"markers\", \"name\": \"find\", \"scene\": \"scene\", \"showlegend\": true, \"type\": \"scatter3d\", \"x\": [-0.7390592694282532], \"y\": [-0.20736034214496613], \"z\": [-0.08138279616832733]}, {\"hovertemplate\": \"color=lannister<br>0=%{x}<br>1=%{y}<br>2=%{z}<extra></extra>\", \"legendgroup\": \"lannister\", \"marker\": {\"color\": \"#ab63fa\", \"symbol\": \"circle\"}, \"mode\": \"markers\", \"name\": \"lannister\", \"scene\": \"scene\", \"showlegend\": true, \"type\": \"scatter3d\", \"x\": [-0.5016990900039673], \"y\": [-0.30235981941223145], \"z\": [0.06114776059985161]}, {\"hovertemplate\": \"color=re<br>0=%{x}<br>1=%{y}<br>2=%{z}<extra></extra>\", \"legendgroup\": \"re\", \"marker\": {\"color\": \"#FFA15A\", \"symbol\": \"circle\"}, \"mode\": \"markers\", \"name\": \"re\", \"scene\": \"scene\", \"showlegend\": true, \"type\": \"scatter3d\", \"x\": [-0.664251983165741], \"y\": [-0.1940760761499405], \"z\": [-0.054611943662166595]}, {\"hovertemplate\": \"color=hear<br>0=%{x}<br>1=%{y}<br>2=%{z}<extra></extra>\", \"legendgroup\": \"hear\", \"marker\": {\"color\": \"#19d3f3\", \"symbol\": \"circle\"}, \"mode\": \"markers\", \"name\": \"hear\", \"scene\": \"scene\", \"showlegend\": true, \"type\": \"scatter3d\", \"x\": [-0.6819397807121277], \"y\": [0.0036589845549315214], \"z\": [-0.18915604054927826]}, {\"hovertemplate\": \"color=grey<br>0=%{x}<br>1=%{y}<br>2=%{z}<extra></extra>\", \"legendgroup\": \"grey\", \"marker\": {\"color\": \"#FF6692\", \"symbol\": \"circle\"}, \"mode\": \"markers\", \"name\": \"grey\", \"scene\": \"scene\", \"showlegend\": true, \"type\": \"scatter3d\", \"x\": [-0.20420153439044952], \"y\": [0.5147679448127747], \"z\": [0.06920750439167023]}, {\"hovertemplate\": \"color=name<br>0=%{x}<br>1=%{y}<br>2=%{z}<extra></extra>\", \"legendgroup\": \"name\", \"marker\": {\"color\": \"#B6E880\", \"symbol\": \"circle\"}, \"mode\": \"markers\", \"name\": \"name\", \"scene\": \"scene\", \"showlegend\": true, \"type\": \"scatter3d\", \"x\": [-0.7576094269752502], \"y\": [-0.37749767303466797], \"z\": [0.05449104681611061]}, {\"hovertemplate\": \"color=horse<br>0=%{x}<br>1=%{y}<br>2=%{z}<extra></extra>\", \"legendgroup\": \"horse\", \"marker\": {\"color\": \"#FF97FF\", \"symbol\": \"circle\"}, \"mode\": \"markers\", \"name\": \"horse\", \"scene\": \"scene\", \"showlegend\": true, \"type\": \"scatter3d\", \"x\": [-0.5016273856163025], \"y\": [0.4870339035987854], \"z\": [-0.15863396227359772]}, {\"hovertemplate\": \"color=high<br>0=%{x}<br>1=%{y}<br>2=%{z}<extra></extra>\", \"legendgroup\": \"high\", \"marker\": {\"color\": \"#FECB52\", \"symbol\": \"circle\"}, \"mode\": \"markers\", \"name\": \"high\", \"scene\": \"scene\", \"showlegend\": true, \"type\": \"scatter3d\", \"x\": [-0.32192590832710266], \"y\": [0.21337845921516418], \"z\": [0.3471122086048126]}, {\"hovertemplate\": \"color=put<br>0=%{x}<br>1=%{y}<br>2=%{z}<extra></extra>\", \"legendgroup\": \"put\", \"marker\": {\"color\": \"#636efa\", \"symbol\": \"circle\"}, \"mode\": \"markers\", \"name\": \"put\", \"scene\": \"scene\", \"showlegend\": true, \"type\": \"scatter3d\", \"x\": [-0.6572953462600708], \"y\": [-0.04297730326652527], \"z\": [-0.3950529098510742]}, {\"hovertemplate\": \"color=stone<br>0=%{x}<br>1=%{y}<br>2=%{z}<extra></extra>\", \"legendgroup\": \"stone\", \"marker\": {\"color\": \"#EF553B\", \"symbol\": \"circle\"}, \"mode\": \"markers\", \"name\": \"stone\", \"scene\": \"scene\", \"showlegend\": true, \"type\": \"scatter3d\", \"x\": [-0.2838098704814911], \"y\": [0.6973659992218018], \"z\": [0.3018648028373718]}, {\"hovertemplate\": \"color=wine<br>0=%{x}<br>1=%{y}<br>2=%{z}<extra></extra>\", \"legendgroup\": \"wine\", \"marker\": {\"color\": \"#00cc96\", \"symbol\": \"circle\"}, \"mode\": \"markers\", \"name\": \"wine\", \"scene\": \"scene\", \"showlegend\": true, \"type\": \"scatter3d\", \"x\": [-0.46231934428215027], \"y\": [0.2179029881954193], \"z\": [-0.18810783326625824]}, {\"hovertemplate\": \"color=hard<br>0=%{x}<br>1=%{y}<br>2=%{z}<extra></extra>\", \"legendgroup\": \"hard\", \"marker\": {\"color\": \"#ab63fa\", \"symbol\": \"circle\"}, \"mode\": \"markers\", \"name\": \"hard\", \"scene\": \"scene\", \"showlegend\": true, \"type\": \"scatter3d\", \"x\": [-0.5161798596382141], \"y\": [0.5024341940879822], \"z\": [-0.18108880519866943]}, {\"hovertemplate\": \"color=water<br>0=%{x}<br>1=%{y}<br>2=%{z}<extra></extra>\", \"legendgroup\": \"water\", \"marker\": {\"color\": \"#FFA15A\", \"symbol\": \"circle\"}, \"mode\": \"markers\", \"name\": \"water\", \"scene\": \"scene\", \"showlegend\": true, \"type\": \"scatter3d\", \"x\": [-0.435503751039505], \"y\": [0.7200837135314941], \"z\": [0.028159016743302345]}, {\"hovertemplate\": \"color=upon<br>0=%{x}<br>1=%{y}<br>2=%{z}<extra></extra>\", \"legendgroup\": \"upon\", \"marker\": {\"color\": \"#19d3f3\", \"symbol\": \"circle\"}, \"mode\": \"markers\", \"name\": \"upon\", \"scene\": \"scene\", \"showlegend\": true, \"type\": \"scatter3d\", \"x\": [-0.47850510478019714], \"y\": [0.2407311350107193], \"z\": [0.05216514691710472]}, {\"hovertemplate\": \"color=fire<br>0=%{x}<br>1=%{y}<br>2=%{z}<extra></extra>\", \"legendgroup\": \"fire\", \"marker\": {\"color\": \"#FF6692\", \"symbol\": \"circle\"}, \"mode\": \"markers\", \"name\": \"fire\", \"scene\": \"scene\", \"showlegend\": true, \"type\": \"scatter3d\", \"x\": [-0.5187239646911621], \"y\": [0.6646447777748108], \"z\": [0.21189358830451965]}, {\"hovertemplate\": \"color=iron<br>0=%{x}<br>1=%{y}<br>2=%{z}<extra></extra>\", \"legendgroup\": \"iron\", \"marker\": {\"color\": \"#B6E880\", \"symbol\": \"circle\"}, \"mode\": \"markers\", \"name\": \"iron\", \"scene\": \"scene\", \"showlegend\": true, \"type\": \"scatter3d\", \"x\": [-0.3666013181209564], \"y\": [0.30697497725486755], \"z\": [0.3049635589122772]}, {\"hovertemplate\": \"color=until<br>0=%{x}<br>1=%{y}<br>2=%{z}<extra></extra>\", \"legendgroup\": \"until\", \"marker\": {\"color\": \"#FF97FF\", \"symbol\": \"circle\"}, \"mode\": \"markers\", \"name\": \"until\", \"scene\": \"scene\", \"showlegend\": true, \"type\": \"scatter3d\", \"x\": [-0.6995481848716736], \"y\": [0.289239764213562], \"z\": [-0.12002689391374588]}, {\"hovertemplate\": \"color=these<br>0=%{x}<br>1=%{y}<br>2=%{z}<extra></extra>\", \"legendgroup\": \"these\", \"marker\": {\"color\": \"#FECB52\", \"symbol\": \"circle\"}, \"mode\": \"markers\", \"name\": \"these\", \"scene\": \"scene\", \"showlegend\": true, \"type\": \"scatter3d\", \"x\": [-0.6198936700820923], \"y\": [-0.26188063621520996], \"z\": [0.6332640647888184]}, {\"hovertemplate\": \"color=voice<br>0=%{x}<br>1=%{y}<br>2=%{z}<extra></extra>\", \"legendgroup\": \"voice\", \"marker\": {\"color\": \"#636efa\", \"symbol\": \"circle\"}, \"mode\": \"markers\", \"name\": \"voice\", \"scene\": \"scene\", \"showlegend\": true, \"type\": \"scatter3d\", \"x\": [-0.5219343304634094], \"y\": [0.11604469269514084], \"z\": [-0.2897094190120697]}, {\"hovertemplate\": \"color=gone<br>0=%{x}<br>1=%{y}<br>2=%{z}<extra></extra>\", \"legendgroup\": \"gone\", \"marker\": {\"color\": \"#EF553B\", \"symbol\": \"circle\"}, \"mode\": \"markers\", \"name\": \"gone\", \"scene\": \"scene\", \"showlegend\": true, \"type\": \"scatter3d\", \"x\": [-0.6513966917991638], \"y\": [0.11715863645076752], \"z\": [-0.05449715629220009]}, {\"hovertemplate\": \"color=give<br>0=%{x}<br>1=%{y}<br>2=%{z}<extra></extra>\", \"legendgroup\": \"give\", \"marker\": {\"color\": \"#00cc96\", \"symbol\": \"circle\"}, \"mode\": \"markers\", \"name\": \"give\", \"scene\": \"scene\", \"showlegend\": true, \"type\": \"scatter3d\", \"x\": [-0.6778371334075928], \"y\": [-0.3788796067237854], \"z\": [-0.17509253323078156]}, {\"hovertemplate\": \"color=sam<br>0=%{x}<br>1=%{y}<br>2=%{z}<extra></extra>\", \"legendgroup\": \"sam\", \"marker\": {\"color\": \"#ab63fa\", \"symbol\": \"circle\"}, \"mode\": \"markers\", \"name\": \"sam\", \"scene\": \"scene\", \"showlegend\": true, \"type\": \"scatter3d\", \"x\": [-0.5878780484199524], \"y\": [0.1729511022567749], \"z\": [-0.2559956908226013]}, {\"hovertemplate\": \"color=seen<br>0=%{x}<br>1=%{y}<br>2=%{z}<extra></extra>\", \"legendgroup\": \"seen\", \"marker\": {\"color\": \"#FFA15A\", \"symbol\": \"circle\"}, \"mode\": \"markers\", \"name\": \"seen\", \"scene\": \"scene\", \"showlegend\": true, \"type\": \"scatter3d\", \"x\": [-0.6645168662071228], \"y\": [0.03443374112248421], \"z\": [0.036318883299827576]}, {\"hovertemplate\": \"color=better<br>0=%{x}<br>1=%{y}<br>2=%{z}<extra></extra>\", \"legendgroup\": \"better\", \"marker\": {\"color\": \"#19d3f3\", \"symbol\": \"circle\"}, \"mode\": \"markers\", \"name\": \"better\", \"scene\": \"scene\", \"showlegend\": true, \"type\": \"scatter3d\", \"x\": [-0.6637166738510132], \"y\": [-0.27929607033729553], \"z\": [0.0688706636428833]}, {\"hovertemplate\": \"color=shall<br>0=%{x}<br>1=%{y}<br>2=%{z}<extra></extra>\", \"legendgroup\": \"shall\", \"marker\": {\"color\": \"#FF6692\", \"symbol\": \"circle\"}, \"mode\": \"markers\", \"name\": \"shall\", \"scene\": \"scene\", \"showlegend\": true, \"type\": \"scatter3d\", \"x\": [-0.6612712740898132], \"y\": [-0.3568207621574402], \"z\": [0.11232422292232513]}, {\"hovertemplate\": \"color=ned<br>0=%{x}<br>1=%{y}<br>2=%{z}<extra></extra>\", \"legendgroup\": \"ned\", \"marker\": {\"color\": \"#B6E880\", \"symbol\": \"circle\"}, \"mode\": \"markers\", \"name\": \"ned\", \"scene\": \"scene\", \"showlegend\": true, \"type\": \"scatter3d\", \"x\": [-0.5796999335289001], \"y\": [-0.16770878434181213], \"z\": [-0.12880782783031464]}, {\"hovertemplate\": \"color=always<br>0=%{x}<br>1=%{y}<br>2=%{z}<extra></extra>\", \"legendgroup\": \"always\", \"marker\": {\"color\": \"#FF97FF\", \"symbol\": \"circle\"}, \"mode\": \"markers\", \"name\": \"always\", \"scene\": \"scene\", \"showlegend\": true, \"type\": \"scatter3d\", \"x\": [-0.6820055246353149], \"y\": [-0.271821528673172], \"z\": [0.06643715500831604]}, {\"hovertemplate\": \"color=years<br>0=%{x}<br>1=%{y}<br>2=%{z}<extra></extra>\", \"legendgroup\": \"years\", \"marker\": {\"color\": \"#FECB52\", \"symbol\": \"circle\"}, \"mode\": \"markers\", \"name\": \"years\", \"scene\": \"scene\", \"showlegend\": true, \"type\": \"scatter3d\", \"x\": [-0.6226434111595154], \"y\": [-0.15951769053936005], \"z\": [0.3693343997001648]}, {\"hovertemplate\": \"color=between<br>0=%{x}<br>1=%{y}<br>2=%{z}<extra></extra>\", \"legendgroup\": \"between\", \"marker\": {\"color\": \"#636efa\", \"symbol\": \"circle\"}, \"mode\": \"markers\", \"name\": \"between\", \"scene\": \"scene\", \"showlegend\": true, \"type\": \"scatter3d\", \"x\": [-0.36037755012512207], \"y\": [0.5023365020751953], \"z\": [-0.13220635056495667]}, {\"hovertemplate\": \"color=dark<br>0=%{x}<br>1=%{y}<br>2=%{z}<extra></extra>\", \"legendgroup\": \"dark\", \"marker\": {\"color\": \"#EF553B\", \"symbol\": \"circle\"}, \"mode\": \"markers\", \"name\": \"dark\", \"scene\": \"scene\", \"showlegend\": true, \"type\": \"scatter3d\", \"x\": [-0.34278902411460876], \"y\": [0.6277737617492676], \"z\": [0.12209918349981308]}, {\"hovertemplate\": \"color=place<br>0=%{x}<br>1=%{y}<br>2=%{z}<extra></extra>\", \"legendgroup\": \"place\", \"marker\": {\"color\": \"#00cc96\", \"symbol\": \"circle\"}, \"mode\": \"markers\", \"name\": \"place\", \"scene\": \"scene\", \"showlegend\": true, \"type\": \"scatter3d\", \"x\": [-0.7243974804878235], \"y\": [0.010338089428842068], \"z\": [0.3014986217021942]}, {\"hovertemplate\": \"color=small<br>0=%{x}<br>1=%{y}<br>2=%{z}<extra></extra>\", \"legendgroup\": \"small\", \"marker\": {\"color\": \"#ab63fa\", \"symbol\": \"circle\"}, \"mode\": \"markers\", \"name\": \"small\", \"scene\": \"scene\", \"showlegend\": true, \"type\": \"scatter3d\", \"x\": [-0.2841823101043701], \"y\": [0.2902635633945465], \"z\": [0.2838512659072876]}, {\"hovertemplate\": \"color=cold<br>0=%{x}<br>1=%{y}<br>2=%{z}<extra></extra>\", \"legendgroup\": \"cold\", \"marker\": {\"color\": \"#FFA15A\", \"symbol\": \"circle\"}, \"mode\": \"markers\", \"name\": \"cold\", \"scene\": \"scene\", \"showlegend\": true, \"type\": \"scatter3d\", \"x\": [-0.5365848541259766], \"y\": [0.5359442234039307], \"z\": [-0.029064679518342018]}, {\"hovertemplate\": \"color=winterfell<br>0=%{x}<br>1=%{y}<br>2=%{z}<extra></extra>\", \"legendgroup\": \"winterfell\", \"marker\": {\"color\": \"#19d3f3\", \"symbol\": \"circle\"}, \"mode\": \"markers\", \"name\": \"winterfell\", \"scene\": \"scene\", \"showlegend\": true, \"type\": \"scatter3d\", \"x\": [-0.681026041507721], \"y\": [-0.17246434092521667], \"z\": [0.29920703172683716]}, {\"hovertemplate\": \"color=most<br>0=%{x}<br>1=%{y}<br>2=%{z}<extra></extra>\", \"legendgroup\": \"most\", \"marker\": {\"color\": \"#FF6692\", \"symbol\": \"circle\"}, \"mode\": \"markers\", \"name\": \"most\", \"scene\": \"scene\", \"showlegend\": true, \"type\": \"scatter3d\", \"x\": [-0.5903750061988831], \"y\": [-0.2999769449234009], \"z\": [0.5404090881347656]}, {\"hovertemplate\": \"color=hundred<br>0=%{x}<br>1=%{y}<br>2=%{z}<extra></extra>\", \"legendgroup\": \"hundred\", \"marker\": {\"color\": \"#B6E880\", \"symbol\": \"circle\"}, \"mode\": \"markers\", \"name\": \"hundred\", \"scene\": \"scene\", \"showlegend\": true, \"type\": \"scatter3d\", \"x\": [-0.41428399085998535], \"y\": [0.089680977165699], \"z\": [0.591873824596405]}, {\"hovertemplate\": \"color=stood<br>0=%{x}<br>1=%{y}<br>2=%{z}<extra></extra>\", \"legendgroup\": \"stood\", \"marker\": {\"color\": \"#FF97FF\", \"symbol\": \"circle\"}, \"mode\": \"markers\", \"name\": \"stood\", \"scene\": \"scene\", \"showlegend\": true, \"type\": \"scatter3d\", \"x\": [-0.3625858724117279], \"y\": [0.3581230938434601], \"z\": [-0.05381706729531288]}, {\"hovertemplate\": \"color=end<br>0=%{x}<br>1=%{y}<br>2=%{z}<extra></extra>\", \"legendgroup\": \"end\", \"marker\": {\"color\": \"#FECB52\", \"symbol\": \"circle\"}, \"mode\": \"markers\", \"name\": \"end\", \"scene\": \"scene\", \"showlegend\": true, \"type\": \"scatter3d\", \"x\": [-0.6763197183609009], \"y\": [0.08388200402259827], \"z\": [0.23866045475006104]}, {\"hovertemplate\": \"color=sister<br>0=%{x}<br>1=%{y}<br>2=%{z}<extra></extra>\", \"legendgroup\": \"sister\", \"marker\": {\"color\": \"#636efa\", \"symbol\": \"circle\"}, \"mode\": \"markers\", \"name\": \"sister\", \"scene\": \"scene\", \"showlegend\": true, \"type\": \"scatter3d\", \"x\": [-0.6823331117630005], \"y\": [-0.42111703753471375], \"z\": [-0.101203054189682]}, {\"hovertemplate\": \"color=words<br>0=%{x}<br>1=%{y}<br>2=%{z}<extra></extra>\", \"legendgroup\": \"words\", \"marker\": {\"color\": \"#EF553B\", \"symbol\": \"circle\"}, \"mode\": \"markers\", \"name\": \"words\", \"scene\": \"scene\", \"showlegend\": true, \"type\": \"scatter3d\", \"x\": [-0.7137272953987122], \"y\": [-0.06214069575071335], \"z\": [-0.07018257677555084]}, {\"hovertemplate\": \"color=sea<br>0=%{x}<br>1=%{y}<br>2=%{z}<extra></extra>\", \"legendgroup\": \"sea\", \"marker\": {\"color\": \"#00cc96\", \"symbol\": \"circle\"}, \"mode\": \"markers\", \"name\": \"sea\", \"scene\": \"scene\", \"showlegend\": true, \"type\": \"scatter3d\", \"x\": [-0.5538049340248108], \"y\": [0.27811405062675476], \"z\": [0.5806957483291626]}, {\"hovertemplate\": \"color=right<br>0=%{x}<br>1=%{y}<br>2=%{z}<extra></extra>\", \"legendgroup\": \"right\", \"marker\": {\"color\": \"#ab63fa\", \"symbol\": \"circle\"}, \"mode\": \"markers\", \"name\": \"right\", \"scene\": \"scene\", \"showlegend\": true, \"type\": \"scatter3d\", \"x\": [-0.6208338141441345], \"y\": [0.2756388485431671], \"z\": [-0.21845228970050812]}, {\"hovertemplate\": \"color=nothing<br>0=%{x}<br>1=%{y}<br>2=%{z}<extra></extra>\", \"legendgroup\": \"nothing\", \"marker\": {\"color\": \"#FFA15A\", \"symbol\": \"circle\"}, \"mode\": \"markers\", \"name\": \"nothing\", \"scene\": \"scene\", \"showlegend\": true, \"type\": \"scatter3d\", \"x\": [-0.6868341565132141], \"y\": [-0.03948156163096428], \"z\": [0.12156064063310623]}, {\"hovertemplate\": \"color=walls<br>0=%{x}<br>1=%{y}<br>2=%{z}<extra></extra>\", \"legendgroup\": \"walls\", \"marker\": {\"color\": \"#19d3f3\", \"symbol\": \"circle\"}, \"mode\": \"markers\", \"name\": \"walls\", \"scene\": \"scene\", \"showlegend\": true, \"type\": \"scatter3d\", \"x\": [-0.41298314929008484], \"y\": [0.5419219136238098], \"z\": [0.5651727318763733]}, {\"hovertemplate\": \"color=fingers<br>0=%{x}<br>1=%{y}<br>2=%{z}<extra></extra>\", \"legendgroup\": \"fingers\", \"marker\": {\"color\": \"#FF6692\", \"symbol\": \"circle\"}, \"mode\": \"markers\", \"name\": \"fingers\", \"scene\": \"scene\", \"showlegend\": true, \"type\": \"scatter3d\", \"x\": [-0.43915069103240967], \"y\": [0.5947184562683105], \"z\": [-0.34534260630607605]}, {\"hovertemplate\": \"color=same<br>0=%{x}<br>1=%{y}<br>2=%{z}<extra></extra>\", \"legendgroup\": \"same\", \"marker\": {\"color\": \"#B6E880\", \"symbol\": \"circle\"}, \"mode\": \"markers\", \"name\": \"same\", \"scene\": \"scene\", \"showlegend\": true, \"type\": \"scatter3d\", \"x\": [-0.6902706027030945], \"y\": [-0.07634438574314117], \"z\": [0.060906246304512024]}, {\"hovertemplate\": \"color=cloak<br>0=%{x}<br>1=%{y}<br>2=%{z}<extra></extra>\", \"legendgroup\": \"cloak\", \"marker\": {\"color\": \"#FF97FF\", \"symbol\": \"circle\"}, \"mode\": \"markers\", \"name\": \"cloak\", \"scene\": \"scene\", \"showlegend\": true, \"type\": \"scatter3d\", \"x\": [-0.32635316252708435], \"y\": [0.5096580982208252], \"z\": [-0.1961536854505539]}, {\"hovertemplate\": \"color=house<br>0=%{x}<br>1=%{y}<br>2=%{z}<extra></extra>\", \"legendgroup\": \"house\", \"marker\": {\"color\": \"#FECB52\", \"symbol\": \"circle\"}, \"mode\": \"markers\", \"name\": \"house\", \"scene\": \"scene\", \"showlegend\": true, \"type\": \"scatter3d\", \"x\": [-0.40728241205215454], \"y\": [-0.25835612416267395], \"z\": [0.3055807650089264]}, {\"hovertemplate\": \"color=young<br>0=%{x}<br>1=%{y}<br>2=%{z}<extra></extra>\", \"legendgroup\": \"young\", \"marker\": {\"color\": \"#636efa\", \"symbol\": \"circle\"}, \"mode\": \"markers\", \"name\": \"young\", \"scene\": \"scene\", \"showlegend\": true, \"type\": \"scatter3d\", \"x\": [-0.46938157081604004], \"y\": [-0.39968106150627136], \"z\": [0.04099366441369057]}, {\"hovertemplate\": \"color=does<br>0=%{x}<br>1=%{y}<br>2=%{z}<extra></extra>\", \"legendgroup\": \"does\", \"marker\": {\"color\": \"#EF553B\", \"symbol\": \"circle\"}, \"mode\": \"markers\", \"name\": \"does\", \"scene\": \"scene\", \"showlegend\": true, \"type\": \"scatter3d\", \"x\": [-0.6755346059799194], \"y\": [-0.46453022956848145], \"z\": [-0.11789718270301819]}, {\"hovertemplate\": \"color=beside<br>0=%{x}<br>1=%{y}<br>2=%{z}<extra></extra>\", \"legendgroup\": \"beside\", \"marker\": {\"color\": \"#00cc96\", \"symbol\": \"circle\"}, \"mode\": \"markers\", \"name\": \"beside\", \"scene\": \"scene\", \"showlegend\": true, \"type\": \"scatter3d\", \"x\": [-0.3956194519996643], \"y\": [0.3136787414550781], \"z\": [-0.26936283707618713]}, {\"hovertemplate\": \"color=get<br>0=%{x}<br>1=%{y}<br>2=%{z}<extra></extra>\", \"legendgroup\": \"get\", \"marker\": {\"color\": \"#ab63fa\", \"symbol\": \"circle\"}, \"mode\": \"markers\", \"name\": \"get\", \"scene\": \"scene\", \"showlegend\": true, \"type\": \"scatter3d\", \"x\": [-0.7443755269050598], \"y\": [0.0197688527405262], \"z\": [-0.19388212263584137]}, {\"hovertemplate\": \"color=mouth<br>0=%{x}<br>1=%{y}<br>2=%{z}<extra></extra>\", \"legendgroup\": \"mouth\", \"marker\": {\"color\": \"#FFA15A\", \"symbol\": \"circle\"}, \"mode\": \"markers\", \"name\": \"mouth\", \"scene\": \"scene\", \"showlegend\": true, \"type\": \"scatter3d\", \"x\": [-0.48371297121047974], \"y\": [0.5059872269630432], \"z\": [-0.41362079977989197]}, {\"hovertemplate\": \"color=seven<br>0=%{x}<br>1=%{y}<br>2=%{z}<extra></extra>\", \"legendgroup\": \"seven\", \"marker\": {\"color\": \"#19d3f3\", \"symbol\": \"circle\"}, \"mode\": \"markers\", \"name\": \"seven\", \"scene\": \"scene\", \"showlegend\": true, \"type\": \"scatter3d\", \"x\": [-0.5579496026039124], \"y\": [-0.2078913003206253], \"z\": [0.7392672896385193]}, {\"hovertemplate\": \"color=watch<br>0=%{x}<br>1=%{y}<br>2=%{z}<extra></extra>\", \"legendgroup\": \"watch\", \"marker\": {\"color\": \"#FF6692\", \"symbol\": \"circle\"}, \"mode\": \"markers\", \"name\": \"watch\", \"scene\": \"scene\", \"showlegend\": true, \"type\": \"scatter3d\", \"x\": [-0.6586876511573792], \"y\": [-0.18196187913417816], \"z\": [0.26791098713874817]}, {\"hovertemplate\": \"color=door<br>0=%{x}<br>1=%{y}<br>2=%{z}<extra></extra>\", \"legendgroup\": \"door\", \"marker\": {\"color\": \"#B6E880\", \"symbol\": \"circle\"}, \"mode\": \"markers\", \"name\": \"door\", \"scene\": \"scene\", \"showlegend\": true, \"type\": \"scatter3d\", \"x\": [-0.5031376481056213], \"y\": [0.5328890681266785], \"z\": [-0.17047056555747986]}, {\"hovertemplate\": \"color=joffrey<br>0=%{x}<br>1=%{y}<br>2=%{z}<extra></extra>\", \"legendgroup\": \"joffrey\", \"marker\": {\"color\": \"#FF97FF\", \"symbol\": \"circle\"}, \"mode\": \"markers\", \"name\": \"joffrey\", \"scene\": \"scene\", \"showlegend\": true, \"type\": \"scatter3d\", \"x\": [-0.6157663464546204], \"y\": [-0.3376622796058655], \"z\": [-0.1130770668387413]}, {\"hovertemplate\": \"color=green<br>0=%{x}<br>1=%{y}<br>2=%{z}<extra></extra>\", \"legendgroup\": \"green\", \"marker\": {\"color\": \"#FECB52\", \"symbol\": \"circle\"}, \"mode\": \"markers\", \"name\": \"green\", \"scene\": \"scene\", \"showlegend\": true, \"type\": \"scatter3d\", \"x\": [-0.17399872839450836], \"y\": [0.4526863694190979], \"z\": [0.23063351213932037]}, {\"hovertemplate\": \"color=big<br>0=%{x}<br>1=%{y}<br>2=%{z}<extra></extra>\", \"legendgroup\": \"big\", \"marker\": {\"color\": \"#636efa\", \"symbol\": \"circle\"}, \"mode\": \"markers\", \"name\": \"big\", \"scene\": \"scene\", \"showlegend\": true, \"type\": \"scatter3d\", \"x\": [-0.3132220208644867], \"y\": [0.32006365060806274], \"z\": [-0.16458500921726227]}, {\"hovertemplate\": \"color=under<br>0=%{x}<br>1=%{y}<br>2=%{z}<extra></extra>\", \"legendgroup\": \"under\", \"marker\": {\"color\": \"#EF553B\", \"symbol\": \"circle\"}, \"mode\": \"markers\", \"name\": \"under\", \"scene\": \"scene\", \"showlegend\": true, \"type\": \"scatter3d\", \"x\": [-0.2685128152370453], \"y\": [0.5915462374687195], \"z\": [-0.20568284392356873]}, {\"hovertemplate\": \"color=few<br>0=%{x}<br>1=%{y}<br>2=%{z}<extra></extra>\", \"legendgroup\": \"few\", \"marker\": {\"color\": \"#00cc96\", \"symbol\": \"circle\"}, \"mode\": \"markers\", \"name\": \"few\", \"scene\": \"scene\", \"showlegend\": true, \"type\": \"scatter3d\", \"x\": [-0.5053244233131409], \"y\": [0.1333344429731369], \"z\": [0.3990348279476166]}, {\"hovertemplate\": \"color=sent<br>0=%{x}<br>1=%{y}<br>2=%{z}<extra></extra>\", \"legendgroup\": \"sent\", \"marker\": {\"color\": \"#ab63fa\", \"symbol\": \"circle\"}, \"mode\": \"markers\", \"name\": \"sent\", \"scene\": \"scene\", \"showlegend\": true, \"type\": \"scatter3d\", \"x\": [-0.6189749240875244], \"y\": [-0.128065288066864], \"z\": [-0.20266470313072205]}, {\"hovertemplate\": \"color=perhaps<br>0=%{x}<br>1=%{y}<br>2=%{z}<extra></extra>\", \"legendgroup\": \"perhaps\", \"marker\": {\"color\": \"#FFA15A\", \"symbol\": \"circle\"}, \"mode\": \"markers\", \"name\": \"perhaps\", \"scene\": \"scene\", \"showlegend\": true, \"type\": \"scatter3d\", \"x\": [-0.701501190662384], \"y\": [-0.5191797614097595], \"z\": [0.11383680999279022]}, {\"hovertemplate\": \"color=almost<br>0=%{x}<br>1=%{y}<br>2=%{z}<extra></extra>\", \"legendgroup\": \"almost\", \"marker\": {\"color\": \"#19d3f3\", \"symbol\": \"circle\"}, \"mode\": \"markers\", \"name\": \"almost\", \"scene\": \"scene\", \"showlegend\": true, \"type\": \"scatter3d\", \"x\": [-0.5368223190307617], \"y\": [0.356417715549469], \"z\": [-0.3033334016799927]}, {\"hovertemplate\": \"color=such<br>0=%{x}<br>1=%{y}<br>2=%{z}<extra></extra>\", \"legendgroup\": \"such\", \"marker\": {\"color\": \"#FF6692\", \"symbol\": \"circle\"}, \"mode\": \"markers\", \"name\": \"such\", \"scene\": \"scene\", \"showlegend\": true, \"type\": \"scatter3d\", \"x\": [-0.6605968475341797], \"y\": [-0.48571744561195374], \"z\": [0.266213059425354]}, {\"hovertemplate\": \"color=wanted<br>0=%{x}<br>1=%{y}<br>2=%{z}<extra></extra>\", \"legendgroup\": \"wanted\", \"marker\": {\"color\": \"#B6E880\", \"symbol\": \"circle\"}, \"mode\": \"markers\", \"name\": \"wanted\", \"scene\": \"scene\", \"showlegend\": true, \"type\": \"scatter3d\", \"x\": [-0.7734960317611694], \"y\": [-0.2659577429294586], \"z\": [-0.32973653078079224]}, {\"hovertemplate\": \"color=daughter<br>0=%{x}<br>1=%{y}<br>2=%{z}<extra></extra>\", \"legendgroup\": \"daughter\", \"marker\": {\"color\": \"#FF97FF\", \"symbol\": \"circle\"}, \"mode\": \"markers\", \"name\": \"daughter\", \"scene\": \"scene\", \"showlegend\": true, \"type\": \"scatter3d\", \"x\": [-0.43482640385627747], \"y\": [-0.49123769998550415], \"z\": [0.029568353667855263]}, {\"hovertemplate\": \"color=true<br>0=%{x}<br>1=%{y}<br>2=%{z}<extra></extra>\", \"legendgroup\": \"true\", \"marker\": {\"color\": \"#FECB52\", \"symbol\": \"circle\"}, \"mode\": \"markers\", \"name\": \"true\", \"scene\": \"scene\", \"showlegend\": true, \"type\": \"scatter3d\", \"x\": [-0.6758331656455994], \"y\": [-0.5673220753669739], \"z\": [0.17512789368629456]}, {\"hovertemplate\": \"color=while<br>0=%{x}<br>1=%{y}<br>2=%{z}<extra></extra>\", \"legendgroup\": \"while\", \"marker\": {\"color\": \"#636efa\", \"symbol\": \"circle\"}, \"mode\": \"markers\", \"name\": \"while\", \"scene\": \"scene\", \"showlegend\": true, \"type\": \"scatter3d\", \"x\": [-0.40474414825439453], \"y\": [0.38960710167884827], \"z\": [-0.06794776022434235]}, {\"hovertemplate\": \"color=leave<br>0=%{x}<br>1=%{y}<br>2=%{z}<extra></extra>\", \"legendgroup\": \"leave\", \"marker\": {\"color\": \"#EF553B\", \"symbol\": \"circle\"}, \"mode\": \"markers\", \"name\": \"leave\", \"scene\": \"scene\", \"showlegend\": true, \"type\": \"scatter3d\", \"x\": [-0.7407796382904053], \"y\": [-0.3047175109386444], \"z\": [-0.09346998482942581]}, {\"hovertemplate\": \"color=city<br>0=%{x}<br>1=%{y}<br>2=%{z}<extra></extra>\", \"legendgroup\": \"city\", \"marker\": {\"color\": \"#00cc96\", \"symbol\": \"circle\"}, \"mode\": \"markers\", \"name\": \"city\", \"scene\": \"scene\", \"showlegend\": true, \"type\": \"scatter3d\", \"x\": [-0.6299841403961182], \"y\": [0.0303457323461771], \"z\": [0.6756173372268677]}, {\"hovertemplate\": \"color=wind<br>0=%{x}<br>1=%{y}<br>2=%{z}<extra></extra>\", \"legendgroup\": \"wind\", \"marker\": {\"color\": \"#ab63fa\", \"symbol\": \"circle\"}, \"mode\": \"markers\", \"name\": \"wind\", \"scene\": \"scene\", \"showlegend\": true, \"type\": \"scatter3d\", \"x\": [-0.43281593918800354], \"y\": [0.7120970487594604], \"z\": [0.08509256690740585]}, {\"hovertemplate\": \"color=light<br>0=%{x}<br>1=%{y}<br>2=%{z}<extra></extra>\", \"legendgroup\": \"light\", \"marker\": {\"color\": \"#FFA15A\", \"symbol\": \"circle\"}, \"mode\": \"markers\", \"name\": \"light\", \"scene\": \"scene\", \"showlegend\": true, \"type\": \"scatter3d\", \"x\": [-0.486702024936676], \"y\": [0.5153437256813049], \"z\": [0.19543232023715973]}, {\"hovertemplate\": \"color=arms<br>0=%{x}<br>1=%{y}<br>2=%{z}<extra></extra>\", \"legendgroup\": \"arms\", \"marker\": {\"color\": \"#19d3f3\", \"symbol\": \"circle\"}, \"mode\": \"markers\", \"name\": \"arms\", \"scene\": \"scene\", \"showlegend\": true, \"type\": \"scatter3d\", \"x\": [-0.4119310975074768], \"y\": [0.28629884123802185], \"z\": [-0.12513260543346405]}, {\"hovertemplate\": \"color=children<br>0=%{x}<br>1=%{y}<br>2=%{z}<extra></extra>\", \"legendgroup\": \"children\", \"marker\": {\"color\": \"#FF6692\", \"symbol\": \"circle\"}, \"mode\": \"markers\", \"name\": \"children\", \"scene\": \"scene\", \"showlegend\": true, \"type\": \"scatter3d\", \"x\": [-0.604274332523346], \"y\": [-0.21494968235492706], \"z\": [0.5054079294204712]}, {\"hovertemplate\": \"color=herself<br>0=%{x}<br>1=%{y}<br>2=%{z}<extra></extra>\", \"legendgroup\": \"herself\", \"marker\": {\"color\": \"#B6E880\", \"symbol\": \"circle\"}, \"mode\": \"markers\", \"name\": \"herself\", \"scene\": \"scene\", \"showlegend\": true, \"type\": \"scatter3d\", \"x\": [-0.5908636450767517], \"y\": [0.04805629327893257], \"z\": [-0.2075757533311844]}, {\"hovertemplate\": \"color=sweet<br>0=%{x}<br>1=%{y}<br>2=%{z}<extra></extra>\", \"legendgroup\": \"sweet\", \"marker\": {\"color\": \"#FF97FF\", \"symbol\": \"circle\"}, \"mode\": \"markers\", \"name\": \"sweet\", \"scene\": \"scene\", \"showlegend\": true, \"type\": \"scatter3d\", \"x\": [-0.527243971824646], \"y\": [-0.29595252871513367], \"z\": [-0.18496835231781006]}, {\"hovertemplate\": \"color=others<br>0=%{x}<br>1=%{y}<br>2=%{z}<extra></extra>\", \"legendgroup\": \"others\", \"marker\": {\"color\": \"#FECB52\", \"symbol\": \"circle\"}, \"mode\": \"markers\", \"name\": \"others\", \"scene\": \"scene\", \"showlegend\": true, \"type\": \"scatter3d\", \"x\": [-0.52177494764328], \"y\": [0.1077975258231163], \"z\": [0.3835001587867737]}, {\"hovertemplate\": \"color=lost<br>0=%{x}<br>1=%{y}<br>2=%{z}<extra></extra>\", \"legendgroup\": \"lost\", \"marker\": {\"color\": \"#636efa\", \"symbol\": \"circle\"}, \"mode\": \"markers\", \"name\": \"lost\", \"scene\": \"scene\", \"showlegend\": true, \"type\": \"scatter3d\", \"x\": [-0.6426180005073547], \"y\": [-0.14918984472751617], \"z\": [-0.008593528531491756]}, {\"hovertemplate\": \"color=theon<br>0=%{x}<br>1=%{y}<br>2=%{z}<extra></extra>\", \"legendgroup\": \"theon\", \"marker\": {\"color\": \"#EF553B\", \"symbol\": \"circle\"}, \"mode\": \"markers\", \"name\": \"theon\", \"scene\": \"scene\", \"showlegend\": true, \"type\": \"scatter3d\", \"x\": [-0.5489533543586731], \"y\": [-0.09392925351858139], \"z\": [-0.17266887426376343]}, {\"hovertemplate\": \"color=each<br>0=%{x}<br>1=%{y}<br>2=%{z}<extra></extra>\", \"legendgroup\": \"each\", \"marker\": {\"color\": \"#00cc96\", \"symbol\": \"circle\"}, \"mode\": \"markers\", \"name\": \"each\", \"scene\": \"scene\", \"showlegend\": true, \"type\": \"scatter3d\", \"x\": [-0.4437844157218933], \"y\": [0.36253368854522705], \"z\": [0.24568744003772736]}, {\"hovertemplate\": \"color=felt<br>0=%{x}<br>1=%{y}<br>2=%{z}<extra></extra>\", \"legendgroup\": \"felt\", \"marker\": {\"color\": \"#ab63fa\", \"symbol\": \"circle\"}, \"mode\": \"markers\", \"name\": \"felt\", \"scene\": \"scene\", \"showlegend\": true, \"type\": \"scatter3d\", \"x\": [-0.587116003036499], \"y\": [0.2966683804988861], \"z\": [-0.47412413358688354]}, {\"hovertemplate\": \"color=side<br>0=%{x}<br>1=%{y}<br>2=%{z}<extra></extra>\", \"legendgroup\": \"side\", \"marker\": {\"color\": \"#FFA15A\", \"symbol\": \"circle\"}, \"mode\": \"markers\", \"name\": \"side\", \"scene\": \"scene\", \"showlegend\": true, \"type\": \"scatter3d\", \"x\": [-0.5374946594238281], \"y\": [0.44557031989097595], \"z\": [0.03620385751128197]}, {\"hovertemplate\": \"color=yes<br>0=%{x}<br>1=%{y}<br>2=%{z}<extra></extra>\", \"legendgroup\": \"yes\", \"marker\": {\"color\": \"#19d3f3\", \"symbol\": \"circle\"}, \"mode\": \"markers\", \"name\": \"yes\", \"scene\": \"scene\", \"showlegend\": true, \"type\": \"scatter3d\", \"x\": [-0.6014100909233093], \"y\": [-0.5681111216545105], \"z\": [-0.09310618042945862]}, {\"hovertemplate\": \"color=brothers<br>0=%{x}<br>1=%{y}<br>2=%{z}<extra></extra>\", \"legendgroup\": \"brothers\", \"marker\": {\"color\": \"#FF6692\", \"symbol\": \"circle\"}, \"mode\": \"markers\", \"name\": \"brothers\", \"scene\": \"scene\", \"showlegend\": true, \"type\": \"scatter3d\", \"x\": [-0.6213321685791016], \"y\": [-0.14750944077968597], \"z\": [0.3696230947971344]}, {\"hovertemplate\": \"color=best<br>0=%{x}<br>1=%{y}<br>2=%{z}<extra></extra>\", \"legendgroup\": \"best\", \"marker\": {\"color\": \"#B6E880\", \"symbol\": \"circle\"}, \"mode\": \"markers\", \"name\": \"best\", \"scene\": \"scene\", \"showlegend\": true, \"type\": \"scatter3d\", \"x\": [-0.7853802442550659], \"y\": [-0.3356035351753235], \"z\": [0.1439209133386612]}, {\"hovertemplate\": \"color=very<br>0=%{x}<br>1=%{y}<br>2=%{z}<extra></extra>\", \"legendgroup\": \"very\", \"marker\": {\"color\": \"#FF97FF\", \"symbol\": \"circle\"}, \"mode\": \"markers\", \"name\": \"very\", \"scene\": \"scene\", \"showlegend\": true, \"type\": \"scatter3d\", \"x\": [-0.5463050007820129], \"y\": [-0.1982966661453247], \"z\": [-0.03285137563943863]}, {\"hovertemplate\": \"color=die<br>0=%{x}<br>1=%{y}<br>2=%{z}<extra></extra>\", \"legendgroup\": \"die\", \"marker\": {\"color\": \"#FECB52\", \"symbol\": \"circle\"}, \"mode\": \"markers\", \"name\": \"die\", \"scene\": \"scene\", \"showlegend\": true, \"type\": \"scatter3d\", \"x\": [-0.7937201857566833], \"y\": [-0.2633901536464691], \"z\": [0.057812534272670746]}],                        {\"legend\": {\"title\": {\"text\": \"color\"}, \"tracegroupgap\": 0}, \"margin\": {\"t\": 60}, \"scene\": {\"domain\": {\"x\": [0.0, 1.0], \"y\": [0.0, 1.0]}, \"xaxis\": {\"title\": {\"text\": \"0\"}}, \"yaxis\": {\"title\": {\"text\": \"1\"}}, \"zaxis\": {\"title\": {\"text\": \"2\"}}}, \"template\": {\"data\": {\"bar\": [{\"error_x\": {\"color\": \"#2a3f5f\"}, \"error_y\": {\"color\": \"#2a3f5f\"}, \"marker\": {\"line\": {\"color\": \"#E5ECF6\", \"width\": 0.5}}, \"type\": \"bar\"}], \"barpolar\": [{\"marker\": {\"line\": {\"color\": \"#E5ECF6\", \"width\": 0.5}}, \"type\": \"barpolar\"}], \"carpet\": [{\"aaxis\": {\"endlinecolor\": \"#2a3f5f\", \"gridcolor\": \"white\", \"linecolor\": \"white\", \"minorgridcolor\": \"white\", \"startlinecolor\": \"#2a3f5f\"}, \"baxis\": {\"endlinecolor\": \"#2a3f5f\", \"gridcolor\": \"white\", \"linecolor\": \"white\", \"minorgridcolor\": \"white\", \"startlinecolor\": \"#2a3f5f\"}, \"type\": \"carpet\"}], \"choropleth\": [{\"colorbar\": {\"outlinewidth\": 0, \"ticks\": \"\"}, \"type\": \"choropleth\"}], \"contour\": [{\"colorbar\": {\"outlinewidth\": 0, \"ticks\": \"\"}, \"colorscale\": [[0.0, \"#0d0887\"], [0.1111111111111111, \"#46039f\"], [0.2222222222222222, \"#7201a8\"], [0.3333333333333333, \"#9c179e\"], [0.4444444444444444, \"#bd3786\"], [0.5555555555555556, \"#d8576b\"], [0.6666666666666666, \"#ed7953\"], [0.7777777777777778, \"#fb9f3a\"], [0.8888888888888888, \"#fdca26\"], [1.0, \"#f0f921\"]], \"type\": \"contour\"}], \"contourcarpet\": [{\"colorbar\": {\"outlinewidth\": 0, \"ticks\": \"\"}, \"type\": \"contourcarpet\"}], \"heatmap\": [{\"colorbar\": {\"outlinewidth\": 0, \"ticks\": \"\"}, \"colorscale\": [[0.0, \"#0d0887\"], [0.1111111111111111, \"#46039f\"], [0.2222222222222222, \"#7201a8\"], [0.3333333333333333, \"#9c179e\"], [0.4444444444444444, \"#bd3786\"], [0.5555555555555556, \"#d8576b\"], [0.6666666666666666, \"#ed7953\"], [0.7777777777777778, \"#fb9f3a\"], [0.8888888888888888, \"#fdca26\"], [1.0, \"#f0f921\"]], \"type\": \"heatmap\"}], \"heatmapgl\": [{\"colorbar\": {\"outlinewidth\": 0, \"ticks\": \"\"}, \"colorscale\": [[0.0, \"#0d0887\"], [0.1111111111111111, \"#46039f\"], [0.2222222222222222, \"#7201a8\"], [0.3333333333333333, \"#9c179e\"], [0.4444444444444444, \"#bd3786\"], [0.5555555555555556, \"#d8576b\"], [0.6666666666666666, \"#ed7953\"], [0.7777777777777778, \"#fb9f3a\"], [0.8888888888888888, \"#fdca26\"], [1.0, \"#f0f921\"]], \"type\": \"heatmapgl\"}], \"histogram\": [{\"marker\": {\"colorbar\": {\"outlinewidth\": 0, \"ticks\": \"\"}}, \"type\": \"histogram\"}], \"histogram2d\": [{\"colorbar\": {\"outlinewidth\": 0, \"ticks\": \"\"}, \"colorscale\": [[0.0, \"#0d0887\"], [0.1111111111111111, \"#46039f\"], [0.2222222222222222, \"#7201a8\"], [0.3333333333333333, \"#9c179e\"], [0.4444444444444444, \"#bd3786\"], [0.5555555555555556, \"#d8576b\"], [0.6666666666666666, \"#ed7953\"], [0.7777777777777778, \"#fb9f3a\"], [0.8888888888888888, \"#fdca26\"], [1.0, \"#f0f921\"]], \"type\": \"histogram2d\"}], \"histogram2dcontour\": [{\"colorbar\": {\"outlinewidth\": 0, \"ticks\": \"\"}, \"colorscale\": [[0.0, \"#0d0887\"], [0.1111111111111111, \"#46039f\"], [0.2222222222222222, \"#7201a8\"], [0.3333333333333333, \"#9c179e\"], [0.4444444444444444, \"#bd3786\"], [0.5555555555555556, \"#d8576b\"], [0.6666666666666666, \"#ed7953\"], [0.7777777777777778, \"#fb9f3a\"], [0.8888888888888888, \"#fdca26\"], [1.0, \"#f0f921\"]], \"type\": \"histogram2dcontour\"}], \"mesh3d\": [{\"colorbar\": {\"outlinewidth\": 0, \"ticks\": \"\"}, \"type\": \"mesh3d\"}], \"parcoords\": [{\"line\": {\"colorbar\": {\"outlinewidth\": 0, \"ticks\": \"\"}}, \"type\": \"parcoords\"}], \"pie\": [{\"automargin\": true, \"type\": \"pie\"}], \"scatter\": [{\"marker\": {\"colorbar\": {\"outlinewidth\": 0, \"ticks\": \"\"}}, \"type\": \"scatter\"}], \"scatter3d\": [{\"line\": {\"colorbar\": {\"outlinewidth\": 0, \"ticks\": \"\"}}, \"marker\": {\"colorbar\": {\"outlinewidth\": 0, \"ticks\": \"\"}}, \"type\": \"scatter3d\"}], \"scattercarpet\": [{\"marker\": {\"colorbar\": {\"outlinewidth\": 0, \"ticks\": \"\"}}, \"type\": \"scattercarpet\"}], \"scattergeo\": [{\"marker\": {\"colorbar\": {\"outlinewidth\": 0, \"ticks\": \"\"}}, \"type\": \"scattergeo\"}], \"scattergl\": [{\"marker\": {\"colorbar\": {\"outlinewidth\": 0, \"ticks\": \"\"}}, \"type\": \"scattergl\"}], \"scattermapbox\": [{\"marker\": {\"colorbar\": {\"outlinewidth\": 0, \"ticks\": \"\"}}, \"type\": \"scattermapbox\"}], \"scatterpolar\": [{\"marker\": {\"colorbar\": {\"outlinewidth\": 0, \"ticks\": \"\"}}, \"type\": \"scatterpolar\"}], \"scatterpolargl\": [{\"marker\": {\"colorbar\": {\"outlinewidth\": 0, \"ticks\": \"\"}}, \"type\": \"scatterpolargl\"}], \"scatterternary\": [{\"marker\": {\"colorbar\": {\"outlinewidth\": 0, \"ticks\": \"\"}}, \"type\": \"scatterternary\"}], \"surface\": [{\"colorbar\": {\"outlinewidth\": 0, \"ticks\": \"\"}, \"colorscale\": [[0.0, \"#0d0887\"], [0.1111111111111111, \"#46039f\"], [0.2222222222222222, \"#7201a8\"], [0.3333333333333333, \"#9c179e\"], [0.4444444444444444, \"#bd3786\"], [0.5555555555555556, \"#d8576b\"], [0.6666666666666666, \"#ed7953\"], [0.7777777777777778, \"#fb9f3a\"], [0.8888888888888888, \"#fdca26\"], [1.0, \"#f0f921\"]], \"type\": \"surface\"}], \"table\": [{\"cells\": {\"fill\": {\"color\": \"#EBF0F8\"}, \"line\": {\"color\": \"white\"}}, \"header\": {\"fill\": {\"color\": \"#C8D4E3\"}, \"line\": {\"color\": \"white\"}}, \"type\": \"table\"}]}, \"layout\": {\"annotationdefaults\": {\"arrowcolor\": \"#2a3f5f\", \"arrowhead\": 0, \"arrowwidth\": 1}, \"autotypenumbers\": \"strict\", \"coloraxis\": {\"colorbar\": {\"outlinewidth\": 0, \"ticks\": \"\"}}, \"colorscale\": {\"diverging\": [[0, \"#8e0152\"], [0.1, \"#c51b7d\"], [0.2, \"#de77ae\"], [0.3, \"#f1b6da\"], [0.4, \"#fde0ef\"], [0.5, \"#f7f7f7\"], [0.6, \"#e6f5d0\"], [0.7, \"#b8e186\"], [0.8, \"#7fbc41\"], [0.9, \"#4d9221\"], [1, \"#276419\"]], \"sequential\": [[0.0, \"#0d0887\"], [0.1111111111111111, \"#46039f\"], [0.2222222222222222, \"#7201a8\"], [0.3333333333333333, \"#9c179e\"], [0.4444444444444444, \"#bd3786\"], [0.5555555555555556, \"#d8576b\"], [0.6666666666666666, \"#ed7953\"], [0.7777777777777778, \"#fb9f3a\"], [0.8888888888888888, \"#fdca26\"], [1.0, \"#f0f921\"]], \"sequentialminus\": [[0.0, \"#0d0887\"], [0.1111111111111111, \"#46039f\"], [0.2222222222222222, \"#7201a8\"], [0.3333333333333333, \"#9c179e\"], [0.4444444444444444, \"#bd3786\"], [0.5555555555555556, \"#d8576b\"], [0.6666666666666666, \"#ed7953\"], [0.7777777777777778, \"#fb9f3a\"], [0.8888888888888888, \"#fdca26\"], [1.0, \"#f0f921\"]]}, \"colorway\": [\"#636efa\", \"#EF553B\", \"#00cc96\", \"#ab63fa\", \"#FFA15A\", \"#19d3f3\", \"#FF6692\", \"#B6E880\", \"#FF97FF\", \"#FECB52\"], \"font\": {\"color\": \"#2a3f5f\"}, \"geo\": {\"bgcolor\": \"white\", \"lakecolor\": \"white\", \"landcolor\": \"#E5ECF6\", \"showlakes\": true, \"showland\": true, \"subunitcolor\": \"white\"}, \"hoverlabel\": {\"align\": \"left\"}, \"hovermode\": \"closest\", \"mapbox\": {\"style\": \"light\"}, \"paper_bgcolor\": \"white\", \"plot_bgcolor\": \"#E5ECF6\", \"polar\": {\"angularaxis\": {\"gridcolor\": \"white\", \"linecolor\": \"white\", \"ticks\": \"\"}, \"bgcolor\": \"#E5ECF6\", \"radialaxis\": {\"gridcolor\": \"white\", \"linecolor\": \"white\", \"ticks\": \"\"}}, \"scene\": {\"xaxis\": {\"backgroundcolor\": \"#E5ECF6\", \"gridcolor\": \"white\", \"gridwidth\": 2, \"linecolor\": \"white\", \"showbackground\": true, \"ticks\": \"\", \"zerolinecolor\": \"white\"}, \"yaxis\": {\"backgroundcolor\": \"#E5ECF6\", \"gridcolor\": \"white\", \"gridwidth\": 2, \"linecolor\": \"white\", \"showbackground\": true, \"ticks\": \"\", \"zerolinecolor\": \"white\"}, \"zaxis\": {\"backgroundcolor\": \"#E5ECF6\", \"gridcolor\": \"white\", \"gridwidth\": 2, \"linecolor\": \"white\", \"showbackground\": true, \"ticks\": \"\", \"zerolinecolor\": \"white\"}}, \"shapedefaults\": {\"line\": {\"color\": \"#2a3f5f\"}}, \"ternary\": {\"aaxis\": {\"gridcolor\": \"white\", \"linecolor\": \"white\", \"ticks\": \"\"}, \"baxis\": {\"gridcolor\": \"white\", \"linecolor\": \"white\", \"ticks\": \"\"}, \"bgcolor\": \"#E5ECF6\", \"caxis\": {\"gridcolor\": \"white\", \"linecolor\": \"white\", \"ticks\": \"\"}}, \"title\": {\"x\": 0.05}, \"xaxis\": {\"automargin\": true, \"gridcolor\": \"white\", \"linecolor\": \"white\", \"ticks\": \"\", \"title\": {\"standoff\": 15}, \"zerolinecolor\": \"white\", \"zerolinewidth\": 2}, \"yaxis\": {\"automargin\": true, \"gridcolor\": \"white\", \"linecolor\": \"white\", \"ticks\": \"\", \"title\": {\"standoff\": 15}, \"zerolinecolor\": \"white\", \"zerolinewidth\": 2}}}},                        {\"responsive\": true}                    ).then(function(){\n",
              "                            \n",
              "var gd = document.getElementById('531f63e1-0190-474a-9ad9-8209da7a782c');\n",
              "var x = new MutationObserver(function (mutations, observer) {{\n",
              "        var display = window.getComputedStyle(gd).display;\n",
              "        if (!display || display === 'none') {{\n",
              "            console.log([gd, 'removed!']);\n",
              "            Plotly.purge(gd);\n",
              "            observer.disconnect();\n",
              "        }}\n",
              "}});\n",
              "\n",
              "// Listen for the removal of the full notebook cells\n",
              "var notebookContainer = gd.closest('#notebook-container');\n",
              "if (notebookContainer) {{\n",
              "    x.observe(notebookContainer, {childList: true});\n",
              "}}\n",
              "\n",
              "// Listen for the clearing of the current output cell\n",
              "var outputEl = gd.closest('.output');\n",
              "if (outputEl) {{\n",
              "    x.observe(outputEl, {childList: true});\n",
              "}}\n",
              "\n",
              "                        })                };                });            </script>        </div>"
            ]
          },
          "metadata": {},
          "output_type": "display_data"
        }
      ],
      "source": [
        "import plotly.express as px\n",
        "fig = px.scatter_3d(X[200:300],x=0,y=1,z=2, color=y[200:300])\n",
        "fig.show()"
      ]
    },
    {
      "cell_type": "code",
      "execution_count": null,
      "metadata": {
        "id": "0iLDKmg33Z1v"
      },
      "outputs": [],
      "source": []
    },
    {
      "cell_type": "markdown",
      "metadata": {
        "id": "FLT5rTMY3Z1v"
      },
      "source": [
        "# 3. Scratch"
      ]
    },
    {
      "cell_type": "markdown",
      "metadata": {
        "id": "v7q_m6VV3Z1v"
      },
      "source": [
        "### Loading the Data"
      ]
    },
    {
      "cell_type": "code",
      "execution_count": 1,
      "metadata": {
        "colab": {
          "base_uri": "https://localhost:8080/"
        },
        "id": "K-d1XMzh3iZD",
        "outputId": "43a91731-abf3-4b69-c3e2-4fd5d56b727e"
      },
      "outputs": [
        {
          "name": "stdout",
          "output_type": "stream",
          "text": [
            "Drive already mounted at /content/drive; to attempt to forcibly remount, call drive.mount(\"/content/drive\", force_remount=True).\n"
          ]
        }
      ],
      "source": [
        "# For Google Colab\n",
        "\n",
        "# from google.colab import drive\n",
        "# drive.mount('/content/drive')\n",
        "# data_url = \"/content/drive/MyDrive/Temp/Datasets/game-of-thrones-books\""
      ]
    },
    {
      "cell_type": "code",
      "execution_count": 2,
      "metadata": {
        "colab": {
          "base_uri": "https://localhost:8080/"
        },
        "id": "5wboqXgD3Z1v",
        "outputId": "802d49b4-619d-4ee3-f110-900632f6743b"
      },
      "outputs": [
        {
          "name": "stdout",
          "output_type": "stream",
          "text": [
            "002ssb.txt\n",
            "003ssb.txt\n",
            "001ssb.txt\n",
            "004ssb.txt\n",
            "005ssb.txt\n"
          ]
        },
        {
          "data": {
            "text/plain": [
              "5714229"
            ]
          },
          "execution_count": 2,
          "metadata": {},
          "output_type": "execute_result"
        }
      ],
      "source": [
        "import os\n",
        "data_url = \"./datasets/game-of-thrones-books/\"\n",
        "\n",
        "corpus = \"\"\n",
        "for filename in os.listdir(data_url):\n",
        "\tprint(filename)\n",
        "\twith open(os.path.join(data_url, filename), 'r') as f:\n",
        "\t\ttry:\n",
        "\t\t\tcorpus += f.read()\n",
        "\t\texcept: pass\n",
        "\n",
        "len(corpus)"
      ]
    },
    {
      "cell_type": "code",
      "execution_count": 3,
      "metadata": {
        "id": "ke4WeUkM3Z1v"
      },
      "outputs": [],
      "source": [
        "def show_corpus(corpus):\n",
        "\tprint(\"Size:\", len(corpus))\n",
        "\treturn corpus[:1000]"
      ]
    },
    {
      "cell_type": "code",
      "execution_count": 4,
      "metadata": {
        "colab": {
          "base_uri": "https://localhost:8080/",
          "height": 209
        },
        "id": "y1341DhV3Z1w",
        "outputId": "4a4015b8-4a5f-4a22-bef5-c8173cdec270"
      },
      "outputs": [
        {
          "name": "stdout",
          "output_type": "stream",
          "text": [
            "Size: 5714229\n"
          ]
        },
        {
          "data": {
            "application/vnd.google.colaboratory.intrinsic+json": {
              "type": "string"
            },
            "text/plain": [
              "\"A Clash of Kings \\nBook Two of A song of Ice and Fire \\nBy George R. R. Martin \\nPROLOGUE \\nThe comet's tail spread across the dawn, a red slash that bled above the crags of Dragonstone like a \\nwound in the pink and purple sky. \\nThe maester stood on the windswept balcony outside his chambers. It was here the ravens came, after \\nlong flight. Their droppings speckled the gargoyles that rose twelve feet tall on either side of him, a \\nhellhound and a wyvern, two of the thousand that brooded over the walls of the ancient fortress. When \\nfirst he came to Dragonstone, the army of stone grotesques had made him uneasy, but as the years \\npassed he had grown used to them. Now he thought of them as old friends. The three of them watched \\nthe sky together with foreboding. \\nThe maester did not believe in omens. And yet . . . old as he was, Cressen had never seen a comet half \\nso bright, nor yet that color, that terrible color, the color of blood and flame and sunsets. He wondered if \\nhis gargoyles had e\""
            ]
          },
          "execution_count": 4,
          "metadata": {},
          "output_type": "execute_result"
        }
      ],
      "source": [
        "show_corpus(corpus)"
      ]
    },
    {
      "cell_type": "markdown",
      "metadata": {
        "id": "CffSmzOd3Z1w"
      },
      "source": [
        "### Lowercase"
      ]
    },
    {
      "cell_type": "code",
      "execution_count": 5,
      "metadata": {
        "id": "IpB7XtOJ3Z1w"
      },
      "outputs": [],
      "source": [
        "corpus = corpus.lower()"
      ]
    },
    {
      "cell_type": "code",
      "execution_count": 6,
      "metadata": {
        "colab": {
          "base_uri": "https://localhost:8080/",
          "height": 209
        },
        "id": "Xcp9VTR53Z1w",
        "outputId": "ca9fce4b-a948-4993-ce3d-c8f787eed3fd"
      },
      "outputs": [
        {
          "name": "stdout",
          "output_type": "stream",
          "text": [
            "Size: 5714229\n"
          ]
        },
        {
          "data": {
            "application/vnd.google.colaboratory.intrinsic+json": {
              "type": "string"
            },
            "text/plain": [
              "\"a clash of kings \\nbook two of a song of ice and fire \\nby george r. r. martin \\nprologue \\nthe comet's tail spread across the dawn, a red slash that bled above the crags of dragonstone like a \\nwound in the pink and purple sky. \\nthe maester stood on the windswept balcony outside his chambers. it was here the ravens came, after \\nlong flight. their droppings speckled the gargoyles that rose twelve feet tall on either side of him, a \\nhellhound and a wyvern, two of the thousand that brooded over the walls of the ancient fortress. when \\nfirst he came to dragonstone, the army of stone grotesques had made him uneasy, but as the years \\npassed he had grown used to them. now he thought of them as old friends. the three of them watched \\nthe sky together with foreboding. \\nthe maester did not believe in omens. and yet . . . old as he was, cressen had never seen a comet half \\nso bright, nor yet that color, that terrible color, the color of blood and flame and sunsets. he wondered if \\nhis gargoyles had e\""
            ]
          },
          "execution_count": 6,
          "metadata": {},
          "output_type": "execute_result"
        }
      ],
      "source": [
        "show_corpus(corpus)"
      ]
    },
    {
      "cell_type": "markdown",
      "metadata": {
        "id": "jhrxwCgo3Z1w"
      },
      "source": [
        "### Punctuations"
      ]
    },
    {
      "cell_type": "code",
      "execution_count": 7,
      "metadata": {
        "id": "FUW-jBOD3Z1x"
      },
      "outputs": [],
      "source": [
        "import string\n",
        "punc = string.punctuation\n",
        "\n",
        "def remove_punc(text):\n",
        "    return text.translate(str.maketrans(\"\", \"\", punc))\n",
        "\n",
        "corpus = remove_punc(corpus)"
      ]
    },
    {
      "cell_type": "code",
      "execution_count": 8,
      "metadata": {
        "colab": {
          "base_uri": "https://localhost:8080/",
          "height": 209
        },
        "id": "ZkNUG6Lr3Z1x",
        "outputId": "60c8c0e2-e323-47b6-df0c-a524c87103fd"
      },
      "outputs": [
        {
          "name": "stdout",
          "output_type": "stream",
          "text": [
            "Size: 5457910\n"
          ]
        },
        {
          "data": {
            "application/vnd.google.colaboratory.intrinsic+json": {
              "type": "string"
            },
            "text/plain": [
              "'a clash of kings \\nbook two of a song of ice and fire \\nby george r r martin \\nprologue \\nthe comets tail spread across the dawn a red slash that bled above the crags of dragonstone like a \\nwound in the pink and purple sky \\nthe maester stood on the windswept balcony outside his chambers it was here the ravens came after \\nlong flight their droppings speckled the gargoyles that rose twelve feet tall on either side of him a \\nhellhound and a wyvern two of the thousand that brooded over the walls of the ancient fortress when \\nfirst he came to dragonstone the army of stone grotesques had made him uneasy but as the years \\npassed he had grown used to them now he thought of them as old friends the three of them watched \\nthe sky together with foreboding \\nthe maester did not believe in omens and yet    old as he was cressen had never seen a comet half \\nso bright nor yet that color that terrible color the color of blood and flame and sunsets he wondered if \\nhis gargoyles had ever seen its like they ha'"
            ]
          },
          "execution_count": 8,
          "metadata": {},
          "output_type": "execute_result"
        }
      ],
      "source": [
        "show_corpus(corpus)"
      ]
    },
    {
      "cell_type": "markdown",
      "metadata": {
        "id": "QLxf0K903Z1x"
      },
      "source": [
        "### Stopwords"
      ]
    },
    {
      "cell_type": "code",
      "execution_count": 9,
      "metadata": {
        "id": "uaKBPn043Z1x"
      },
      "outputs": [],
      "source": [
        "from gensim.parsing.preprocessing import remove_stopwords\n",
        "\n",
        "\n",
        "corpus = remove_stopwords(corpus)"
      ]
    },
    {
      "cell_type": "code",
      "execution_count": 10,
      "metadata": {
        "colab": {
          "base_uri": "https://localhost:8080/",
          "height": 209
        },
        "id": "dkShu-qm3Z1x",
        "outputId": "a0845fde-4212-4571-e3c2-ff10d9588c7d"
      },
      "outputs": [
        {
          "name": "stdout",
          "output_type": "stream",
          "text": [
            "Size: 3078448\n"
          ]
        },
        {
          "data": {
            "application/vnd.google.colaboratory.intrinsic+json": {
              "type": "string"
            },
            "text/plain": [
              "'clash kings book song ice george r r martin prologue comets tail spread dawn red slash bled crags dragonstone like wound pink purple sky maester stood windswept balcony outside chambers ravens came long flight droppings speckled gargoyles rose feet tall hellhound wyvern thousand brooded walls ancient fortress came dragonstone army stone grotesques uneasy years passed grown thought old friends watched sky foreboding maester believe omens old cressen seen comet half bright color terrible color color blood flame sunsets wondered gargoyles seen like longer long gone stone tongues speak folly leaned battlement sea crashing beneath black stone rough beneath fingers talking gargoyles prophecies sky old man grown giddy child lifetimes hardwon wisdom fled health strength maester trained chained great citadel oldtown come superstition filled head ignorant fieldhand comet burned day pale grey steam rose hot vents dragonmont castle yestermorn white raven brought word citadel word longexpected fear'"
            ]
          },
          "execution_count": 10,
          "metadata": {},
          "output_type": "execute_result"
        }
      ],
      "source": [
        "show_corpus(corpus)"
      ]
    },
    {
      "cell_type": "markdown",
      "metadata": {
        "id": "a2XmCpZ13Z1x"
      },
      "source": [
        "### Tokens (Splitting Words)"
      ]
    },
    {
      "cell_type": "code",
      "execution_count": 11,
      "metadata": {
        "id": "1ZQsCNez3Z1x"
      },
      "outputs": [],
      "source": [
        "from gensim.utils import simple_preprocess\n",
        "\n",
        "tokens = simple_preprocess(corpus)"
      ]
    },
    {
      "cell_type": "code",
      "execution_count": 12,
      "metadata": {
        "colab": {
          "base_uri": "https://localhost:8080/"
        },
        "id": "jmrVMd443Z1y",
        "outputId": "5308634b-5846-42ac-d82a-eb015fbd4b74"
      },
      "outputs": [
        {
          "name": "stdout",
          "output_type": "stream",
          "text": [
            "472262\n",
            "['clash', 'kings', 'book', 'song', 'ice', 'george', 'martin', 'prologue', 'comets', 'tail', 'spread', 'dawn', 'red', 'slash', 'bled', 'crags', 'dragonstone', 'like', 'wound', 'pink', 'purple', 'sky', 'maester', 'stood', 'windswept', 'balcony', 'outside', 'chambers', 'ravens', 'came', 'long', 'flight', 'droppings', 'speckled', 'gargoyles', 'rose', 'feet', 'tall', 'hellhound', 'wyvern', 'thousand', 'brooded', 'walls', 'ancient', 'fortress', 'came', 'dragonstone', 'army', 'stone', 'grotesques', 'uneasy', 'years', 'passed', 'grown', 'thought', 'old', 'friends', 'watched', 'sky', 'foreboding', 'maester', 'believe', 'omens', 'old', 'cressen', 'seen', 'comet', 'half', 'bright', 'color', 'terrible', 'color', 'color', 'blood', 'flame', 'sunsets', 'wondered', 'gargoyles', 'seen', 'like', 'longer', 'long', 'gone', 'stone', 'tongues', 'speak', 'folly', 'leaned', 'battlement', 'sea', 'crashing', 'beneath', 'black', 'stone', 'rough', 'beneath', 'fingers', 'talking', 'gargoyles', 'prophecies', 'sky', 'old', 'man', 'grown', 'giddy', 'child', 'lifetimes', 'hardwon', 'wisdom', 'fled', 'health', 'strength', 'maester', 'trained', 'chained', 'great', 'citadel', 'oldtown', 'come', 'superstition', 'filled', 'head', 'ignorant', 'fieldhand', 'comet', 'burned', 'day', 'pale', 'grey', 'steam', 'rose', 'hot', 'vents', 'dragonmont', 'castle', 'yestermorn', 'white', 'raven', 'brought', 'word', 'citadel', 'word', 'longexpected', 'fearful', 'word', 'summers', 'end', 'omens', 'deny', 'mean', 'wanted', 'page', 'maester', 'cressen', 'visitors', 'pylos', 'spoke', 'softly', 'loath', 'disturb', 'cressens', 'solemn', 'meditations', 'known', 'drivel', 'filled', 'head', 'shouted', 'princess', 'white', 'raven', 'correct', 'pylos', 'called', 'princess', 'lord', 'father', 'king', 'king', 'smoking', 'rock', 'great', 'salt', 'sea', 'king', 'nonetheless', 'fool', 'old', 'man', 'turned', 'away', 'dawn', 'keeping', 'hand', 'wyvern', 'steady', 'help', 'chair', 'taking', 'arm']\n"
          ]
        }
      ],
      "source": [
        "print(len(tokens))\n",
        "print(tokens[:200])"
      ]
    },
    {
      "cell_type": "markdown",
      "metadata": {
        "id": "Z4mwvLcS3Z1y"
      },
      "source": [
        "### Hyper Paramters"
      ]
    },
    {
      "cell_type": "code",
      "execution_count": 13,
      "metadata": {
        "colab": {
          "base_uri": "https://localhost:8080/"
        },
        "id": "vfFMFSzb3Z1y",
        "outputId": "f7e00ab4-318a-4138-8f0d-282d67914a4d"
      },
      "outputs": [
        {
          "data": {
            "text/plain": [
              "472262"
            ]
          },
          "execution_count": 13,
          "metadata": {},
          "output_type": "execute_result"
        }
      ],
      "source": [
        "len(tokens)"
      ]
    },
    {
      "cell_type": "code",
      "execution_count": 86,
      "metadata": {
        "id": "7tfbSdBT3Z1y"
      },
      "outputs": [],
      "source": [
        "CORPUS_SIZE = 20000     # Number of Words to take from corpus\n",
        "WINDOW_SIZE = 1\t\t\t# Sliding Window\n",
        "N_FEATURES = 300\t\t# Number of Features"
      ]
    },
    {
      "cell_type": "markdown",
      "metadata": {
        "id": "G8vbe1tt3Z1y"
      },
      "source": [
        "### Limiting Corpus Size"
      ]
    },
    {
      "cell_type": "code",
      "execution_count": 87,
      "metadata": {
        "id": "A1r6vKS03Z1y"
      },
      "outputs": [],
      "source": [
        "RANGE = range(WINDOW_SIZE, CORPUS_SIZE-WINDOW_SIZE)"
      ]
    },
    {
      "cell_type": "code",
      "execution_count": 88,
      "metadata": {
        "id": "QvWbM_bh3Z1y"
      },
      "outputs": [],
      "source": [
        "reduced_tokens = tokens[:CORPUS_SIZE]"
      ]
    },
    {
      "cell_type": "code",
      "execution_count": 89,
      "metadata": {
        "colab": {
          "base_uri": "https://localhost:8080/"
        },
        "id": "gz7hdfVn3Z1z",
        "outputId": "75837e23-a071-41af-c4ca-997be4a5de3f"
      },
      "outputs": [
        {
          "name": "stdout",
          "output_type": "stream",
          "text": [
            "['clash', 'kings', 'book', 'song', 'ice', 'george', 'martin', 'prologue', 'comets', 'tail', 'spread', 'dawn', 'red', 'slash', 'bled', 'crags', 'dragonstone', 'like', 'wound', 'pink', 'purple', 'sky', 'maester', 'stood', 'windswept', 'balcony', 'outside', 'chambers', 'ravens', 'came', 'long', 'flight', 'droppings', 'speckled', 'gargoyles', 'rose', 'feet', 'tall', 'hellhound', 'wyvern', 'thousand', 'brooded', 'walls', 'ancient', 'fortress', 'came', 'dragonstone', 'army', 'stone', 'grotesques', 'uneasy', 'years', 'passed', 'grown', 'thought', 'old', 'friends', 'watched', 'sky', 'foreboding', 'maester', 'believe', 'omens', 'old', 'cressen', 'seen', 'comet', 'half', 'bright', 'color', 'terrible', 'color', 'color', 'blood', 'flame', 'sunsets', 'wondered', 'gargoyles', 'seen', 'like', 'longer', 'long', 'gone', 'stone', 'tongues', 'speak', 'folly', 'leaned', 'battlement', 'sea', 'crashing', 'beneath', 'black', 'stone', 'rough', 'beneath', 'fingers', 'talking', 'gargoyles', 'prophecies']\n"
          ]
        }
      ],
      "source": [
        "print(reduced_tokens[:100])"
      ]
    },
    {
      "cell_type": "markdown",
      "metadata": {
        "id": "vSj_hwg43Z1z"
      },
      "source": [
        "### Lemmatization"
      ]
    },
    {
      "cell_type": "code",
      "execution_count": 90,
      "metadata": {
        "colab": {
          "base_uri": "https://localhost:8080/"
        },
        "id": "WYMI5B_P3Z1z",
        "outputId": "4e2ac883-78ff-4077-c1b8-df1c7f856971"
      },
      "outputs": [
        {
          "name": "stderr",
          "output_type": "stream",
          "text": [
            "[nltk_data] Downloading package wordnet to /root/nltk_data...\n",
            "[nltk_data]   Package wordnet is already up-to-date!\n",
            "[nltk_data] Downloading package omw-1.4 to /root/nltk_data...\n",
            "[nltk_data]   Package omw-1.4 is already up-to-date!\n"
          ]
        },
        {
          "data": {
            "text/plain": [
              "True"
            ]
          },
          "execution_count": 90,
          "metadata": {},
          "output_type": "execute_result"
        }
      ],
      "source": [
        "import nltk\n",
        "nltk.download('wordnet')\n",
        "nltk.download('omw-1.4')"
      ]
    },
    {
      "cell_type": "code",
      "execution_count": 91,
      "metadata": {
        "id": "XJZqLwOT3Z1z"
      },
      "outputs": [],
      "source": [
        "from nltk.stem import WordNetLemmatizer\n",
        "\n",
        "wordnet_lemmatizer = WordNetLemmatizer()\n",
        "\n",
        "lemmatized = [ wordnet_lemmatizer.lemmatize(word, pos=\"v\") for word in reduced_tokens ]"
      ]
    },
    {
      "cell_type": "code",
      "execution_count": 92,
      "metadata": {
        "colab": {
          "base_uri": "https://localhost:8080/"
        },
        "id": "YusL1iAR3Z1z",
        "outputId": "10362d94-ae91-407d-97b6-255e23f2dba1"
      },
      "outputs": [
        {
          "name": "stdout",
          "output_type": "stream",
          "text": [
            "['clash', 'kings', 'book', 'song', 'ice', 'george', 'martin', 'prologue', 'comets', 'tail', 'spread', 'dawn', 'red', 'slash', 'bleed', 'crags', 'dragonstone', 'like', 'wind', 'pink', 'purple', 'sky', 'maester', 'stand', 'windswept', 'balcony', 'outside', 'chamber', 'raven', 'come', 'long', 'flight', 'droppings', 'speckle', 'gargoyles', 'rise', 'feet', 'tall', 'hellhound', 'wyvern', 'thousand', 'brood', 'wall', 'ancient', 'fortress', 'come', 'dragonstone', 'army', 'stone', 'grotesques', 'uneasy', 'years', 'pass', 'grow', 'think', 'old', 'friends', 'watch', 'sky', 'forebode', 'maester', 'believe', 'omen', 'old', 'cressen', 'see', 'comet', 'half', 'bright', 'color', 'terrible', 'color', 'color', 'blood', 'flame', 'sunsets', 'wonder', 'gargoyles', 'see', 'like', 'longer', 'long', 'go', 'stone', 'tongue', 'speak', 'folly', 'lean', 'battlement', 'sea', 'crash', 'beneath', 'black', 'stone', 'rough', 'beneath', 'finger', 'talk', 'gargoyles', 'prophecies']\n"
          ]
        }
      ],
      "source": [
        "print(lemmatized[:100])"
      ]
    },
    {
      "cell_type": "markdown",
      "metadata": {
        "id": "LC4HqdlT3Z1z"
      },
      "source": [
        "### One Hot Encoding"
      ]
    },
    {
      "cell_type": "code",
      "execution_count": 93,
      "metadata": {
        "id": "Xa4xhlH43Z10"
      },
      "outputs": [],
      "source": [
        "import numpy as np\n",
        "from sklearn.preprocessing import OneHotEncoder\n",
        "\n",
        "encoder = OneHotEncoder()\n",
        "encoded = encoder.fit_transform(np.array(reduced_tokens).reshape(-1, 1)).toarray()"
      ]
    },
    {
      "cell_type": "code",
      "execution_count": 94,
      "metadata": {
        "colab": {
          "base_uri": "https://localhost:8080/"
        },
        "id": "fz9WOtm63Z10",
        "outputId": "a35b7c9d-bfe8-4f13-b804-6b8b0066b3cc"
      },
      "outputs": [
        {
          "data": {
            "text/plain": [
              "(20000, 4980)"
            ]
          },
          "execution_count": 94,
          "metadata": {},
          "output_type": "execute_result"
        }
      ],
      "source": [
        "encoded.shape"
      ]
    },
    {
      "cell_type": "markdown",
      "metadata": {
        "id": "SogJLsrg3Z10"
      },
      "source": [
        "### Vocabulary"
      ]
    },
    {
      "cell_type": "code",
      "execution_count": 95,
      "metadata": {
        "colab": {
          "base_uri": "https://localhost:8080/"
        },
        "id": "sLrHGgpD3Z10",
        "outputId": "c4c723c4-3ae3-47f6-af0e-d11d862f0311"
      },
      "outputs": [
        {
          "name": "stdout",
          "output_type": "stream",
          "text": [
            "vocab size: 4980\n",
            "['aah' 'aahooooooo' 'abed' 'abide' 'abided' 'ablaze' 'able' 'abruptly'\n",
            " 'absence' 'absolve' 'absurd' 'accept' 'accepted' 'access' 'accompanied'\n",
            " 'accompaniment' 'according' 'account' 'accused' 'accusingly']\n"
          ]
        }
      ],
      "source": [
        "VOCAB = encoder.categories_[0]\n",
        "VOCAB_SIZE = len(VOCAB)\n",
        "print(\"vocab size:\", VOCAB_SIZE)\n",
        "print(VOCAB[:20])"
      ]
    },
    {
      "cell_type": "markdown",
      "metadata": {
        "id": "1PgD8JKc3Z10"
      },
      "source": [
        "### Preparing X and Y"
      ]
    },
    {
      "cell_type": "code",
      "execution_count": 96,
      "metadata": {
        "id": "Hw_OA9l08PUY"
      },
      "outputs": [],
      "source": [
        "encoded = encoded.astype('int8')"
      ]
    },
    {
      "cell_type": "code",
      "execution_count": 99,
      "metadata": {
        "id": "QH3d1csq-oKP"
      },
      "outputs": [],
      "source": [
        "import tensorflow as tf"
      ]
    },
    {
      "cell_type": "code",
      "execution_count": 100,
      "metadata": {
        "colab": {
          "base_uri": "https://localhost:8080/"
        },
        "id": "Bb1bnMV53Z10",
        "outputId": "112729b2-2b9c-41a3-b340-1fbd90a8c01c"
      },
      "outputs": [
        {
          "name": "stderr",
          "output_type": "stream",
          "text": [
            "100%|██████████| 19998/19998 [10:22<00:00, 32.11it/s]\n"
          ]
        }
      ],
      "source": [
        "from tqdm import tqdm\n",
        "\n",
        "X = np.array([])\n",
        "Y = np.array([])\n",
        "\n",
        "with tf.device('/GPU:0'):\n",
        "\tfor i in tqdm(RANGE):\n",
        "\n",
        "\t\tleft = encoded[i-WINDOW_SIZE:i].flatten()\n",
        "\t\tright = encoded[i+1:i+WINDOW_SIZE+1].flatten()\n",
        "\n",
        "\t\tx = np.concatenate([left, right])\n",
        "\t\ty = encoded[i]\n",
        "\t\t\n",
        "\t\tif (len(X) == 0):\n",
        "\t\t\tX = np.array([x])\n",
        "\t\t\tY = np.array([y])\n",
        "\t\telse:\n",
        "\t\t\tX = np.append(X, [x], axis=0)\n",
        "\t\t\tY = np.append(Y, [y], axis=0)\n"
      ]
    },
    {
      "cell_type": "code",
      "execution_count": 101,
      "metadata": {
        "colab": {
          "base_uri": "https://localhost:8080/"
        },
        "id": "1lIWTZ4S3Z11",
        "outputId": "fcedebc7-e691-4bf1-94b9-58362d116997"
      },
      "outputs": [
        {
          "data": {
            "text/plain": [
              "((19998, 9960), (19998, 4980))"
            ]
          },
          "execution_count": 101,
          "metadata": {},
          "output_type": "execute_result"
        }
      ],
      "source": [
        "X.shape, Y.shape"
      ]
    },
    {
      "cell_type": "markdown",
      "metadata": {
        "id": "fisB6uoY3Z11"
      },
      "source": [
        "### Preparing Model"
      ]
    },
    {
      "cell_type": "code",
      "execution_count": 102,
      "metadata": {
        "id": "MObuuJrU3Z11"
      },
      "outputs": [],
      "source": [
        "import tensorflow as tf"
      ]
    },
    {
      "cell_type": "code",
      "execution_count": 104,
      "metadata": {
        "colab": {
          "base_uri": "https://localhost:8080/"
        },
        "id": "lz3I-7Ir3Z11",
        "outputId": "2daeefa5-2962-4b18-d308-951c9c5849dd"
      },
      "outputs": [
        {
          "name": "stdout",
          "output_type": "stream",
          "text": [
            "Model: \"sequential_1\"\n",
            "_________________________________________________________________\n",
            " Layer (type)                Output Shape              Param #   \n",
            "=================================================================\n",
            " dense_1 (Dense)             (None, 300)               2988300   \n",
            "                                                                 \n",
            " features_layer (Dense)      (None, 4980)              1498980   \n",
            "                                                                 \n",
            "=================================================================\n",
            "Total params: 4,487,280\n",
            "Trainable params: 4,487,280\n",
            "Non-trainable params: 0\n",
            "_________________________________________________________________\n"
          ]
        }
      ],
      "source": [
        "model = tf.keras.models.Sequential([\n",
        "\n",
        "    # CBOW Architechture\n",
        "    tf.keras.layers.Input(shape=(X.shape[-1],)),\n",
        "\ttf.keras.layers.Dense(N_FEATURES),\n",
        "    tf.keras.layers.Dense(Y.shape[-1], activation=\"softmax\", name=\"features_layer\"),\n",
        "\n",
        "    # # Skip-Gram Architechture\n",
        "    # tf.keras.layers.Input(shape=(Y.shape[-1],)),\n",
        "\t# tf.keras.layers.Dense(N_FEATURES, name=\"features_layer\"),\n",
        "    # tf.keras.layers.Dense(X.shape[-1], activation=\"softmax\"),\n",
        "])\n",
        "model.summary()\n",
        "model.compile(\n",
        "    optimizer=\"adam\",\n",
        "    loss=\"categorical_crossentropy\",\n",
        "    metrics=['acc']\n",
        "    \n",
        ")"
      ]
    },
    {
      "cell_type": "markdown",
      "metadata": {
        "id": "q3Rn5K663Z11"
      },
      "source": [
        "### Training the Model"
      ]
    },
    {
      "cell_type": "code",
      "execution_count": 107,
      "metadata": {
        "colab": {
          "base_uri": "https://localhost:8080/"
        },
        "id": "zqW7HInr3Z12",
        "outputId": "01007fe7-ba0d-4cf4-9c17-d7c3cd6f9470"
      },
      "outputs": [
        {
          "name": "stdout",
          "output_type": "stream",
          "text": [
            "Epoch 1/1500\n",
            "625/625 [==============================] - 3s 4ms/step - loss: 2.7615 - acc: 0.5518\n",
            "Epoch 2/1500\n",
            "625/625 [==============================] - 2s 4ms/step - loss: 1.5920 - acc: 0.7401\n",
            "Epoch 3/1500\n",
            "625/625 [==============================] - 2s 4ms/step - loss: 0.8972 - acc: 0.8572\n",
            "Epoch 4/1500\n",
            "625/625 [==============================] - 2s 4ms/step - loss: 0.5402 - acc: 0.9086\n",
            "Epoch 5/1500\n",
            "625/625 [==============================] - 2s 4ms/step - loss: 0.3620 - acc: 0.9352\n",
            "Epoch 6/1500\n",
            "625/625 [==============================] - 2s 4ms/step - loss: 0.2691 - acc: 0.9487\n",
            "Epoch 7/1500\n",
            "625/625 [==============================] - 2s 4ms/step - loss: 0.2162 - acc: 0.9550\n",
            "Epoch 8/1500\n",
            "625/625 [==============================] - 3s 4ms/step - loss: 0.1837 - acc: 0.9583\n",
            "Epoch 9/1500\n",
            "625/625 [==============================] - 2s 4ms/step - loss: 0.1623 - acc: 0.9610\n",
            "Epoch 10/1500\n",
            "625/625 [==============================] - 2s 4ms/step - loss: 0.1472 - acc: 0.9629\n",
            "Epoch 11/1500\n",
            "625/625 [==============================] - 2s 4ms/step - loss: 0.1351 - acc: 0.9641\n",
            "Epoch 12/1500\n",
            "625/625 [==============================] - 2s 4ms/step - loss: 0.1280 - acc: 0.9636\n",
            "Epoch 13/1500\n",
            "625/625 [==============================] - 2s 4ms/step - loss: 0.1200 - acc: 0.9648\n",
            "Epoch 14/1500\n",
            "625/625 [==============================] - 2s 4ms/step - loss: 0.1137 - acc: 0.9668\n",
            "Epoch 15/1500\n",
            "625/625 [==============================] - 2s 4ms/step - loss: 0.1097 - acc: 0.9670\n",
            "Epoch 16/1500\n",
            "625/625 [==============================] - 2s 4ms/step - loss: 0.1084 - acc: 0.9660\n",
            "Epoch 17/1500\n",
            "625/625 [==============================] - 2s 4ms/step - loss: 0.1037 - acc: 0.9666\n",
            "Epoch 18/1500\n",
            "625/625 [==============================] - 2s 4ms/step - loss: 0.1008 - acc: 0.9673\n",
            "Epoch 19/1500\n",
            "625/625 [==============================] - 2s 4ms/step - loss: 0.0986 - acc: 0.9674\n",
            "Epoch 20/1500\n",
            "625/625 [==============================] - 2s 4ms/step - loss: 0.0976 - acc: 0.9675\n",
            "Epoch 21/1500\n",
            "625/625 [==============================] - 2s 4ms/step - loss: 0.0950 - acc: 0.9675\n",
            "Epoch 22/1500\n",
            "625/625 [==============================] - 2s 4ms/step - loss: 0.0950 - acc: 0.9671\n",
            "Epoch 23/1500\n",
            "625/625 [==============================] - 2s 4ms/step - loss: 0.0931 - acc: 0.9669\n",
            "Epoch 24/1500\n",
            "625/625 [==============================] - 2s 4ms/step - loss: 0.0924 - acc: 0.9676\n",
            "Epoch 25/1500\n",
            "625/625 [==============================] - 2s 4ms/step - loss: 0.0916 - acc: 0.9675\n",
            "Epoch 26/1500\n",
            "625/625 [==============================] - 2s 4ms/step - loss: 0.0906 - acc: 0.9675\n",
            "Epoch 27/1500\n",
            "625/625 [==============================] - 2s 4ms/step - loss: 0.0904 - acc: 0.9676\n",
            "Epoch 28/1500\n",
            "625/625 [==============================] - 2s 4ms/step - loss: 0.0883 - acc: 0.9685\n",
            "Epoch 29/1500\n",
            "625/625 [==============================] - 2s 4ms/step - loss: 0.0889 - acc: 0.9669\n"
          ]
        }
      ],
      "source": [
        "early_callback = tf.keras.callbacks.EarlyStopping(\n",
        "\tmonitor = 'acc',\n",
        "\tpatience = 20,\n",
        "\tmin_delta = 0.01,\n",
        "\tmode = 'max',\n",
        ")\n",
        "with tf.device('/GPU:0'):\n",
        "    history = model.fit(X, Y, epochs=1500, verbose=1, callbacks=[early_callback])"
      ]
    },
    {
      "cell_type": "markdown",
      "metadata": {
        "id": "uh9TVJ7N3Z12"
      },
      "source": [
        "### Ploting Learning Curve"
      ]
    },
    {
      "cell_type": "code",
      "execution_count": 108,
      "metadata": {
        "id": "LaV1MQo93Z12"
      },
      "outputs": [],
      "source": [
        "import matplotlib.pyplot as plt"
      ]
    },
    {
      "cell_type": "code",
      "execution_count": 109,
      "metadata": {
        "colab": {
          "base_uri": "https://localhost:8080/",
          "height": 545
        },
        "id": "hSHQOnNR3Z12",
        "outputId": "b24c2dfe-98c5-43ff-ea9c-55fabe37e4d8"
      },
      "outputs": [
        {
          "data": {
            "image/png": "[encoded data removed]",
            "text/plain": [
              "<Figure size 432x288 with 1 Axes>"
            ]
          },
          "metadata": {
            "needs_background": "light"
          },
          "output_type": "display_data"
        },
        {
          "data": {
            "image/png": "[encoded data removed]",
            "text/plain": [
              "<Figure size 432x288 with 1 Axes>"
            ]
          },
          "metadata": {
            "needs_background": "light"
          },
          "output_type": "display_data"
        }
      ],
      "source": [
        "hist = history.history\n",
        "\n",
        "plt.plot(hist['acc'])\n",
        "plt.title(\"Accuracy\")\n",
        "plt.show()\n",
        "\n",
        "plt.plot(hist['loss'])\n",
        "plt.title(\"Loss\")\n",
        "plt.show()"
      ]
    },
    {
      "cell_type": "markdown",
      "metadata": {
        "id": "nM_7x61v3Z12"
      },
      "source": [
        "### Extracting Features"
      ]
    },
    {
      "cell_type": "code",
      "execution_count": 110,
      "metadata": {
        "id": "PVfhhrot3Z12"
      },
      "outputs": [],
      "source": [
        "features_layer = model.get_layer('features_layer')\n",
        "features = features_layer.weights[0].numpy().T"
      ]
    },
    {
      "cell_type": "code",
      "execution_count": 111,
      "metadata": {
        "colab": {
          "base_uri": "https://localhost:8080/"
        },
        "id": "NKJ6EsoE3Z13",
        "outputId": "4e0c42dc-547a-4061-8c9c-3e164b941b9a"
      },
      "outputs": [
        {
          "data": {
            "text/plain": [
              "array([[ 0.1997887 , -0.49804866, -0.01663878, ...,  0.54310703,\n",
              "        -0.01606886,  0.5108184 ],\n",
              "       [ 0.18301384, -0.12231464,  0.09539308, ...,  0.5799313 ,\n",
              "         0.46067   ,  0.48925698],\n",
              "       [ 0.13795783, -0.5943556 , -0.08793265, ..., -0.02297687,\n",
              "         0.02405076,  0.5991488 ],\n",
              "       ...,\n",
              "       [ 0.48324463,  0.04540027, -0.17498879, ..., -0.1141738 ,\n",
              "         0.08420511,  0.12621541],\n",
              "       [ 0.14084224, -0.08824242,  0.25468296, ...,  0.00584372,\n",
              "         0.64759666,  0.47371438],\n",
              "       [ 0.21965937, -0.4567758 , -0.38281667, ...,  0.6137849 ,\n",
              "         0.65227413,  0.53586435]], dtype=float32)"
            ]
          },
          "execution_count": 111,
          "metadata": {},
          "output_type": "execute_result"
        }
      ],
      "source": [
        "features[:10]"
      ]
    },
    {
      "cell_type": "markdown",
      "metadata": {
        "id": "ZznBTvIY3Z13"
      },
      "source": [
        "### Cosine Similarity"
      ]
    },
    {
      "cell_type": "code",
      "execution_count": 112,
      "metadata": {
        "id": "360eU0i53Z13"
      },
      "outputs": [],
      "source": [
        "from sklearn.metrics.pairwise import cosine_similarity"
      ]
    },
    {
      "cell_type": "code",
      "execution_count": 113,
      "metadata": {
        "id": "n85QIAM_3Z13"
      },
      "outputs": [],
      "source": [
        "with tf.device('/GPU:0'):\n",
        "    sim = cosine_similarity(features)"
      ]
    },
    {
      "cell_type": "code",
      "execution_count": 114,
      "metadata": {
        "colab": {
          "base_uri": "https://localhost:8080/"
        },
        "id": "C0mHfiu83Z13",
        "outputId": "675f5ca8-808d-4b4f-eff5-ae13492d2e28"
      },
      "outputs": [
        {
          "data": {
            "text/plain": [
              "(4980, 4980)"
            ]
          },
          "execution_count": 114,
          "metadata": {},
          "output_type": "execute_result"
        }
      ],
      "source": [
        "sim.shape"
      ]
    },
    {
      "cell_type": "markdown",
      "metadata": {
        "id": "abpjdmAq3Z13"
      },
      "source": [
        "### Testing"
      ]
    },
    {
      "cell_type": "code",
      "execution_count": 115,
      "metadata": {
        "id": "LSb5wNIc3Z14"
      },
      "outputs": [],
      "source": [
        "def find_sim(word, recs, absolute=False):\n",
        "\ti = VOCAB.tolist().index(word)\n",
        "\trow = sim[i]\n",
        "\tif absolute:\n",
        "\t\trow = abs(row)\n",
        "\trecs_i = [i[0] for i in sorted(enumerate(row), key=lambda x:x[1], reverse=True)[1:recs+1]]\n",
        "\treturn VOCAB[recs_i]"
      ]
    },
    {
      "cell_type": "code",
      "execution_count": 138,
      "metadata": {
        "colab": {
          "base_uri": "https://localhost:8080/"
        },
        "id": "6aeWvE-G3Z14",
        "outputId": "8af0d74f-fe86-46fb-d3b8-9dc78c486b0e"
      },
      "outputs": [
        {
          "name": "stdout",
          "output_type": "stream",
          "text": [
            "['armored' 'draft' 'apples' 'plus' 'growing' 'hobbers' 'health'\n",
            " 'towerhouse' 'gouges' 'parties' 'moss' 'rip' 'seagard' 'rally' 'cur'\n",
            " 'tangles' 'witty' 'fool' 'fieldhand' 'expect' 'wrinkled' 'treat'\n",
            " 'claimed' 'crumbled' 'tully' 'singing' 'goods' 'jutted' 'stronger'\n",
            " 'straining' 'daven' 'whit' 'brat' 'puzzle' 'bouncing' 'selyses' 'worked'\n",
            " 'things' 'feel' 'leaving' 'leaderless' 'law' 'laid' 'lumpyface' 'truest'\n",
            " 'sphinx' 'throat' 'guild' 'lannisters' 'stormy' 'jonos' 'galloping'\n",
            " 'redandblue' 'tides' 'slashes' 'held' 'quaking' 'intact' 'wound' 'strand'\n",
            " 'mantle' 'high' 'sail' 'unnatural' 'order' 'risk' 'theyre' 'haroooed'\n",
            " 'aemon' 'views' 'apart' 'howl' 'nymeria' 'ashamed' 'inner' 'weeping'\n",
            " 'rule' 'making' 'recalled' 'mewho' 'cage' 'river' 'ripply' 'waved'\n",
            " 'desolate' 'dimness' 'longest' 'travel' 'harms' 'flinching' 'sleek'\n",
            " 'graces' 'cripple' 'spurs' 'woke' 'difficulty' 'soul' 'squatted' 'deem'\n",
            " 'pledge' 'boon' 'grace' 'replace' 'walder' 'bedecked' 'members' 'linger'\n",
            " 'clothing' 'joff' 'cow' 'hips' 'spat' 'wed' 'impact' 'rest' 'add'\n",
            " 'jangling' 'grinning' 'likes' 'ablaze' 'lowborn' 'mended' 'granary'\n",
            " 'butchered' 'eighty' 'outer' 'good' 'know' 'gregors' 'accepted' 'awaits'\n",
            " 'galloping' 'silent' 'perfect' 'unfurled' 'poked' 'fox' 'hesitant'\n",
            " 'yoren' 'mother' 'inherited' 'heart' 'altruists' 'omens' 'equip' 'phrase'\n",
            " 'halffielms' 'scepter' 'snorting' 'aloud' 'loomed' 'shireen' 'kennel'\n",
            " 'redandwhite' 'litter' 'happy' 'boots' 'shouldnt' 'anvil' 'pocket'\n",
            " 'jests' 'gone' 'tabletop' 'crest' 'gnat' 'mere' 'smacked' 'calm' 'taut'\n",
            " 'swirl' 'master' 'oil' 'whip' 'oarsmen' 'rafters' 'howling' 'pointy'\n",
            " 'weary' 'castles' 'quaking' 'nostrils' 'happen' 'cages' 'youd' 'cities'\n",
            " 'chestnut' 'laughed' 'avoid' 'cleanse' 'xho' 'hissing' 'transformed'\n",
            " 'weasels' 'chilly' 'hips' 'old' 'alley' 'galley' 'tight' 'ashore' 'firm'\n",
            " 'quintain' 'want' 'gliding' 'scorpions' 'sailed' 'dissemble' 'crafted'\n",
            " 'targaryens' 'moved' 'hammered' 'arry' 'mats' 'gestured' 'challenge'\n",
            " 'imposed' 'protectors' 'loomed' 'dreamed' 'deaths' 'freed' 'scalp'\n",
            " 'balding' 'motion' 'visible' 'tree' 'youre' 'lather' 'fealty' 'spied'\n",
            " 'scampering' 'unpleasant' 'worded' 'hobber' 'wearing' 'newcrowned' 'seed'\n",
            " 'seventh' 'shown' 'rickons' 'account' 'nodded' 'blow' 'sites' 'sour'\n",
            " 'robes' 'doubtless' 'clean' 'packs' 'axes' 'vanished' 'whoop' 'missed'\n",
            " 'champion' 'ablaze' 'lizard' 'held' 'curious' 'dont' 'wing' 'breathless'\n",
            " 'wrote' 'orphan' 'urge' 'disbelief' 'gate' 'turns' 'craft' 'privy'\n",
            " 'castleforged' 'corpse' 'blades' 'mission' 'wings' 'blanket' 'varnish'\n",
            " 'punishment' 'condition' 'chill' 'bundle' 'needles' 'wash' 'madethough'\n",
            " 'landless' 'rings' 'path' 'banner' 'falyse' 'supple' 'theres' 'dies'\n",
            " 'elusive' 'tomtoo' 'skins' 'manhood' 'fearthe' 'mislike' 'swinging'\n",
            " 'fishing' 'checkered' 'allows' 'crypts' 'aside' 'savor' 'colossal' 'grey'\n",
            " 'crabs' 'camped' 'rested' 'rickards' 'loyalties' 'crooked' 'blow' 'omen'\n",
            " 'marrying' 'stop' 'sams' 'morros' 'sentiment' 'win' 'sorrier' 'rickon'\n",
            " 'bark' 'gregor' 'manwho' 'homely' 'crashing' 'pickled' 'needle'\n",
            " 'horseshit' 'pretend' 'feverish' 'dyers' 'rioting' 'madly' 'attacked'\n",
            " 'stickboy' 'passages' 'kindness' 'mossspotted' 'grievance' 'closely'\n",
            " 'swollen' 'foreboding' 'rhoynar' 'leap' 'meaning' 'hairy' 'valor' 'half'\n",
            " 'gallop' 'elkhound' 'cart' 'owned' 'sorely' 'falls' 'screamed' 'chorus'\n",
            " 'hospitality' 'lap' 'pointy' 'neckware' 'tournament' 'buckled'\n",
            " 'selfproclaimed' 'chosen' 'intoned' 'danger' 'shattered' 'spit' 'ringing'\n",
            " 'honorable' 'reward' 'stump' 'grin' 'werent' 'wheels' 'belly' 'refresh'\n",
            " 'windpipe' 'houses' 'drearnwine' 'aint' 'blessings' 'sellswords' 'fed'\n",
            " 'curtly' 'bristly' 'counts' 'tourney' 'bargain' 'delicious' 'mats'\n",
            " 'babies' 'scooped' 'jowls' 'dimness' 'hed' 'stableboy' 'leather'\n",
            " 'silence' 'cressen' 'creeping' 'pillowed' 'bloodied' 'gather' 'blind'\n",
            " 'midst' 'bandy' 'dyou' 'talked' 'shoving' 'present' 'fabrics' 'change'\n",
            " 'cup' 'convincing' 'buy' 'soul' 'proclaim' 'magical' 'loud' 'blade'\n",
            " 'godswood' 'jeweled' 'hint' 'herselfhe' 'reduced' 'game' 'healingbut'\n",
            " 'thumb' 'seaworth' 'jewels' 'girl' 'reins' 'admit' 'whip' 'tree' 'night'\n",
            " 'thornes' 'free' 'attention' 'shorter' 'chose' 'gowns' 'benjen' 'ned'\n",
            " 'yorens' 'morningstar' 'waters' 'vanishing' 'temples' 'open' 'hayhead'\n",
            " 'intentions' 'dies' 'scalp' 'keeping' 'distaste' 'circling' 'slapping'\n",
            " 'childs' 'combatants' 'solemnity' 'fisherfolk' 'kindness' 'hghar'\n",
            " 'sourleaf' 'station' 'thirty' 'breaking' 'tywin' 'nimble' 'thrown'\n",
            " 'anger' 'pleases' 'longest' 'continued' 'closing' 'shut' 'close' 'theons'\n",
            " 'shake' 'sane' 'threat' 'pledged' 'mossspotted' 'spread' 'grinding'\n",
            " 'gouges' 'readied' 'myr' 'slapping' 'clown' 'contest' 'sailing'\n",
            " 'quivered' 'managing' 'pants' 'camps' 'thimble' 'wall' 'cordon'\n",
            " 'haroooed' 'ignore' 'managing' 'targaryen' 'eyebrow' 'fucking'\n",
            " 'guardsmen' 'high' 'stallion' 'sentinels' 'vanquishing' 'expect' 'sworn'\n",
            " 'children' 'age' 'mud' 'unspoken' 'decision' 'sows' 'bird' 'castle'\n",
            " 'blast' 'finally' 'kitchen' 'strange' 'strengthening' 'beast' 'kingyour'\n",
            " 'stableboy' 'summon' 'owes' 'expressive' 'squeal' 'newmade' 'pulling'\n",
            " 'colder' 'decencies' 'garb' 'brooch' 'elusive' 'defenders' 'sept' 'soup'\n",
            " 'ornament' 'rotting' 'polite' 'greens' 'oath' 'result' 'hellbitch'\n",
            " 'poisoners' 'fourth' 'boar' 'ceilings' 'poked' 'bathhouse' 'placid'\n",
            " 'forel' 'saddled' 'privy' 'female' 'cheyk' 'isles' 'galloped' 'sure'\n",
            " 'vanished' 'horas' 'goods' 'coins' 'score' 'grim' 'upward' 'moved'\n",
            " 'unmake' 'occupied' 'youll' 'cream' 'hadso' 'suddenly' 'attend'\n",
            " 'cleanshaven' 'jest' 'dimness' 'cowards' 'shirt' 'accused' 'genuine'\n",
            " 'revels' 'resoundingly' 'gulp' 'syrio' 'soup' 'rush' 'fiercest'\n",
            " 'ornamented' 'allowed' 'dancing' 'gaze' 'thrown' 'naked' 'freedom'\n",
            " 'ridge' 'steel' 'parts' 'boros' 'erected' 'leatherbound' 'captains'\n",
            " 'sword' 'wolverine' 'tides' 'bloodstained' 'reins' 'husband' 'body'\n",
            " 'clammy' 'molten' 'fieldhand' 'poorly' 'fleet' 'reeling' 'fourteen'\n",
            " 'easily' 'warily' 'fine' 'nice' 'drummed' 'prey' 'seaworth' 'locks'\n",
            " 'eats' 'aron' 'pass' 'ladys' 'unsheathed' 'rorge' 'mission' 'yes'\n",
            " 'instead' 'brayed' 'robe' 'flapped' 'boasting' 'attentively' 'bout'\n",
            " 'hadnt' 'smug' 'alike' 'affecting' 'backward' 'priest' 'freys' 'aged'\n",
            " 'sharply' 'possessed' 'risk' 'ease' 'moren' 'patched' 'pulling' 'issue'\n",
            " 'bones' 'suet' 'cooper' 'challenger' 'crying' 'freed' 'said' 'doubtfully'\n",
            " 'vanish' 'regretted' 'blackandgold' 'tywins' 'bitter' 'helms' 'shoving'\n",
            " 'carts' 'falls' 'nibble' 'snarled' 'aemon' 'regards' 'lackwit' 'unctuous'\n",
            " 'faded' 'mats' 'insolently' 'unnatural' 'stinky' 'field' 'innocent'\n",
            " 'scraped' 'northman' 'sansas' 'catelyns' 'oafs' 'tractable' 'singers'\n",
            " 'lanternjawed' 'riverrunhe' 'bolts' 'colleague' 'fistful' 'ranging'\n",
            " 'payne' 'thinks' 'brooch' 'year' 'covetous' 'suits' 'chosen' 'wears'\n",
            " 'lower' 'curdled' 'answered' 'perished' 'muss' 'marrying' 'splashes'\n",
            " 'shadowbinder' 'honors' 'uneasy' 'foreboding' 'lordy' 'mismatched'\n",
            " 'scampering' 'acorns' 'notice' 'rear' 'castle' 'halfway' 'mace'\n",
            " 'reflection' 'swallowed' 'laughter' 'overhead' 'slab' 'whiskers' 'dim'\n",
            " 'collar' 'thoughtfully' 'parties' 'question' 'despairing' 'evoke'\n",
            " 'chalky' 'kingdom' 'prisoner' 'guests' 'burst' 'shae' 'coward' 'hats'\n",
            " 'beware' 'lysa' 'cassel' 'barrel' 'noon' 'greygreen' 'em' 'beards'\n",
            " 'large' 'like' 'wayrnar' 'burned' 'brooch' 'twitch' 'tufts' 'aint'\n",
            " 'hobbled' 'white' 'likely' 'aemon' 'meryn' 'charged' 'redly' 'brooded'\n",
            " 'longsword' 'naked' 'twin' 'myr' 'girls' 'watchers' 'incised' 'crowns'\n",
            " 'grain' 'smoke' 'chopped' 'thinks' 'wellis' 'retreated' 'dried' 'visit'\n",
            " 'fullness' 'courage' 'save' 'drew' 'dimness' 'forefinger' 'wheel' 'red'\n",
            " 'script' 'bound' 'keeping' 'hint' 'ceilings' 'cook' 'sire' 'milkwhite'\n",
            " 'disliked' 'servant' 'thirty' 'raventree' 'mankillers' 'docks'\n",
            " 'strongholds' 'blind' 'push' 'failure' 'steal' 'youve' 'falls' 'dontos'\n",
            " 'bouncing' 'domains' 'days' 'sansa' 'north' 'hearing' 'riddles' 'figure'\n",
            " 'rankled' 'mattress' 'old' 'opined' 'erected' 'sunburst' 'robb' 'battles'\n",
            " 'reeled' 'rolled' 'tournament' 'islands' 'anger' 'lap' 'argued' 'citadel'\n",
            " 'news' 'colleague' 'imagined' 'dyou' 'aemon' 'fearthe' 'darry' 'easier'\n",
            " 'morosh' 'morn' 'water' 'reigned' 'hastily' 'preening' 'ledgers'\n",
            " 'ancient' 'crying' 'quivered' 'heard' 'trant' 'clangadang' 'middle'\n",
            " 'shortest' 'got' 'slow' 'hod' 'metal' 'edged' 'velvets' 'seagard'\n",
            " 'realer' 'childs' 'crab' 'curious' 'jousts' 'chained' 'brynden'\n",
            " 'interested' 'contempt' 'ached' 'resumed' 'doublet' 'childsized' 'pocket'\n",
            " 'clubfoot' 'courtyard' 'willem' 'death' 'honors' 'snores' 'crawled'\n",
            " 'squire' 'merchant' 'hooted' 'cut' 'lunged' 'keeps' 'knees' 'strangler'\n",
            " 'politely' 'thirteen' 'usurp' 'dragon' 'deaths' 'ones' 'covered'\n",
            " 'galloping' 'arming' 'scent' 'blankets' 'lightly' 'solid' 'proclaim'\n",
            " 'pie' 'befitting' 'marrying' 'trembles' 'albino' 'weasels' 'sleeps'\n",
            " 'quintain' 'music' 'chiefly' 'page' 'apart' 'guarded' 'sheets' 'crops'\n",
            " 'bettern' 'supposed' 'mothers' 'healing' 'rust' 'riverrunhe' 'marking'\n",
            " 'written' 'grove' 'play' 'dancing' 'order' 'watery' 'loomed' 'scepter'\n",
            " 'slynt' 'breastplate' 'special' 'barristan' 'grey' 'stickboy' 'folks'\n",
            " 'courtiers' 'crib' 'secondly' 'carrack' 'silver' 'egged' 'surprise'\n",
            " 'jabbed' 'qhorin' 'dothraki' 'plague' 'thickened' 'stew' 'vaulted' 'ape'\n",
            " 'shock' 'poisoners' 'relieved' 'loathed' 'gyles' 'bowing' 'hoarsely'\n",
            " 'wine' 'perchance' 'flame' 'skagos' 'bold' 'raiders' 'escort' 'mad'\n",
            " 'tomb' 'crossed' 'hands' 'brooded' 'stark' 'splendidly' 'cordially' 'bad'\n",
            " 'rung' 'falling']\n"
          ]
        }
      ],
      "source": [
        "print(np.random.choice(VOCAB, 1000))"
      ]
    },
    {
      "cell_type": "code",
      "execution_count": 135,
      "metadata": {
        "colab": {
          "base_uri": "https://localhost:8080/"
        },
        "id": "oQDFkzhm3Z14",
        "outputId": "933c299f-724b-4ea2-8a12-37822c88effc"
      },
      "outputs": [
        {
          "data": {
            "text/plain": [
              "array(['prying', 'beggar', 'conversation', 'vengeful', 'scuff',\n",
              "       'crenellations', 'skinnier', 'stout', 'drunken', 'outriders',\n",
              "       'mop', 'gasp', 'hellbitch', 'appearance', 'pat', 'featherbed',\n",
              "       'eighty', 'squirrels', 'balding', 'flew'], dtype='<U15')"
            ]
          },
          "execution_count": 135,
          "metadata": {},
          "output_type": "execute_result"
        }
      ],
      "source": [
        "find_sim(\"voices\", 20, absolute=True)"
      ]
    },
    {
      "cell_type": "code",
      "execution_count": 150,
      "metadata": {
        "colab": {
          "base_uri": "https://localhost:8080/"
        },
        "id": "TTnLWeyQ3Z15",
        "outputId": "4adf94b3-4d7b-40aa-83dd-d9a32a332347"
      },
      "outputs": [
        {
          "name": "stdout",
          "output_type": "stream",
          "text": [
            "poppy -> cow, ease, ablaze, phrase, circlet, growing, planks, apprentice, suggests, depend\n",
            "carved -> pitted, neighbors, foeman, shaping, rough, pile, desmond, quivering, jowls, swathed\n",
            "betrothed -> traps, matted, sickness, transport, granite, chiseling, carving, checked, flavored, curt\n",
            "ninth -> axes, befitting, carving, throaty, dipping, grandmother, clubfoot, descent, chiseling, subterranean\n",
            "raced -> soup, tasks, dipping, sane, forth, chiseling, carving, fourteen, descent, merchant\n",
            "belched -> frowns, buried, wealth, counts, deeper, puzzle, unfurls, reports, gaped, throaty\n",
            "yawned -> puffing, winced, stammered, miserably, itches, capering, squinted, glancing, chiseling, carving\n",
            "hairy -> victims, scratch, whacked, alwaysbecause, tightness, oshas, screwed, matters, heartshaped, pushedin\n",
            "thread -> seahorse, choker, burst, growing, favor, chiseling, copying, workers, carving, daggers\n",
            "fed -> carving, chiseling, matted, grandmother, seats, noble, riddles, clubfoot, itll, harms\n",
            "shelf -> maidens, arming, axes, windburnt, checked, prayed, harms, amory, growing, barrelvaulted\n",
            "highgarden -> lunged, humus, tears, blackhaired, inspection, growing, saying, cur, curtain, barked\n",
            "song -> ape, deign, reading, sheep, youve, chagrined, han, waters, haughtily, dullard\n",
            "rich -> swam, feared, ugliest, quail, lanternjawed, aint, spiders, freerider, sallow, sane\n",
            "rat -> quivering, compared, chuckle, daggers, decencies, regrets, fox, impulse, brooch, disturbingly\n",
            "chuckle -> clench, unfinished, amused, horn, tenth, hawed, dated, roughhewn, oddments, headland\n",
            "language -> meditations, flatter, lighter, tasks, windburnt, roughhewn, clench, vengeful, aron, volunteered\n",
            "trained -> quarries, resigned, barked, chiseling, carving, bronze, betrothed, depends, checked, itches\n",
            "breathless -> rorges, chopped, erupted, gale, shaes, net, gales, chiseling, carving, potions\n",
            "thickened -> aron, web, haggard, fourteen, maidens, secreted, thieves, determined, smelly, laden\n"
          ]
        }
      ],
      "source": [
        "for _ in range(20):\n",
        "    word = np.random.choice(VOCAB, 1)[0]\n",
        "    recs = find_sim(word, 10, absolute=True)\n",
        "    print(word + \" -> \" + \", \".join(recs))"
      ]
    },
    {
      "cell_type": "code",
      "execution_count": null,
      "metadata": {
        "id": "Od6GSDwSEM3Y"
      },
      "outputs": [],
      "source": []
    },
    {
      "cell_type": "code",
      "execution_count": null,
      "metadata": {
        "id": "2JwBLvic3Z15"
      },
      "outputs": [],
      "source": []
    }
  ],
  "metadata": {
    "accelerator": "GPU",
    "colab": {
      "collapsed_sections": [
        "eWIn8Bfs3Z1d",
        "k9R2fhHb3Z1n"
      ],
      "provenance": []
    },
    "gpuClass": "standard",
    "kernelspec": {
      "display_name": "Python 3",
      "language": "python",
      "name": "python3"
    },
    "language_info": {
      "codemirror_mode": {
        "name": "ipython",
        "version": 3
      },
      "file_extension": ".py",
      "mimetype": "text/x-python",
      "name": "python",
      "nbconvert_exporter": "python",
      "pygments_lexer": "ipython3",
      "version": "3.10.9 (tags/v3.10.9:1dd9be6, Dec  6 2022, 20:01:21) [MSC v.1934 64 bit (AMD64)]"
    },
    "orig_nbformat": 4,
    "vscode": {
      "interpreter": {
        "hash": "2407659e7e7968990f76a627cce7446618739ede0dc4bbd0e9edff98f921e070"
      }
    }
  },
  "nbformat": 4,
  "nbformat_minor": 0
}
