{
 "cells": [
  {
   "cell_type": "code",
   "execution_count": 257,
   "metadata": {},
   "outputs": [],
   "source": [
    "# https://www.kaggle.com/c/learn-ai-bbc/overview"
   ]
  },
  {
   "cell_type": "code",
   "execution_count": 258,
   "metadata": {},
   "outputs": [],
   "source": [
    "import io\n",
    "import csv\n",
    "import tensorflow as tf\n",
    "import numpy as np\n",
    "from tensorflow.keras.preprocessing.text import Tokenizer\n",
    "from tensorflow.keras.preprocessing.sequence import pad_sequences\n",
    "import matplotlib.pyplot as plt\n",
    "import pandas as pd\n",
    "from tqdm import tqdm"
   ]
  },
  {
   "cell_type": "code",
   "execution_count": 259,
   "metadata": {},
   "outputs": [],
   "source": [
    "train_df = pd.read_csv(\"./datasets/BBC News Train.csv\")\n",
    "test_df = pd.read_csv(\"./datasets/BBC News Test.csv\")\n",
    "sol_df = pd.read_csv(\"./datasets/BBC News Sample Solution.csv\")\n",
    "test_df = pd.merge(test_df, sol_df, on=\"ArticleId\")"
   ]
  },
  {
   "cell_type": "code",
   "execution_count": 260,
   "metadata": {},
   "outputs": [],
   "source": [
    "train_x = train_df.Text.values\n",
    "test_x = test_df.Text.values\n",
    "train_y = train_df.Category.values\n",
    "test_y = test_df.Category.values"
   ]
  },
  {
   "cell_type": "code",
   "execution_count": 261,
   "metadata": {},
   "outputs": [],
   "source": [
    "def remove_stopwords(sentence):\n",
    "    \"\"\"\n",
    "    Removes a list of stopwords\n",
    "    \n",
    "    Args:\n",
    "        sentence (string): sentence to remove the stopwords from\n",
    "    \n",
    "    Returns:\n",
    "        sentence (string): lowercase sentence without the stopwords\n",
    "    \"\"\"\n",
    "    # List of stopwords\n",
    "    stopwords = [\"a\", \"about\", \"above\", \"after\", \"again\", \"against\", \"all\", \"am\", \"an\", \"and\", \"any\", \"are\", \"as\", \"at\", \"be\", \"because\", \"been\", \"before\", \"being\", \"below\", \"between\", \"both\", \"but\", \"by\", \"could\", \"did\", \"do\", \"does\", \"doing\", \"down\", \"during\", \"each\", \"few\", \"for\", \"from\", \"further\", \"had\", \"has\", \"have\", \"having\", \"he\", \"he'd\", \"he'll\", \"he's\", \"her\", \"here\", \"here's\", \"hers\", \"herself\", \"him\", \"himself\", \"his\", \"how\", \"how's\", \"i\", \"i'd\", \"i'll\", \"i'm\", \"i've\", \"if\", \"in\", \"into\", \"is\", \"it\", \"it's\", \"its\", \"itself\", \"let's\", \"me\", \"more\", \"most\", \"my\", \"myself\", \"nor\", \"of\", \"on\", \"once\", \"only\", \"or\", \"other\", \"ought\", \"our\", \"ours\", \"ourselves\", \"out\", \"over\", \"own\", \"same\", \"she\", \"she'd\", \"she'll\", \"she's\", \"should\", \"so\", \"some\", \"such\", \"than\", \"that\", \"that's\", \"the\", \"their\", \"theirs\", \"them\", \"themselves\", \"then\", \"there\", \"there's\", \"these\", \"they\", \"they'd\", \"they'll\", \"they're\", \"they've\", \"this\", \"those\", \"through\", \"to\", \"too\", \"under\", \"until\", \"up\", \"very\", \"was\", \"we\", \"we'd\", \"we'll\", \"we're\", \"we've\", \"were\", \"what\", \"what's\", \"when\", \"when's\", \"where\", \"where's\", \"which\", \"while\", \"who\", \"who's\", \"whom\", \"why\", \"why's\", \"with\", \"would\", \"you\", \"you'd\", \"you'll\", \"you're\", \"you've\", \"your\", \"yours\", \"yourself\", \"yourselves\" ]\n",
    "    \n",
    "    # Sentence converted to lowercase-only\n",
    "    sentence = sentence.lower()\n",
    "\n",
    "    words = sentence.split()\n",
    "    no_words = [w for w in words if w not in stopwords]\n",
    "    sentence = \" \".join(no_words)\n",
    "\n",
    "    return sentence\n",
    "\n",
    "train_x = [remove_stopwords(i) for i in train_x]"
   ]
  },
  {
   "cell_type": "code",
   "execution_count": 262,
   "metadata": {},
   "outputs": [],
   "source": [
    "NUM_WORDS = 1000\n",
    "EMBEDDING_DIM = 64\n",
    "MAXLEN = 120\n",
    "PADDING = 'post'\n",
    "OOV_TOKEN = \"<OOV>\"\n",
    "TRAINING_SPLIT = .8"
   ]
  },
  {
   "cell_type": "code",
   "execution_count": 263,
   "metadata": {},
   "outputs": [],
   "source": [
    "tokenizer = Tokenizer(\n",
    "\tnum_words = NUM_WORDS,\n",
    "\toov_token = OOV_TOKEN,\n",
    ")\n",
    "tokenizer.fit_on_texts(train_x)\n",
    "\n",
    "\n",
    "train_x = tokenizer.texts_to_sequences(train_x)\n",
    "test_x = tokenizer.texts_to_sequences(test_x)\n",
    "\n",
    "maxlen = max([len(i) for i in train_x])\n",
    "\n",
    "train_x = pad_sequences(train_x, maxlen=MAXLEN, padding=PADDING)\n",
    "test_x = pad_sequences(test_x, maxlen=MAXLEN, padding=PADDING)"
   ]
  },
  {
   "cell_type": "code",
   "execution_count": 264,
   "metadata": {},
   "outputs": [],
   "source": [
    "from sklearn.preprocessing import LabelEncoder\n",
    "\n",
    "le = LabelEncoder()\n",
    "train_y = le.fit_transform(train_y)\n",
    "test_y = le.transform(test_y)"
   ]
  },
  {
   "cell_type": "code",
   "execution_count": 266,
   "metadata": {},
   "outputs": [
    {
     "data": {
      "text/plain": [
       "(1000, 64, 120)"
      ]
     },
     "execution_count": 266,
     "metadata": {},
     "output_type": "execute_result"
    }
   ],
   "source": [
    "(24963, 16, 1881)\n",
    "NUM_WORDS, EMBEDDING_DIM, MAXLEN"
   ]
  },
  {
   "cell_type": "code",
   "execution_count": 281,
   "metadata": {},
   "outputs": [
    {
     "name": "stdout",
     "output_type": "stream",
     "text": [
      "Epoch 1/10\n",
      "47/47 [==============================] - 1s 9ms/step - loss: 1.5838 - acc: 0.2497 - val_loss: 1.6275 - val_acc: 0.1864\n",
      "Epoch 2/10\n",
      "47/47 [==============================] - 0s 6ms/step - loss: 1.2736 - acc: 0.6329 - val_loss: 1.6889 - val_acc: 0.1986\n",
      "Epoch 3/10\n",
      "47/47 [==============================] - 0s 5ms/step - loss: 0.4876 - acc: 0.9396 - val_loss: 2.1754 - val_acc: 0.1864\n",
      "Epoch 4/10\n",
      "47/47 [==============================] - 0s 5ms/step - loss: 0.1041 - acc: 0.9960 - val_loss: 2.7037 - val_acc: 0.1918\n",
      "Epoch 5/10\n",
      "47/47 [==============================] - 0s 5ms/step - loss: 0.0371 - acc: 1.0000 - val_loss: 2.9141 - val_acc: 0.2027\n",
      "Epoch 6/10\n",
      "47/47 [==============================] - 0s 5ms/step - loss: 0.0182 - acc: 1.0000 - val_loss: 3.1384 - val_acc: 0.2027\n",
      "Epoch 7/10\n",
      "47/47 [==============================] - 0s 5ms/step - loss: 0.0111 - acc: 1.0000 - val_loss: 3.2836 - val_acc: 0.1891\n",
      "Epoch 8/10\n",
      "47/47 [==============================] - 0s 5ms/step - loss: 0.0076 - acc: 1.0000 - val_loss: 3.4374 - val_acc: 0.1932\n",
      "Epoch 9/10\n",
      "47/47 [==============================] - 0s 5ms/step - loss: 0.0054 - acc: 1.0000 - val_loss: 3.5332 - val_acc: 0.1946\n",
      "Epoch 10/10\n",
      "47/47 [==============================] - 0s 5ms/step - loss: 0.0042 - acc: 1.0000 - val_loss: 3.6410 - val_acc: 0.1946\n"
     ]
    }
   ],
   "source": [
    "model = tf.keras.models.Sequential([\n",
    "\ttf.keras.layers.Embedding(NUM_WORDS, EMBEDDING_DIM, input_length=MAXLEN),\n",
    "    # tf.keras.layers.GlobalAveragePooling1D(),\n",
    "\ttf.keras.layers.Flatten(),\n",
    "\ttf.keras.layers.Dense(24, activation='relu'),\n",
    "\t# tf.keras.layers.Dense(80, activation='relu'),\n",
    "\t# tf.keras.layers.Dense(200, activation='relu'),\n",
    "\t# tf.keras.layers.Dense(10, activation='relu'),\n",
    "\ttf.keras.layers.Dense(len(np.unique(train_y)), activation='sigmoid'),\n",
    "])\n",
    "model.compile(\n",
    "\toptimizer='adam',\n",
    "\tloss='sparse_categorical_crossentropy',\n",
    "\tmetrics=['acc']\n",
    ")\n",
    "history = model.fit(\n",
    "\ttrain_x,\n",
    "\ttrain_y,\n",
    "\tepochs=10,\n",
    "\tvalidation_data=(test_x, test_y),\n",
    "\t# validation_split = 0.8,\n",
    ")"
   ]
  },
  {
   "cell_type": "code",
   "execution_count": 282,
   "metadata": {},
   "outputs": [
    {
     "data": {
      "image/png": "[encoded data removed]",
      "text/plain": [
       "<Figure size 640x480 with 1 Axes>"
      ]
     },
     "metadata": {},
     "output_type": "display_data"
    },
    {
     "data": {
      "image/png": "[encoded data removed]",
      "text/plain": [
       "<Figure size 640x480 with 1 Axes>"
      ]
     },
     "metadata": {},
     "output_type": "display_data"
    }
   ],
   "source": [
    "history = history.history\n",
    "plt.plot(history['acc'])\n",
    "plt.plot(history['val_acc'])\n",
    "plt.show()\n",
    "plt.plot(history['loss'])\n",
    "plt.plot(history['val_loss'])\n",
    "plt.show()"
   ]
  },
  {
   "cell_type": "code",
   "execution_count": 283,
   "metadata": {},
   "outputs": [
    {
     "name": "stdout",
     "output_type": "stream",
     "text": [
      "23/23 [==============================] - 0s 1ms/step - loss: 3.6410 - acc: 0.1946\n"
     ]
    },
    {
     "data": {
      "text/plain": [
       "[3.6410067081451416, 0.1945578157901764]"
      ]
     },
     "execution_count": 283,
     "metadata": {},
     "output_type": "execute_result"
    }
   ],
   "source": [
    "model.evaluate(test_x, test_y)"
   ]
  },
  {
   "cell_type": "code",
   "execution_count": 284,
   "metadata": {},
   "outputs": [
    {
     "name": "stdout",
     "output_type": "stream",
     "text": [
      "1/1 [==============================] - 0s 72ms/step\n",
      "False business politics\n",
      "chancellor rallies labour voters gordon brown has issued a rallying cry  telling supporters the  stakes are too high  to stay at home or protest vote in the forthcoming general election.  the chancellor said the vote - expected to fall on 5 may - will give a  clear and fundamental  choice between labour investment and conservative cuts. speaking at labour s spring conference in gateshead  mr brown claimed the nhs was not safe in conservative hands. he said tory plans to cut £35bn tax would  cut deep into public service .  to a packed audience at gateshead s sage centre  the chancellor said the cuts proposed by shadow chancellor oliver letwin were the equivalent of sacking every teacher  gp and nurse in the country  he told activists. laying into the conservative s record in government he said:  i give you this promise - with labour  britain will never return to the mistakes of erm and 10% inflation  15% interest rates  £3bn in lost reserves  250 000 repossessed  one million in negative equity and three million unemployed.  never again tory boom and bust.   this will be the central dividing line at the election  between a conservative party taking britain back and planning deep cuts of £35bn in our services  and a labour government taking britain forward  which on a platform of stability will reform and renew our hospitals  schools and public services and  i am proud to say  spend by 2008 £60bn more.  turning to the economy  the chancellor pledged to continue economic stability and growth in a third term in power.  he said after seven years labour had transformed from a party not trusted with the economy to  the only party trusted with the economy . it was now a  party not just of employees  but of employers and managers   he said. in the speech - which prompted a standing ovation from an audience clearly  warm  to mr brown - he also promised to end teenage unemployment within the next five years. he also highlighted plans for 100% debt relief for the world s poorest countries  a national minimum wage for 16 and 17-year-olds and the creation of a network of children s centres and flexibility in maternity leave. the prime minister is to take part later on saturday in an interactive question and answer session  fielding queries sent in by e-mail  text message and telephone as part of labour s attempt to engage the public in their campaign.\n"
     ]
    }
   ],
   "source": [
    "i = np.random.randint(0, len(test_y))\n",
    "\n",
    "orig = le.classes_[test_y[i]]\n",
    "pred = le.classes_[np.argmax(model.predict(test_x[i:i+1]))]\n",
    "\n",
    "print(orig == pred, orig, pred)\n",
    "print(test_df.Text[i])"
   ]
  },
  {
   "cell_type": "code",
   "execution_count": null,
   "metadata": {},
   "outputs": [],
   "source": []
  }
 ],
 "metadata": {
  "kernelspec": {
   "display_name": "Python 3",
   "language": "python",
   "name": "python3"
  },
  "language_info": {
   "codemirror_mode": {
    "name": "ipython",
    "version": 3
   },
   "file_extension": ".py",
   "mimetype": "text/x-python",
   "name": "python",
   "nbconvert_exporter": "python",
   "pygments_lexer": "ipython3",
   "version": "3.10.9 (tags/v3.10.9:1dd9be6, Dec  6 2022, 20:01:21) [MSC v.1934 64 bit (AMD64)]"
  },
  "orig_nbformat": 4,
  "vscode": {
   "interpreter": {
    "hash": "2407659e7e7968990f76a627cce7446618739ede0dc4bbd0e9edff98f921e070"
   }
  }
 },
 "nbformat": 4,
 "nbformat_minor": 2
}
